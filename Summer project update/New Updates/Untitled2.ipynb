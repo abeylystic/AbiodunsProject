{
 "cells": [
  {
   "cell_type": "code",
   "execution_count": 2,
   "id": "b39a33e3",
   "metadata": {},
   "outputs": [
    {
     "data": {
      "text/plain": [
       "array([1.53646739])"
      ]
     },
     "execution_count": 2,
     "metadata": {},
     "output_type": "execute_result"
    }
   ],
   "source": [
    "from scipy.optimize import fsolve\n",
    "\n",
    "# Define the equation to solve based on the summation\n",
    "def equation_for_n(n):\n",
    "    return 2*n**5 + 4*n**4 + 10*n**3 + 6*n**2 + 4*n - 96\n",
    "\n",
    "# Use fsolve to find the root, starting with an initial guess of n=2\n",
    "n_value = fsolve(equation_for_n, 2)\n",
    "\n",
    "n_value\n"
   ]
  },
  {
   "cell_type": "code",
   "execution_count": 3,
   "id": "fc5b16f1",
   "metadata": {},
   "outputs": [
    {
     "data": {
      "text/plain": [
       "array([96.])"
      ]
     },
     "execution_count": 3,
     "metadata": {},
     "output_type": "execute_result"
    }
   ],
   "source": [
    "# Define n based on the solution\n",
    "n = n_value\n",
    "\n",
    "# Calculate D_k using the equation provided\n",
    "D_k_value = 2*n**5 + 4*n**4 + 10*n**3 + 6*n**2 + 4*n\n",
    "\n",
    "D_k_value\n"
   ]
  },
  {
   "cell_type": "code",
   "execution_count": null,
   "id": "c8406857",
   "metadata": {},
   "outputs": [],
   "source": []
  }
 ],
 "metadata": {
  "kernelspec": {
   "display_name": "Python 3 (ipykernel)",
   "language": "python",
   "name": "python3"
  },
  "language_info": {
   "codemirror_mode": {
    "name": "ipython",
    "version": 3
   },
   "file_extension": ".py",
   "mimetype": "text/x-python",
   "name": "python",
   "nbconvert_exporter": "python",
   "pygments_lexer": "ipython3",
   "version": "3.11.8"
  }
 },
 "nbformat": 4,
 "nbformat_minor": 5
}
