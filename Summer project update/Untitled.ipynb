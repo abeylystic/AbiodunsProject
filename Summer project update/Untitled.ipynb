{
 "cells": [
  {
   "cell_type": "code",
   "execution_count": 1,
   "id": "c07fa270",
   "metadata": {},
   "outputs": [
    {
     "name": "stdout",
     "output_type": "stream",
     "text": [
      "   Value  Cluster_B  Cluster_C\n",
      "0      1          0          0\n",
      "1      2          1          0\n",
      "2      3          0          1\n",
      "3      4          0          0\n",
      "4      5          1          0\n",
      "5      6          0          1\n"
     ]
    }
   ],
   "source": [
    "import pandas as pd\n",
    "\n",
    "# Sample DataFrame\n",
    "df = pd.DataFrame({\n",
    "    'Cluster': ['A', 'B', 'C', 'A', 'B', 'C'],\n",
    "    'Value': [1, 2, 3, 4, 5, 6]\n",
    "})\n",
    "\n",
    "# Create dummy variables for 'Cluster' column, dropping the first category\n",
    "df_dummies = pd.get_dummies(df['Cluster'], prefix='Cluster', drop_first=True)\n",
    "\n",
    "# Combine the dummy variables with the original DataFrame\n",
    "df = pd.concat([df, df_dummies], axis=1)\n",
    "\n",
    "# Drop the original 'Cluster' column if no longer needed\n",
    "df.drop('Cluster', axis=1, inplace=True)\n",
    "\n",
    "print(df)\n"
   ]
  },
  {
   "cell_type": "code",
   "execution_count": null,
   "id": "7417bced",
   "metadata": {},
   "outputs": [],
   "source": []
  }
 ],
 "metadata": {
  "kernelspec": {
   "display_name": "Python 3 (ipykernel)",
   "language": "python",
   "name": "python3"
  },
  "language_info": {
   "codemirror_mode": {
    "name": "ipython",
    "version": 3
   },
   "file_extension": ".py",
   "mimetype": "text/x-python",
   "name": "python",
   "nbconvert_exporter": "python",
   "pygments_lexer": "ipython3",
   "version": "3.11.0"
  }
 },
 "nbformat": 4,
 "nbformat_minor": 5
}
