{
 "cells": [
  {
   "cell_type": "code",
   "execution_count": 1,
   "id": "fadc36d6",
   "metadata": {},
   "outputs": [
    {
     "name": "stderr",
     "output_type": "stream",
     "text": [
      "C:\\Users\\abiodun.idowu\\Anaconda3\\envs\\python37\\lib\\site-packages\\geopandas\\_compat.py:115: UserWarning: The Shapely GEOS version (3.4.3-CAPI-1.8.3 r4285) is incompatible with the GEOS version PyGEOS was compiled with (3.10.4-CAPI-1.16.2). Conversions between both will be slow.\n",
      "  shapely_geos_version, geos_capi_version_string\n",
      "C:\\Users\\abiodun.idowu\\Anaconda3\\envs\\python37\\lib\\site-packages\\outdated\\utils.py:18: OutdatedPackageWarning: The package outdated is out of date. Your version is 0.2.1, the latest is 0.2.2.\n",
      "Set the environment variable OUTDATED_IGNORE=1 to disable these warnings.\n",
      "  **kwargs\n",
      "C:\\Users\\abiodun.idowu\\Anaconda3\\envs\\python37\\lib\\site-packages\\outdated\\utils.py:18: OutdatedPackageWarning: The package pingouin is out of date. Your version is 0.5.2, the latest is 0.5.4.\n",
      "Set the environment variable OUTDATED_IGNORE=1 to disable these warnings.\n",
      "  **kwargs\n",
      "C:\\Users\\abiodun.idowu\\Anaconda3\\envs\\python37\\lib\\site-packages\\tqdm\\auto.py:22: TqdmWarning: IProgress not found. Please update jupyter and ipywidgets. See https://ipywidgets.readthedocs.io/en/stable/user_install.html\n",
      "  from .autonotebook import tqdm as notebook_tqdm\n"
     ]
    }
   ],
   "source": [
    "import pandas as pd\n",
    "import numpy as np\n",
    "import matplotlib.pyplot as plt\n",
    "import geopandas\n",
    "import os\n",
    "import pingouin\n",
    "import datapungibea as dpb\n",
    "from matplotlib.patches import ArrowStyle\n",
    "import copy\n",
    "from matplotlib.backends.backend_pdf import PdfPages\n",
    "import networkx as nx\n",
    "from pgmpy.estimators import PC\n",
    "import statsmodels.api as sm\n",
    "import plotly.express as px\n",
    "from sklearn.linear_model import LinearRegression\n",
    "import seaborn as sns\n",
    "import random\n",
    "from sklearn.cluster import KMeans\n",
    "from sklearn.preprocessing import StandardScaler\n",
    "from sklearn.metrics import silhouette_score\n",
    "from PIL import Image\n",
    "from sklearn.model_selection import train_test_split\n",
    "from sklearn.linear_model import LogisticRegression, RidgeClassifier\n",
    "from sklearn.ensemble import RandomForestClassifier\n",
    "import xgboost as xgb\n",
    "from sklearn.metrics import mean_squared_error, accuracy_score\n",
    "from statsmodels.discrete.discrete_model import Logit\n",
    "from networkx.drawing.nx_agraph import graphviz_layout\n",
    "from collections import defaultdict\n",
    "import math\n"
   ]
  },
  {
   "cell_type": "code",
   "execution_count": 2,
   "id": "3f61d8a1",
   "metadata": {},
   "outputs": [],
   "source": [
    "from abbeyFunctions import graph_DAG, create_cluster_dags, determine_p_value, graph_DAG_cluster, get_edges_dict, get_col_shared_edges, get_row_shared_edges, plot_shared_col_edges, plot_shared_row_edges"
   ]
  },
  {
   "cell_type": "code",
   "execution_count": 3,
   "id": "3a11e1a9",
   "metadata": {},
   "outputs": [],
   "source": [
    "ai_data_nominal = pd.read_csv('nominal_data.csv')"
   ]
  },
  {
   "cell_type": "code",
   "execution_count": 4,
   "id": "d383c2e7",
   "metadata": {},
   "outputs": [],
   "source": [
    "ai_data_real = pd.read_csv('real_data.csv')"
   ]
  },
  {
   "cell_type": "code",
   "execution_count": 5,
   "id": "a3a5d75f",
   "metadata": {},
   "outputs": [],
   "source": [
    "ai_data_nominal = ai_data_nominal.set_index(['FIPS_y', 'TimePeriod'])"
   ]
  },
  {
   "cell_type": "code",
   "execution_count": 6,
   "id": "0cf48ba8",
   "metadata": {},
   "outputs": [],
   "source": [
    "ai_data_real = ai_data_real.set_index(['FIPS_y', 'TimePeriod'])"
   ]
  },
  {
   "cell_type": "code",
   "execution_count": 7,
   "id": "ae5b7a98",
   "metadata": {},
   "outputs": [
    {
     "name": "stderr",
     "output_type": "stream",
     "text": [
      "C:\\Users\\abiodun.idowu\\Anaconda3\\envs\\python37\\lib\\site-packages\\pandas\\core\\arraylike.py:364: RuntimeWarning: divide by zero encountered in log\n",
      "  result = getattr(ufunc, method)(*inputs, **kwargs)\n",
      "C:\\Users\\abiodun.idowu\\Anaconda3\\envs\\python37\\lib\\site-packages\\pandas\\core\\arraylike.py:364: RuntimeWarning: invalid value encountered in log\n",
      "  result = getattr(ufunc, method)(*inputs, **kwargs)\n"
     ]
    }
   ],
   "source": [
    "exclude_vars = ['M4 I','RM4I', 'unem']  # List of variables to exclude\n",
    "\n",
    "# Create a dictionary to store the dataframes\n",
    "ai_dct = {\"logged_n\": ai_data_nominal.copy(), \"logged_r\": ai_data_real.copy(), \n",
    "          \"rates_n\": ai_data_nominal.copy(), \"rates_r\": ai_data_real.copy(),\n",
    "         \"percent rates_n\": ai_data_nominal.copy(), \n",
    "          \"percent rates_r\": ai_data_real.copy()}\n",
    "\n",
    "        \n",
    "for col in ai_dct['logged_n'].columns:\n",
    "    if col not in exclude_vars:\n",
    "        ai_dct[\"logged_n\"][col] = np.log(ai_data_nominal[col]).replace([np.inf, -np.inf], np.nan)\n",
    "\n",
    "for col in ai_dct['logged_r'].columns:\n",
    "    if col not in exclude_vars:\n",
    "        ai_dct[\"logged_r\"][col] = np.log(ai_data_real[col]).replace([np.inf, -np.inf], np.nan)\n",
    "\n",
    "\n",
    "# Calculate rate of change (differences of log-transformed values)\n",
    "for col in ai_dct['rates_n'].columns:\n",
    "    if col not in exclude_vars:\n",
    "        ai_dct[\"rates_n\"][col] = ai_dct[\"logged_n\"].groupby('FIPS_y')[col].diff().dropna()\n",
    "        \n",
    "        \n",
    "\n",
    "for col in ai_dct['rates_r'].columns:\n",
    "    if col not in exclude_vars:\n",
    "        ai_dct[\"rates_r\"][col] = ai_dct[\"logged_r\"].groupby('FIPS_y')[col].diff().dropna()\n",
    "        \n",
    "        \n",
    "        # Calculate percent rate of change\n",
    "for col in ai_dct['percent rates_n'].columns:\n",
    "    #if col not in exclude_vars:\n",
    "        ai_dct[\"percent rates_n\"][col] = ai_dct[\"rates_n\"].groupby('FIPS_y')[col].diff().dropna()\n",
    "\n",
    "        \n",
    "        \n",
    "for col in ai_dct['percent rates_r'].columns:\n",
    "    #if col not in exclude_vars:\n",
    "        ai_dct[\"percent rates_r\"][col] = ai_dct[\"rates_r\"].groupby('FIPS_y')[col].diff().dropna()\n",
    "\n",
    "        \n",
    "        "
   ]
  },
  {
   "cell_type": "code",
   "execution_count": 8,
   "id": "dbe849ab",
   "metadata": {},
   "outputs": [],
   "source": [
    "nominal = ai_dct['rates_n']"
   ]
  },
  {
   "cell_type": "code",
   "execution_count": 9,
   "id": "f1d9ba78",
   "metadata": {},
   "outputs": [],
   "source": [
    "nominal.drop(columns=['All ', 'Neig'], inplace=True)"
   ]
  },
  {
   "cell_type": "code",
   "execution_count": null,
   "id": "1a622256",
   "metadata": {},
   "outputs": [],
   "source": []
  },
  {
   "cell_type": "code",
   "execution_count": 10,
   "id": "79209de7",
   "metadata": {},
   "outputs": [],
   "source": [
    "diff_nominal = ai_dct['percent rates_n']"
   ]
  },
  {
   "cell_type": "code",
   "execution_count": 11,
   "id": "23960aee",
   "metadata": {},
   "outputs": [],
   "source": [
    "diff_nominal.drop(columns=['All ', 'Neig'], inplace=True)"
   ]
  },
  {
   "cell_type": "code",
   "execution_count": null,
   "id": "4f7b1490",
   "metadata": {},
   "outputs": [],
   "source": []
  },
  {
   "cell_type": "code",
   "execution_count": 12,
   "id": "bd68650d",
   "metadata": {},
   "outputs": [],
   "source": [
    "real = ai_dct['rates_r']"
   ]
  },
  {
   "cell_type": "code",
   "execution_count": 13,
   "id": "38a49abb",
   "metadata": {},
   "outputs": [],
   "source": [
    "real.drop(columns=['All ', 'Neig'], inplace=True)"
   ]
  },
  {
   "cell_type": "code",
   "execution_count": null,
   "id": "fafd1dd8",
   "metadata": {},
   "outputs": [],
   "source": []
  },
  {
   "cell_type": "code",
   "execution_count": 14,
   "id": "6e849576",
   "metadata": {},
   "outputs": [],
   "source": [
    "diff_real = ai_dct['percent rates_r']"
   ]
  },
  {
   "cell_type": "code",
   "execution_count": null,
   "id": "387a4f37",
   "metadata": {},
   "outputs": [],
   "source": []
  },
  {
   "cell_type": "code",
   "execution_count": 15,
   "id": "aa821ca9",
   "metadata": {},
   "outputs": [],
   "source": [
    "diff_real.drop(columns=['All ', 'Neig'], inplace=True)"
   ]
  },
  {
   "cell_type": "code",
   "execution_count": null,
   "id": "70926cb4",
   "metadata": {},
   "outputs": [],
   "source": []
  },
  {
   "cell_type": "code",
   "execution_count": 16,
   "id": "b61e6bdc",
   "metadata": {},
   "outputs": [],
   "source": [
    "# nominal.to_csv('nominal.csv', index=True)\n",
    "# diff_nominal.to_csv('diff_nominal.csv', index=True)\n",
    "# real.to_csv('real.csv', index=True)\n",
    "# diff_real.to_csv('diff_real.csv', index=True)"
   ]
  },
  {
   "cell_type": "code",
   "execution_count": null,
   "id": "ec6b1dae",
   "metadata": {},
   "outputs": [],
   "source": []
  },
  {
   "cell_type": "code",
   "execution_count": 17,
   "id": "647ead3e",
   "metadata": {},
   "outputs": [],
   "source": [
    "ai_df_nom = pd.read_csv('nominal_kml3d.csv')\n",
    "\n",
    "ai_df_diffnom = pd.read_csv('diff_nominal_kml3d.csv')\n",
    "\n",
    "ai_df_real = pd.read_csv('real_kml3d.csv')\n",
    "\n",
    "ai_df_diffreal = pd.read_csv('diff_real_kml3d.csv')"
   ]
  },
  {
   "cell_type": "code",
   "execution_count": null,
   "id": "d3214ae9",
   "metadata": {},
   "outputs": [],
   "source": []
  },
  {
   "cell_type": "code",
   "execution_count": 18,
   "id": "f7774baa",
   "metadata": {},
   "outputs": [],
   "source": [
    "level_11 = ai_df_nom\n",
    "\n",
    "level_12 = ai_df_diffnom\n",
    "\n",
    "level_21 = ai_df_real\n",
    "\n",
    "level_22 = ai_df_diffreal"
   ]
  },
  {
   "cell_type": "code",
   "execution_count": null,
   "id": "812e9084",
   "metadata": {},
   "outputs": [],
   "source": []
  },
  {
   "cell_type": "code",
   "execution_count": 19,
   "id": "ee71d5a1",
   "metadata": {},
   "outputs": [],
   "source": [
    "dfg_ai11 = nominal.dropna()\n",
    "\n",
    "dfg_ai12 = diff_nominal.dropna()\n",
    "\n",
    "dfg_ai21 = real.dropna()\n",
    "\n",
    "dfg_ai22 = diff_real.dropna()"
   ]
  },
  {
   "cell_type": "code",
   "execution_count": null,
   "id": "55a40d65",
   "metadata": {},
   "outputs": [],
   "source": []
  },
  {
   "cell_type": "code",
   "execution_count": 20,
   "id": "d4839ec3",
   "metadata": {},
   "outputs": [],
   "source": [
    "ai_merge11 = pd.merge(dfg_ai11, level_11[['FIPS_y', 'clusters']], on='FIPS_y', how='left')"
   ]
  },
  {
   "cell_type": "code",
   "execution_count": 21,
   "id": "39cbe622",
   "metadata": {},
   "outputs": [],
   "source": [
    "ai_merge12 = pd.merge(dfg_ai12, level_12[['FIPS_y', 'clusters']], on='FIPS_y', how='left')"
   ]
  },
  {
   "cell_type": "code",
   "execution_count": 22,
   "id": "d466e80c",
   "metadata": {},
   "outputs": [],
   "source": [
    "ai_merge21 = pd.merge(dfg_ai21, level_21[['FIPS_y', 'clusters']], on='FIPS_y', how='left')"
   ]
  },
  {
   "cell_type": "code",
   "execution_count": 23,
   "id": "da5355e1",
   "metadata": {},
   "outputs": [],
   "source": [
    "ai_merge22 = pd.merge(dfg_ai22, level_22[['FIPS_y', 'clusters']], on='FIPS_y', how='left')"
   ]
  },
  {
   "cell_type": "code",
   "execution_count": null,
   "id": "d913f232",
   "metadata": {},
   "outputs": [],
   "source": []
  },
  {
   "cell_type": "code",
   "execution_count": null,
   "id": "0c426754",
   "metadata": {},
   "outputs": [],
   "source": []
  },
  {
   "cell_type": "code",
   "execution_count": 24,
   "id": "e17c6447",
   "metadata": {},
   "outputs": [],
   "source": [
    "kml3d_ai_level11 = ai_merge11.dropna()"
   ]
  },
  {
   "cell_type": "code",
   "execution_count": 25,
   "id": "f1de4ab6",
   "metadata": {},
   "outputs": [],
   "source": [
    "kml3d_ai_level12 = ai_merge12.dropna()"
   ]
  },
  {
   "cell_type": "code",
   "execution_count": 26,
   "id": "f31ccef4",
   "metadata": {},
   "outputs": [],
   "source": [
    "kml3d_ai_level21 = ai_merge21.dropna()"
   ]
  },
  {
   "cell_type": "code",
   "execution_count": 27,
   "id": "8db89c06",
   "metadata": {},
   "outputs": [],
   "source": [
    "kml3d_ai_level22 = ai_merge22.dropna()"
   ]
  },
  {
   "cell_type": "code",
   "execution_count": null,
   "id": "3322d0af",
   "metadata": {},
   "outputs": [],
   "source": []
  },
  {
   "cell_type": "code",
   "execution_count": 28,
   "id": "eacff355",
   "metadata": {},
   "outputs": [],
   "source": [
    "kml3d_ai_level11 = kml3d_ai_level11.set_index(['FIPS_y'])"
   ]
  },
  {
   "cell_type": "code",
   "execution_count": 29,
   "id": "d3cd7cd7",
   "metadata": {},
   "outputs": [],
   "source": [
    "kml3d_ai_level12 = kml3d_ai_level12.set_index(['FIPS_y'])"
   ]
  },
  {
   "cell_type": "code",
   "execution_count": 30,
   "id": "43aafd43",
   "metadata": {},
   "outputs": [],
   "source": [
    "kml3d_ai_level21 = kml3d_ai_level21.set_index(['FIPS_y'])"
   ]
  },
  {
   "cell_type": "code",
   "execution_count": 31,
   "id": "4f46072a",
   "metadata": {},
   "outputs": [],
   "source": [
    "kml3d_ai_level22 = kml3d_ai_level22.set_index(['FIPS_y'])"
   ]
  },
  {
   "cell_type": "code",
   "execution_count": null,
   "id": "35c3bf3f",
   "metadata": {},
   "outputs": [],
   "source": []
  },
  {
   "cell_type": "code",
   "execution_count": 32,
   "id": "18c08cc2",
   "metadata": {},
   "outputs": [],
   "source": [
    "cluster_mapping = {'A': 1, 'B': 2, 'C': 3, 'D': 4}"
   ]
  },
  {
   "cell_type": "code",
   "execution_count": null,
   "id": "186501c8",
   "metadata": {},
   "outputs": [],
   "source": []
  },
  {
   "cell_type": "code",
   "execution_count": 33,
   "id": "afae3734",
   "metadata": {},
   "outputs": [],
   "source": [
    "kml3d_ai_level11['clusters'].replace(cluster_mapping, inplace=True)"
   ]
  },
  {
   "cell_type": "code",
   "execution_count": 34,
   "id": "986b3a0f",
   "metadata": {},
   "outputs": [],
   "source": [
    "kml3d_ai_level12['clusters'].replace(cluster_mapping, inplace=True)"
   ]
  },
  {
   "cell_type": "code",
   "execution_count": 35,
   "id": "b5895cf4",
   "metadata": {},
   "outputs": [],
   "source": [
    "kml3d_ai_level21['clusters'].replace(cluster_mapping, inplace=True)"
   ]
  },
  {
   "cell_type": "code",
   "execution_count": 36,
   "id": "5c60c94b",
   "metadata": {},
   "outputs": [],
   "source": [
    "kml3d_ai_level22['clusters'].replace(cluster_mapping, inplace=True)"
   ]
  },
  {
   "cell_type": "code",
   "execution_count": 37,
   "id": "a0b1d0a1",
   "metadata": {},
   "outputs": [],
   "source": [
    "nr_11 = kml3d_ai_level11\n",
    "ndr_13 = kml3d_ai_level12\n",
    "rr_21 = kml3d_ai_level21\n",
    "rdr_23 = kml3d_ai_level22"
   ]
  },
  {
   "cell_type": "code",
   "execution_count": 38,
   "id": "1f0ce77d",
   "metadata": {},
   "outputs": [],
   "source": [
    "nr_12 = nr_11.copy()\n",
    "ndr_14 = ndr_13.copy()\n",
    "rr_22 = rr_21.copy()\n",
    "rdr_24 = rdr_23.copy()"
   ]
  },
  {
   "cell_type": "code",
   "execution_count": 39,
   "id": "d47166e8",
   "metadata": {},
   "outputs": [
    {
     "data": {
      "text/plain": [
       "Index(['Agri', 'Mini', 'Util', 'RM4_', 'RM4I', 'unem', 'clusters'], dtype='object')"
      ]
     },
     "execution_count": 39,
     "metadata": {},
     "output_type": "execute_result"
    }
   ],
   "source": [
    "rr_22.columns"
   ]
  },
  {
   "cell_type": "code",
   "execution_count": 40,
   "id": "621f2116",
   "metadata": {},
   "outputs": [],
   "source": [
    "nr_12.drop(columns=['M4_y', 'M4 I'], inplace=True)\n",
    "ndr_14.drop(columns=['M4_y', 'M4 I'], inplace=True)\n",
    "\n",
    "rr_22.drop(columns=['RM4_', 'RM4I'], inplace=True)\n",
    "rdr_24.drop(columns=['RM4_', 'RM4I'], inplace=True)"
   ]
  },
  {
   "cell_type": "code",
   "execution_count": 41,
   "id": "7a98bef6",
   "metadata": {},
   "outputs": [],
   "source": [
    "nr_15 = nr_11.copy()\n",
    "ndr_16 = ndr_13.copy()\n",
    "\n",
    "rr_25 = rr_21.copy()\n",
    "rdr_26 = rdr_23.copy()"
   ]
  },
  {
   "cell_type": "code",
   "execution_count": 42,
   "id": "0559e09c",
   "metadata": {},
   "outputs": [
    {
     "data": {
      "text/plain": [
       "Index(['Agri', 'Mini', 'Util', 'RM4_', 'RM4I', 'unem', 'clusters'], dtype='object')"
      ]
     },
     "execution_count": 42,
     "metadata": {},
     "output_type": "execute_result"
    }
   ],
   "source": [
    "rdr_26.columns"
   ]
  },
  {
   "cell_type": "code",
   "execution_count": 43,
   "id": "89edfb4b",
   "metadata": {},
   "outputs": [],
   "source": [
    "nr_15.drop(columns=['unem'], inplace=True)\n",
    "ndr_16.drop(columns=['unem'], inplace=True)\n",
    "rr_25.drop(columns=['unem'], inplace=True)\n",
    "rdr_26.drop(columns=['unem'], inplace=True)"
   ]
  },
  {
   "cell_type": "code",
   "execution_count": null,
   "id": "796f55b5",
   "metadata": {},
   "outputs": [],
   "source": []
  },
  {
   "cell_type": "code",
   "execution_count": null,
   "id": "2b686512",
   "metadata": {},
   "outputs": [],
   "source": []
  },
  {
   "cell_type": "code",
   "execution_count": 44,
   "id": "9a46c2f7",
   "metadata": {},
   "outputs": [],
   "source": [
    "plot_df2 = nominal.copy()\n",
    "plot_df3 = nominal.copy()\n",
    "plot_df5 = diff_nominal.copy()\n",
    "plot_df6 = diff_nominal.copy()\n",
    "plot_df8 = real.copy()\n",
    "plot_df9 = real.copy()\n",
    "plot_df11 = diff_real.copy()\n",
    "plot_df12 = diff_real.copy()"
   ]
  },
  {
   "cell_type": "code",
   "execution_count": null,
   "id": "03609374",
   "metadata": {},
   "outputs": [],
   "source": []
  },
  {
   "cell_type": "code",
   "execution_count": null,
   "id": "830e989e",
   "metadata": {},
   "outputs": [],
   "source": []
  },
  {
   "cell_type": "code",
   "execution_count": null,
   "id": "fcf6b180",
   "metadata": {},
   "outputs": [],
   "source": []
  },
  {
   "cell_type": "code",
   "execution_count": null,
   "id": "901ffefc",
   "metadata": {},
   "outputs": [],
   "source": []
  },
  {
   "cell_type": "code",
   "execution_count": 45,
   "id": "24535318",
   "metadata": {},
   "outputs": [],
   "source": [
    "plot_df1 = nominal.dropna()\n",
    "plot_df2.drop(columns=['M4_y', 'M4 I'], inplace=True)\n",
    "plot_df3.drop(columns=['unem'], inplace=True)\n",
    "\n",
    "plot_df4 = diff_nominal.dropna()\n",
    "plot_df5.drop(columns=['M4_y', 'M4 I'], inplace=True)\n",
    "plot_df6.drop(columns=['unem'], inplace=True)\n",
    "\n",
    "plot_df7 = real.dropna()\n",
    "plot_df8.drop(columns=['RM4_', 'RM4I'], inplace=True)\n",
    "plot_df9.drop(columns=['unem'], inplace=True)\n",
    "\n",
    "plot_df10 = diff_real.dropna()\n",
    "plot_df11.drop(columns=['RM4_', 'RM4I'], inplace=True)\n",
    "plot_df12.drop(columns=['unem'], inplace=True)"
   ]
  },
  {
   "cell_type": "code",
   "execution_count": 46,
   "id": "a692e39d",
   "metadata": {},
   "outputs": [],
   "source": [
    "plot_df1 = plot_df1.dropna()\n",
    "plot_df2 = plot_df2.dropna()\n",
    "plot_df3 = plot_df3.dropna()\n",
    "plot_df4 = plot_df4.dropna()\n",
    "plot_df5 = plot_df5.dropna()\n",
    "plot_df6 = plot_df6.dropna()\n",
    "plot_df7 = plot_df7.dropna()\n",
    "plot_df8 = plot_df8.dropna()\n",
    "plot_df9 = plot_df9.dropna()\n",
    "plot_df10 = plot_df10.dropna()\n",
    "plot_df11 = plot_df11.dropna()\n",
    "plot_df12 = plot_df12.dropna()"
   ]
  },
  {
   "cell_type": "code",
   "execution_count": null,
   "id": "00fd0466",
   "metadata": {},
   "outputs": [],
   "source": []
  },
  {
   "cell_type": "markdown",
   "id": "1156c832",
   "metadata": {},
   "source": [
    "### DAGs representing nominal rates and real rates:\n",
    "\n",
    "Where;\n",
    "\n",
    "nr_11 represents nominal rates with all variables (except neighbor's GDP and total GDP),\n",
    "\n",
    "nr_12 nominal rates (without macroeconomic variables)\n",
    "\n",
    "nr_15 nominal rates (without unemployment rates)\n",
    "\n",
    "rr_21 represents real rates with all variables (except neighbor's GDP and total GDP), and\n",
    "\n",
    "rr_22 real rates (without macroeconomic variables)\n",
    "\n",
    "rr_25 represents real rates without unemployment rates"
   ]
  },
  {
   "cell_type": "markdown",
   "id": "c7b2bc9a",
   "metadata": {},
   "source": [
    "### DAGs representing first difference rates\n",
    "\n",
    "Where;\n",
    "\n",
    "ndr_13 represents differenced nominal rates with all variables (except neighbor and total GDP),\n",
    "\n",
    "ndr_14 differenced nominal rates (without macro variables)\n",
    "\n",
    "ndr_16 differenced nominal rates (witout unemployment rates)\n",
    "\n",
    "rr_23 represents differenced real rates with all variables (except neighbor and total GDP), and\n",
    "\n",
    "rr_24 represents differenced real rates without M4 and interest rates and without neighbor and total GDP\n",
    "\n",
    "rr_24 differenced real rates without unemployment rates"
   ]
  },
  {
   "cell_type": "code",
   "execution_count": null,
   "id": "0432a079",
   "metadata": {},
   "outputs": [],
   "source": []
  },
  {
   "cell_type": "code",
   "execution_count": 47,
   "id": "441c6a9e",
   "metadata": {},
   "outputs": [],
   "source": [
    "def all_results(dfs, name, folder, show=True):\n",
    "    try:\n",
    "        os.mkdir(folder)\n",
    "    except FileExistsError:\n",
    "        pass\n",
    "\n",
    "    # Specify the absolute path for the output PDF file\n",
    "    pdf_file_path = f\"{folder}/{name}.pdf\"\n",
    "    pp = PdfPages(pdf_file_path)\n",
    "\n",
    "    # Create a grid for the subplots\n",
    "    fig, axes = plt.subplots(4, len(dfs), figsize=(5*len(dfs), 30))\n",
    "\n",
    "    # Different PC algorithms to test\n",
    "    algorithms = [\"orig\"]\n",
    "\n",
    "    # Iterate over each dataframe\n",
    "    for idx, dataframe in enumerate(dfs):\n",
    "        # Get clustered dataframes for the current dataframe\n",
    "        clustered_dfs = create_cluster_dags(dataframe)\n",
    "\n",
    "        # Iterate over clustered dataframes and determine p-values dynamically\n",
    "        for cluster_idx, cluster_df in enumerate(clustered_dfs):\n",
    "            n = cluster_df.shape[0]  # Number of observations for the current cluster\n",
    "            p_value = determine_p_value(n)\n",
    "\n",
    "            # Iterate over different PC algorithms\n",
    "            for algorithm in algorithms:\n",
    "                c = PC(cluster_df)\n",
    "                model = c.estimate(return_type='pdag', variant=algorithm, significance_level=p_value, ci_test='pearsonr')\n",
    "                edges = model.edges\n",
    "\n",
    "                # Create DAG for the current cluster, p-value, and algorithm using the modified graph_DAG function\n",
    "                graph_DAG_cluster(edges, cluster_df, title=f'Dataframe {idx + 1} - Cluster {cluster_idx + 1} - p_value = {p_value}\\nnum_observations={n}'\n",
    "                          , algorithm=algorithm, ax=axes[cluster_idx, idx])\n",
    "\n",
    "    # Save the figure to the PDF\n",
    "    pp.savefig(fig, bbox_inches='tight')\n",
    "\n",
    "    plt.close()    \n",
    "\n",
    "    if show:\n",
    "        plt.show()\n",
    "\n",
    "        \n",
    "    # Create and save plots for shared edges\n",
    "    edges_dct = get_edges_dict(dfs)\n",
    "    col_shared_edges=get_col_shared_edges(edges_dct)\n",
    "    row_shared_edges=get_row_shared_edges(edges_dct)\n",
    "    plot_shared_col_edges(col_shared_edges, name, folder)\n",
    "    plot_shared_row_edges(row_shared_edges, name, folder)\n",
    "\n",
    "    \n",
    "    \n",
    "    pp.close()\n"
   ]
  },
  {
   "cell_type": "code",
   "execution_count": null,
   "id": "6b6436e0",
   "metadata": {},
   "outputs": [],
   "source": []
  },
  {
   "cell_type": "code",
   "execution_count": 48,
   "id": "c55bd5e5",
   "metadata": {},
   "outputs": [
    {
     "name": "stderr",
     "output_type": "stream",
     "text": [
      "Working for n conditional variables: 5: 100%|████████████████████████████████████████████| 5/5 [00:00<00:00, 14.73it/s]\n",
      "Working for n conditional variables: 5: 100%|████████████████████████████████████████████| 5/5 [00:00<00:00, 41.60it/s]\n",
      "Working for n conditional variables: 5: 100%|████████████████████████████████████████████| 5/5 [00:00<00:00, 87.30it/s]\n",
      "Working for n conditional variables: 4:  80%|██████████████████████████████████▍        | 4/5 [00:00<00:00, 121.93it/s]\n",
      "Working for n conditional variables: 3:  60%|█████████████████████████▊                 | 3/5 [00:00<00:00, 350.60it/s]\n",
      "Working for n conditional variables: 2:  40%|█████████████████▏                         | 2/5 [00:00<00:00, 658.45it/s]\n",
      "Working for n conditional variables: 2:  40%|████████████████████▊                               | 2/5 [00:00<?, ?it/s]\n",
      "Working for n conditional variables: 1:  20%|████████▌                                  | 1/5 [00:00<00:00, 146.77it/s]\n",
      "Working for n conditional variables: 5: 100%|████████████████████████████████████████████| 5/5 [00:00<00:00, 65.47it/s]\n",
      "Working for n conditional variables: 4:  80%|███████████████████████████████████▏        | 4/5 [00:00<00:00, 79.87it/s]\n",
      "Working for n conditional variables: 4:  80%|██████████████████████████████████▍        | 4/5 [00:00<00:00, 218.03it/s]\n",
      "Working for n conditional variables: 3:  60%|█████████████████████████▊                 | 3/5 [00:00<00:00, 130.72it/s]\n",
      "Working for n conditional variables: 5: 100%|████████████████████████████████████████████| 5/5 [00:00<00:00, 17.04it/s]\n",
      "Working for n conditional variables: 5: 100%|████████████████████████████████████████████| 5/5 [00:00<00:00, 42.56it/s]\n",
      "Working for n conditional variables: 5: 100%|████████████████████████████████████████████| 5/5 [00:00<00:00, 89.81it/s]\n",
      "Working for n conditional variables: 4:  80%|██████████████████████████████████▍        | 4/5 [00:00<00:00, 183.22it/s]\n",
      "Working for n conditional variables: 3:  60%|█████████████████████████▊                 | 3/5 [00:00<00:00, 340.73it/s]\n",
      "Working for n conditional variables: 2:  40%|█████████████████▏                         | 2/5 [00:00<00:00, 636.80it/s]\n",
      "Working for n conditional variables: 2:  40%|█████████████████▏                         | 2/5 [00:00<00:00, 981.12it/s]\n",
      "Working for n conditional variables: 1:  20%|████████▌                                  | 1/5 [00:00<00:00, 509.14it/s]\n",
      "Working for n conditional variables: 5: 100%|████████████████████████████████████████████| 5/5 [00:00<00:00, 64.95it/s]\n",
      "Working for n conditional variables: 4:  80%|██████████████████████████████████▍        | 4/5 [00:00<00:00, 113.41it/s]\n",
      "Working for n conditional variables: 4:  80%|██████████████████████████████████▍        | 4/5 [00:00<00:00, 213.10it/s]\n",
      "Working for n conditional variables: 3:  60%|█████████████████████████▊                 | 3/5 [00:00<00:00, 230.87it/s]\n",
      "Working for n conditional variables: 4:  80%|███████████████████████████████████▏        | 4/5 [00:00<00:00, 68.89it/s]\n",
      "Working for n conditional variables: 4:  80%|███████████████████████████████████▏        | 4/5 [00:00<00:00, 89.83it/s]\n",
      "Working for n conditional variables: 4:  80%|██████████████████████████████████▍        | 4/5 [00:00<00:00, 109.35it/s]\n",
      "Working for n conditional variables: 4:  80%|███████████████████████████████████▏        | 4/5 [00:00<00:00, 77.17it/s]\n",
      "Working for n conditional variables: 2:  40%|█████████████████▏                         | 2/5 [00:00<00:00, 298.15it/s]\n",
      "Working for n conditional variables: 4:  80%|██████████████████████████████████▍        | 4/5 [00:00<00:00, 117.55it/s]\n",
      "Working for n conditional variables: 3:  60%|█████████████████████████▊                 | 3/5 [00:00<00:00, 324.37it/s]\n",
      "Working for n conditional variables: 3:  60%|█████████████████████████▊                 | 3/5 [00:00<00:00, 305.83it/s]\n",
      "Working for n conditional variables: 4:  80%|███████████████████████████████████▏        | 4/5 [00:00<00:00, 80.57it/s]\n",
      "Working for n conditional variables: 3:  60%|█████████████████████████▊                 | 3/5 [00:00<00:00, 140.62it/s]\n",
      "Working for n conditional variables: 3:  60%|█████████████████████████▊                 | 3/5 [00:00<00:00, 172.11it/s]\n",
      "Working for n conditional variables: 4:  80%|██████████████████████████████████▍        | 4/5 [00:00<00:00, 107.66it/s]\n",
      "Working for n conditional variables: 4:  80%|███████████████████████████████████▏        | 4/5 [00:00<00:00, 59.78it/s]\n",
      "Working for n conditional variables: 4:  80%|███████████████████████████████████▏        | 4/5 [00:00<00:00, 82.37it/s]\n",
      "Working for n conditional variables: 4:  80%|██████████████████████████████████▍        | 4/5 [00:00<00:00, 114.54it/s]\n",
      "Working for n conditional variables: 4:  80%|███████████████████████████████████▏        | 4/5 [00:00<00:00, 93.48it/s]\n",
      "Working for n conditional variables: 2:  40%|█████████████████▏                         | 2/5 [00:00<00:00, 473.56it/s]\n",
      "Working for n conditional variables: 4:  80%|██████████████████████████████████▍        | 4/5 [00:00<00:00, 146.50it/s]\n",
      "Working for n conditional variables: 3:  60%|█████████████████████████▊                 | 3/5 [00:00<00:00, 361.21it/s]\n",
      "Working for n conditional variables: 3:  60%|█████████████████████████▊                 | 3/5 [00:00<00:00, 261.83it/s]\n",
      "Working for n conditional variables: 4:  80%|███████████████████████████████████▏        | 4/5 [00:00<00:00, 94.71it/s]\n",
      "Working for n conditional variables: 3:  60%|█████████████████████████▊                 | 3/5 [00:00<00:00, 237.42it/s]\n",
      "Working for n conditional variables: 3:  60%|█████████████████████████▊                 | 3/5 [00:00<00:00, 204.30it/s]\n",
      "Working for n conditional variables: 4:  80%|██████████████████████████████████▍        | 4/5 [00:00<00:00, 230.76it/s]\n",
      "Working for n conditional variables: 5: 100%|████████████████████████████████████████████| 5/5 [00:00<00:00, 34.01it/s]\n",
      "Working for n conditional variables: 5: 100%|████████████████████████████████████████████| 5/5 [00:00<00:00, 47.57it/s]\n",
      "Working for n conditional variables: 5: 100%|████████████████████████████████████████████| 5/5 [00:00<00:00, 33.08it/s]\n",
      "Working for n conditional variables: 5: 100%|████████████████████████████████████████████| 5/5 [00:00<00:00, 69.23it/s]\n",
      "Working for n conditional variables: 4:  80%|███████████████████████████████████▏        | 4/5 [00:00<00:00, 85.29it/s]\n",
      "Working for n conditional variables: 4:  80%|██████████████████████████████████▍        | 4/5 [00:00<00:00, 134.22it/s]\n",
      "Working for n conditional variables: 4:  80%|███████████████████████████████████▏        | 4/5 [00:00<00:00, 91.58it/s]\n",
      "Working for n conditional variables: 3:  60%|█████████████████████████▊                 | 3/5 [00:00<00:00, 197.00it/s]\n",
      "Working for n conditional variables: 5: 100%|████████████████████████████████████████████| 5/5 [00:00<00:00, 32.95it/s]\n",
      "Working for n conditional variables: 5: 100%|████████████████████████████████████████████| 5/5 [00:00<00:00, 55.56it/s]\n",
      "Working for n conditional variables: 5: 100%|████████████████████████████████████████████| 5/5 [00:00<00:00, 58.95it/s]\n",
      "Working for n conditional variables: 5: 100%|████████████████████████████████████████████| 5/5 [00:00<00:00, 80.05it/s]\n",
      "Working for n conditional variables: 5: 100%|████████████████████████████████████████████| 5/5 [00:00<00:00, 26.45it/s]\n",
      "Working for n conditional variables: 5: 100%|████████████████████████████████████████████| 5/5 [00:00<00:00, 47.84it/s]\n",
      "Working for n conditional variables: 5: 100%|████████████████████████████████████████████| 5/5 [00:00<00:00, 39.50it/s]\n",
      "Working for n conditional variables: 5: 100%|████████████████████████████████████████████| 5/5 [00:00<00:00, 74.82it/s]\n",
      "Working for n conditional variables: 4:  80%|██████████████████████████████████▍        | 4/5 [00:00<00:00, 103.23it/s]\n",
      "Working for n conditional variables: 4:  80%|██████████████████████████████████▍        | 4/5 [00:00<00:00, 174.54it/s]\n",
      "Working for n conditional variables: 4:  80%|██████████████████████████████████▍        | 4/5 [00:00<00:00, 140.13it/s]\n",
      "Working for n conditional variables: 3:  60%|█████████████████████████▊                 | 3/5 [00:00<00:00, 300.31it/s]\n"
     ]
    },
    {
     "name": "stderr",
     "output_type": "stream",
     "text": [
      "Working for n conditional variables: 5: 100%|████████████████████████████████████████████| 5/5 [00:00<00:00, 44.60it/s]\n",
      "Working for n conditional variables: 5: 100%|████████████████████████████████████████████| 5/5 [00:00<00:00, 62.34it/s]\n",
      "Working for n conditional variables: 5: 100%|████████████████████████████████████████████| 5/5 [00:00<00:00, 63.23it/s]\n",
      "Working for n conditional variables: 5: 100%|████████████████████████████████████████████| 5/5 [00:00<00:00, 87.24it/s]\n",
      "Working for n conditional variables: 5: 100%|████████████████████████████████████████████| 5/5 [00:00<00:00, 34.29it/s]\n",
      "Working for n conditional variables: 5: 100%|████████████████████████████████████████████| 5/5 [00:00<00:00, 35.62it/s]\n",
      "Working for n conditional variables: 5: 100%|████████████████████████████████████████████| 5/5 [00:00<00:00, 55.70it/s]\n",
      "Working for n conditional variables: 5: 100%|████████████████████████████████████████████| 5/5 [00:00<00:00, 29.83it/s]\n",
      "Working for n conditional variables: 4:  80%|███████████████████████████████████▏        | 4/5 [00:00<00:00, 79.92it/s]\n",
      "Working for n conditional variables: 4:  80%|███████████████████████████████████▏        | 4/5 [00:00<00:00, 70.13it/s]\n",
      "Working for n conditional variables: 4:  80%|███████████████████████████████████▏        | 4/5 [00:00<00:00, 91.91it/s]\n",
      "Working for n conditional variables: 4:  80%|██████████████████████████████████▍        | 4/5 [00:00<00:00, 108.02it/s]\n",
      "Working for n conditional variables: 5: 100%|████████████████████████████████████████████| 5/5 [00:00<00:00, 51.67it/s]\n",
      "Working for n conditional variables: 5: 100%|████████████████████████████████████████████| 5/5 [00:00<00:00, 58.06it/s]\n",
      "Working for n conditional variables: 5: 100%|████████████████████████████████████████████| 5/5 [00:00<00:00, 85.61it/s]\n",
      "Working for n conditional variables: 5: 100%|████████████████████████████████████████████| 5/5 [00:00<00:00, 71.21it/s]\n",
      "Working for n conditional variables: 5: 100%|████████████████████████████████████████████| 5/5 [00:00<00:00, 36.48it/s]\n",
      "Working for n conditional variables: 5: 100%|████████████████████████████████████████████| 5/5 [00:00<00:00, 36.27it/s]\n",
      "Working for n conditional variables: 5: 100%|████████████████████████████████████████████| 5/5 [00:00<00:00, 58.41it/s]\n",
      "Working for n conditional variables: 5: 100%|████████████████████████████████████████████| 5/5 [00:00<00:00, 28.98it/s]\n",
      "Working for n conditional variables: 4:  80%|███████████████████████████████████▏        | 4/5 [00:00<00:00, 86.61it/s]\n",
      "Working for n conditional variables: 4:  80%|███████████████████████████████████▏        | 4/5 [00:00<00:00, 74.48it/s]\n",
      "Working for n conditional variables: 4:  80%|██████████████████████████████████▍        | 4/5 [00:00<00:00, 101.29it/s]\n",
      "Working for n conditional variables: 4:  80%|██████████████████████████████████▍        | 4/5 [00:00<00:00, 106.72it/s]\n",
      "Working for n conditional variables: 5: 100%|████████████████████████████████████████████| 5/5 [00:00<00:00, 51.88it/s]\n",
      "Working for n conditional variables: 5: 100%|████████████████████████████████████████████| 5/5 [00:00<00:00, 60.92it/s]\n",
      "Working for n conditional variables: 5: 100%|████████████████████████████████████████████| 5/5 [00:00<00:00, 80.14it/s]\n",
      "Working for n conditional variables: 5: 100%|████████████████████████████████████████████| 5/5 [00:00<00:00, 72.04it/s]\n"
     ]
    }
   ],
   "source": [
    "folder = \"Test\"\n",
    "dfs_sets ={\"Nominal Rates\":[nr_11, nr_12, nr_15],\n",
    "           \"Nominal Differenced Rates\":[ndr_13, ndr_14, ndr_16],\n",
    "           \"Real Rates\":[rr_21, rr_22, rr_25],\n",
    "           \"Real Differenced Rates\":[rdr_23, rdr_24, rdr_26]}\n",
    "for name, df_set in dfs_sets.items():\n",
    "    all_results(df_set, name, folder, show = False)"
   ]
  },
  {
   "cell_type": "markdown",
   "id": "a9fb1d4b",
   "metadata": {},
   "source": [
    "plot_df1 = nominal rates\n",
    "\n",
    "plot_df2 = nominal rates without M4 variables\n",
    "\n",
    "plot_df3 = nominal rates without unemployment\n",
    "\n",
    "plot_df4 = differenced nominal rates\n",
    "\n",
    "plot_df5 = differenced nominal rates without M4 variables\n",
    "\n",
    "plot_df6 = differenced nominal rates without unemployment\n",
    "\n",
    "plot_df7 = real rates\n",
    "\n",
    "plot_df8 = real rates without M4 variables\n",
    "\n",
    "plot_df9 = real rates without unemployment\n",
    "\n",
    "plot_df10 = real differenced rates\n",
    "\n",
    "plot_df11 = real differenced rates without M4 variables\n",
    "\n",
    "plot_df12 = real differenced rates without unemployment"
   ]
  },
  {
   "cell_type": "code",
   "execution_count": 49,
   "id": "0dd94b1f",
   "metadata": {},
   "outputs": [],
   "source": [
    "# def full_dags(dataframes, name, folder_path):\n",
    "#     with PdfPages(folder_path + f'/{name}.pdf') as pp:\n",
    "#         for i, plot_df in enumerate(dataframes):\n",
    "#             c = PC(plot_df)\n",
    "#             max_cond_vars = len(plot_df.keys()) - 2\n",
    "#             model = c.estimate(return_type='pdag', variant='parallel', significance_level=0.01,\n",
    "#                                max_cond_vars=max_cond_vars, ci_test='pearsonr')\n",
    "#             edges = model.edges\n",
    "\n",
    "#             # Plot the DAG\n",
    "#             graph_DAG(edges, plot_df, title=f'Directed Acyclic Graph {i+1}')\n",
    "            \n",
    "#             # Save the plot to the PDF\n",
    "#             pp.savefig(bbox_inches='tight')\n",
    "\n",
    "#             # Close the plot to prevent it from being displayed\n",
    "#             plt.close()\n",
    "            "
   ]
  },
  {
   "cell_type": "code",
   "execution_count": 50,
   "id": "600f3ae0",
   "metadata": {},
   "outputs": [],
   "source": [
    "\n",
    "# dataframes = [plot_df1, plot_df2, plot_df3, plot_df4, plot_df5, plot_df6, \n",
    "#               plot_df7, plot_df8, plot_df9, plot_df10, plot_df11, plot_df12]\n",
    "# folder_path = 'Test'\n",
    "# name = 'Full DAGs'\n",
    "# full_dags(dataframes, name, folder_path)\n"
   ]
  },
  {
   "cell_type": "code",
   "execution_count": null,
   "id": "b40d1059",
   "metadata": {},
   "outputs": [],
   "source": []
  },
  {
   "cell_type": "code",
   "execution_count": 51,
   "id": "557877cd",
   "metadata": {},
   "outputs": [],
   "source": [
    "def full_dags(dataframes, name, folder_path):\n",
    "    # Create a folder for JPG files if it doesn't exist\n",
    "    jpg_folder = os.path.join(folder_path, 'jpg')\n",
    "    os.makedirs(jpg_folder, exist_ok=True)\n",
    "\n",
    "    with PdfPages(os.path.join(folder_path, f'{name}.pdf')) as pdf:\n",
    "        for i, plot_df in enumerate(dataframes):\n",
    "            c = PC(plot_df)\n",
    "            max_cond_vars = len(plot_df.keys()) - 2\n",
    "            model = c.estimate(return_type='pdag', variant='parallel', significance_level=0.01,\n",
    "                               max_cond_vars=max_cond_vars, ci_test='pearsonr')\n",
    "            edges = model.edges\n",
    "\n",
    "            # Plot the DAG\n",
    "            graph_DAG(edges, plot_df, title=f'Directed Acyclic Graph {i+1}')\n",
    "\n",
    "            # Save the plot to PDF\n",
    "            pdf.savefig(bbox_inches='tight')\n",
    "            plt.close()\n",
    "\n",
    "            # Save the plot to JPG\n",
    "            plt.figure()\n",
    "            graph_DAG(edges, plot_df, title=f'Directed Acyclic Graph {i+1}')\n",
    "            plt.savefig(os.path.join(jpg_folder, f'{name}_{i+1}.jpg'), bbox_inches='tight')\n",
    "            plt.close()\n"
   ]
  },
  {
   "cell_type": "code",
   "execution_count": null,
   "id": "1280c2ec",
   "metadata": {},
   "outputs": [
    {
     "name": "stderr",
     "output_type": "stream",
     "text": [
      "Working for n conditional variables: 3:  75%|█████████████████████████████████           | 3/4 [00:00<00:00,  8.54it/s]"
     ]
    }
   ],
   "source": [
    "# Plotting the full dags\n",
    "dataframes = [plot_df1, plot_df2, plot_df3, plot_df4, plot_df5, plot_df6, \n",
    "              plot_df7, plot_df8, plot_df9, plot_df10, plot_df11, plot_df12]\n",
    "folder_path = 'full dags'\n",
    "name = 'Full DAGs'\n",
    "full_dags(dataframes, name, folder_path)\n"
   ]
  },
  {
   "cell_type": "code",
   "execution_count": null,
   "id": "98d2ddac",
   "metadata": {},
   "outputs": [],
   "source": [
    "# kml3d_ai_level22.columns"
   ]
  },
  {
   "cell_type": "code",
   "execution_count": null,
   "id": "9851d0a1",
   "metadata": {},
   "outputs": [],
   "source": [
    "# def formatted_scatter_matrix(data,fig_len = 15,\n",
    "#                              c = \"C0\",\n",
    "#                             alpha = .1, pp = False):\n",
    "#         plt.rcParams.update({'font.size': 10})  \n",
    "\n",
    "#         fig, ax = plt.subplots(figsize = ((fig_len, fig_len)))  \n",
    "#         pd.plotting.scatter_matrix(data, color = c, \n",
    "#                            alpha = .2, \n",
    "#                            s = 200 / len(data.keys()), ax=ax)  \n",
    "#         plt.show()"
   ]
  },
  {
   "cell_type": "code",
   "execution_count": null,
   "id": "50baa594",
   "metadata": {},
   "outputs": [],
   "source": [
    "# plot_df = kml3d_ai_level22\n",
    "# clusters = plot_df[\"clusters\"].unique()\n",
    "# plot_df[\"Cluster Color\"] = \"\"\n",
    "# for i in clusters:\n",
    "#     plot_df[\"Cluster Color\"][plot_df[\"clusters\"] == i] = f\"C{i}\" \n",
    "# plot_df"
   ]
  },
  {
   "cell_type": "code",
   "execution_count": null,
   "id": "7fa95e1d",
   "metadata": {},
   "outputs": [],
   "source": [
    "# formatted_scatter_matrix(plot_df, c =plot_df[\"Cluster Color\"],fig_len = 15)"
   ]
  },
  {
   "cell_type": "code",
   "execution_count": null,
   "id": "0ce0683f",
   "metadata": {},
   "outputs": [],
   "source": []
  },
  {
   "cell_type": "code",
   "execution_count": null,
   "id": "c9394374",
   "metadata": {},
   "outputs": [],
   "source": []
  },
  {
   "cell_type": "code",
   "execution_count": null,
   "id": "afe76b9b",
   "metadata": {},
   "outputs": [],
   "source": [
    "# nr1_df = nr_11\n",
    "# nr2_df = nr_12\n",
    "# nr3_df = nr_13\n",
    "# nr4_df = nr_14\n",
    "# nr5_df = rr_21\n",
    "# nr6_df = rr_22\n",
    "# nr7_df = rr_23\n",
    "# nr8_df = rr_24"
   ]
  },
  {
   "cell_type": "code",
   "execution_count": null,
   "id": "037874f3",
   "metadata": {},
   "outputs": [],
   "source": [
    "# dfs = [nr1_df, nr2_df, nr3_df, nr4_df, nr5_df, nr6_df, nr7_df, nr8_df]\n",
    "\n",
    "# for df in dfs:\n",
    "#     clusters = df[\"clusters\"].unique()\n",
    "#     df[\"Cluster Color\"] = \"\"\n",
    "#     for i in clusters:\n",
    "#         df.loc[df[\"clusters\"] == i, \"Cluster Color\"] = f\"C{i}\"\n"
   ]
  },
  {
   "cell_type": "code",
   "execution_count": null,
   "id": "452d34ba",
   "metadata": {},
   "outputs": [],
   "source": [
    "# formatted_scatter_matrix(nr1_df, c =nr1_df[\"Cluster Color\"],fig_len = 15)"
   ]
  },
  {
   "cell_type": "code",
   "execution_count": null,
   "id": "df401266",
   "metadata": {},
   "outputs": [],
   "source": [
    "# formatted_scatter_matrix(nr2_df, c =nr1_df[\"Cluster Color\"],fig_len = 15)"
   ]
  },
  {
   "cell_type": "code",
   "execution_count": null,
   "id": "efe975e3",
   "metadata": {},
   "outputs": [],
   "source": [
    "# def formatted_scatter_matrixv1(data, fig_len=15, colors=None, alpha=0.1, pp=False):\n",
    "#     plt.rcParams.update({'font.size': 10})  \n",
    "\n",
    "#     if colors is None:\n",
    "#         colors = [\"C0\"] * len(data)\n",
    "\n",
    "#     fig, ax = plt.subplots(figsize=(fig_len, fig_len))  \n",
    "#     pd.plotting.scatter_matrix(data, color=colors, alpha=alpha, s=200 / len(data.keys()), ax=ax)  \n",
    "#     plt.show()\n",
    "\n",
    "# # Assuming nr1_df[\"Cluster Color\"] contains the colors for each cluster\n",
    "# formatted_scatter_matrixv1(nr1_df, fig_len=15, colors=nr1_df[\"Cluster Color\"])\n"
   ]
  },
  {
   "cell_type": "code",
   "execution_count": null,
   "id": "1c43dd17",
   "metadata": {},
   "outputs": [],
   "source": [
    "# formatted_scatter_matrix(nr3_df, c =nr3_df[\"Cluster Color\"],fig_len = 15)"
   ]
  },
  {
   "cell_type": "code",
   "execution_count": null,
   "id": "59f6ca08",
   "metadata": {},
   "outputs": [],
   "source": [
    "# formatted_scatter_matrix(nr4_df, c =nr4_df[\"Cluster Color\"],fig_len = 15)"
   ]
  },
  {
   "cell_type": "code",
   "execution_count": null,
   "id": "d6806fd7",
   "metadata": {},
   "outputs": [],
   "source": [
    "# formatted_scatter_matrix(nr5_df, c =nr5_df[\"Cluster Color\"],fig_len = 15)"
   ]
  },
  {
   "cell_type": "code",
   "execution_count": null,
   "id": "31535b64",
   "metadata": {},
   "outputs": [],
   "source": [
    "# formatted_scatter_matrix(nr6_df, c =nr6_df[\"Cluster Color\"],fig_len = 15)"
   ]
  },
  {
   "cell_type": "code",
   "execution_count": null,
   "id": "c8dd6c8c",
   "metadata": {},
   "outputs": [],
   "source": [
    "# formatted_scatter_matrix(nr7_df, c =nr7_df[\"Cluster Color\"],fig_len = 15)"
   ]
  },
  {
   "cell_type": "code",
   "execution_count": null,
   "id": "4c0da94b",
   "metadata": {},
   "outputs": [],
   "source": [
    "# formatted_scatter_matrix(nr8_df, c =nr8_df[\"Cluster Color\"],fig_len = 15)"
   ]
  },
  {
   "cell_type": "code",
   "execution_count": null,
   "id": "80ec11cd",
   "metadata": {},
   "outputs": [],
   "source": []
  },
  {
   "cell_type": "code",
   "execution_count": null,
   "id": "dab59d8a",
   "metadata": {},
   "outputs": [],
   "source": []
  },
  {
   "cell_type": "code",
   "execution_count": null,
   "id": "cea2ae8e",
   "metadata": {},
   "outputs": [],
   "source": []
  },
  {
   "cell_type": "code",
   "execution_count": null,
   "id": "543de710",
   "metadata": {},
   "outputs": [],
   "source": [
    "# plot_df1[\"Cluster\"] = np.nan\n",
    "# plot_df1"
   ]
  },
  {
   "cell_type": "code",
   "execution_count": null,
   "id": "abf55fc0",
   "metadata": {},
   "outputs": [],
   "source": [
    "# fig,ax = plt.subplots(figsize = (8,4))\n",
    "# kml3d_ai_level22.plot.scatter(x = \"Agri\", y = \"Util\", c = \"Mini\", cmap = \"viridis\", s = 5, ax = ax)\n",
    "# ax.set_title(\"$Agri \\\\leftarrow RM4_ \\\\rightarrow Mini$\")\n",
    "# for i in range(-5,5): ax.axhline(i, c = \"k\")"
   ]
  },
  {
   "cell_type": "code",
   "execution_count": null,
   "id": "e391fa86",
   "metadata": {},
   "outputs": [],
   "source": [
    "# fig,ax = plt.subplots(figsize = (8,4))\n",
    "# kml3d_ai_level22.plot.scatter(x = \"RM4_\", y = \"RM4I\", c = \"unem\", cmap = \"viridis\", s = 5, ax = ax)\n",
    "# ax.set_title(\"$RM4_ \\\\rightarrow RM4I \\\\rightarrow unem$\")\n",
    "# for i in range(-10,2): ax.axhline(i, c = \"k\")"
   ]
  },
  {
   "cell_type": "code",
   "execution_count": null,
   "id": "37ea03ac",
   "metadata": {},
   "outputs": [],
   "source": [
    "# fig,ax = plt.subplots(figsize = (8,4))\n",
    "# kml3d_ai_level22.plot.scatter(x = \"Util\", y = \"RM4_\", c = \"Agri\", cmap = \"viridis\", s = 5, ax = ax)\n",
    "# ax.set_title(\"$Util \\\\leftarrow RM4_ \\\\rightarrow Agri$\")\n",
    "# for i in range(-10,2): ax.axhline(i, c = \"k\")"
   ]
  },
  {
   "cell_type": "code",
   "execution_count": null,
   "id": "3805c823",
   "metadata": {},
   "outputs": [],
   "source": [
    "# fig,ax = plt.subplots(figsize = (8,4))\n",
    "# kml3d_ai_level22.plot.scatter(x = \"Agri\", y = \"RM4_\", c = \"RM4I\", cmap = \"viridis\", s = 5, ax = ax)\n",
    "# ax.set_title(\"$Agri \\\\leftarrow RM4_ \\\\rightarrow RM4I$\")\n",
    "# for i in range(-10,2): ax.axhline(i, c = \"k\")"
   ]
  },
  {
   "cell_type": "code",
   "execution_count": null,
   "id": "a3709520",
   "metadata": {},
   "outputs": [],
   "source": [
    "# fig,ax = plt.subplots(figsize = (8,4))\n",
    "# kml3d_ai_level22.plot.scatter(x = \"Util\", y = \"RM4_\", c = \"RM4I\", cmap = \"viridis\", s = 5, ax = ax)\n",
    "# ax.set_title(\"$Util \\\\leftarrow RM4_ \\\\rightarrow RM4I$\")\n",
    "# for i in range(-10,2): ax.axhline(i, c = \"k\")"
   ]
  },
  {
   "cell_type": "code",
   "execution_count": null,
   "id": "9eadeac1",
   "metadata": {},
   "outputs": [],
   "source": []
  }
 ],
 "metadata": {
  "kernelspec": {
   "display_name": "Python 3 (ipykernel)",
   "language": "python",
   "name": "python3"
  },
  "language_info": {
   "codemirror_mode": {
    "name": "ipython",
    "version": 3
   },
   "file_extension": ".py",
   "mimetype": "text/x-python",
   "name": "python",
   "nbconvert_exporter": "python",
   "pygments_lexer": "ipython3",
   "version": "3.7.13"
  }
 },
 "nbformat": 4,
 "nbformat_minor": 5
}
