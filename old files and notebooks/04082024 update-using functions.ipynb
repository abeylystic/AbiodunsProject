{
 "cells": [
  {
   "cell_type": "code",
   "execution_count": 1,
   "id": "fadc36d6",
   "metadata": {},
   "outputs": [
    {
     "name": "stderr",
     "output_type": "stream",
     "text": [
      "C:\\Users\\abiodun.idowu\\Anaconda3\\envs\\python37\\lib\\site-packages\\geopandas\\_compat.py:115: UserWarning: The Shapely GEOS version (3.4.3-CAPI-1.8.3 r4285) is incompatible with the GEOS version PyGEOS was compiled with (3.10.4-CAPI-1.16.2). Conversions between both will be slow.\n",
      "  shapely_geos_version, geos_capi_version_string\n",
      "C:\\Users\\abiodun.idowu\\Anaconda3\\envs\\python37\\lib\\site-packages\\outdated\\utils.py:18: OutdatedPackageWarning: The package outdated is out of date. Your version is 0.2.1, the latest is 0.2.2.\n",
      "Set the environment variable OUTDATED_IGNORE=1 to disable these warnings.\n",
      "  **kwargs\n",
      "C:\\Users\\abiodun.idowu\\Anaconda3\\envs\\python37\\lib\\site-packages\\outdated\\utils.py:18: OutdatedPackageWarning: The package pingouin is out of date. Your version is 0.5.2, the latest is 0.5.4.\n",
      "Set the environment variable OUTDATED_IGNORE=1 to disable these warnings.\n",
      "  **kwargs\n",
      "C:\\Users\\abiodun.idowu\\Anaconda3\\envs\\python37\\lib\\site-packages\\tqdm\\auto.py:22: TqdmWarning: IProgress not found. Please update jupyter and ipywidgets. See https://ipywidgets.readthedocs.io/en/stable/user_install.html\n",
      "  from .autonotebook import tqdm as notebook_tqdm\n"
     ]
    }
   ],
   "source": [
    "import pandas as pd\n",
    "import numpy as np\n",
    "import matplotlib.pyplot as plt\n",
    "import geopandas\n",
    "import os\n",
    "import pingouin\n",
    "import datapungibea as dpb\n",
    "from matplotlib.patches import ArrowStyle\n",
    "import copy\n",
    "from matplotlib.backends.backend_pdf import PdfPages\n",
    "import networkx as nx\n",
    "from pgmpy.estimators import PC\n",
    "import statsmodels.api as sm\n",
    "import plotly.express as px\n",
    "from sklearn.linear_model import LinearRegression\n",
    "import seaborn as sns\n",
    "import random\n",
    "from sklearn.cluster import KMeans\n",
    "from sklearn.preprocessing import StandardScaler\n",
    "from sklearn.metrics import silhouette_score\n",
    "from PIL import Image\n",
    "from sklearn.model_selection import train_test_split\n",
    "from sklearn.linear_model import LogisticRegression, RidgeClassifier\n",
    "from sklearn.ensemble import RandomForestClassifier\n",
    "import xgboost as xgb\n",
    "from sklearn.metrics import mean_squared_error, accuracy_score\n",
    "from statsmodels.discrete.discrete_model import Logit\n",
    "from networkx.drawing.nx_agraph import graphviz_layout\n",
    "from collections import defaultdict\n",
    "import math\n"
   ]
  },
  {
   "cell_type": "code",
   "execution_count": 2,
   "id": "3f61d8a1",
   "metadata": {},
   "outputs": [],
   "source": [
    "from abbeyFunctions import graph_DAG, create_cluster_dags, determine_p_value, graph_DAG_cluster, get_edges_dict, get_col_shared_edges, get_row_shared_edges, plot_shared_col_edges, plot_shared_row_edges"
   ]
  },
  {
   "cell_type": "code",
   "execution_count": 3,
   "id": "3a11e1a9",
   "metadata": {},
   "outputs": [],
   "source": [
    "ai_data_nominal = pd.read_csv('nominal_data.csv')"
   ]
  },
  {
   "cell_type": "code",
   "execution_count": 4,
   "id": "d383c2e7",
   "metadata": {},
   "outputs": [],
   "source": [
    "ai_data_real = pd.read_csv('real_data.csv')"
   ]
  },
  {
   "cell_type": "code",
   "execution_count": 5,
   "id": "a3a5d75f",
   "metadata": {},
   "outputs": [],
   "source": [
    "ai_data_nominal = ai_data_nominal.set_index(['FIPS_y', 'TimePeriod'])"
   ]
  },
  {
   "cell_type": "code",
   "execution_count": 6,
   "id": "0cf48ba8",
   "metadata": {},
   "outputs": [],
   "source": [
    "ai_data_real = ai_data_real.set_index(['FIPS_y', 'TimePeriod'])"
   ]
  },
  {
   "cell_type": "code",
   "execution_count": 7,
   "id": "ae5b7a98",
   "metadata": {},
   "outputs": [
    {
     "name": "stderr",
     "output_type": "stream",
     "text": [
      "C:\\Users\\abiodun.idowu\\Anaconda3\\envs\\python37\\lib\\site-packages\\pandas\\core\\arraylike.py:364: RuntimeWarning: divide by zero encountered in log\n",
      "  result = getattr(ufunc, method)(*inputs, **kwargs)\n",
      "C:\\Users\\abiodun.idowu\\Anaconda3\\envs\\python37\\lib\\site-packages\\pandas\\core\\arraylike.py:364: RuntimeWarning: invalid value encountered in log\n",
      "  result = getattr(ufunc, method)(*inputs, **kwargs)\n"
     ]
    }
   ],
   "source": [
    "exclude_vars = ['M4 I','RM4I', 'unem']  # List of variables to exclude\n",
    "\n",
    "# Create a dictionary to store the dataframes\n",
    "ai_dct = {\"logged_n\": ai_data_nominal.copy(), \"logged_r\": ai_data_real.copy(), \n",
    "          \"rates_n\": ai_data_nominal.copy(), \"rates_r\": ai_data_real.copy(),\n",
    "         \"percent rates_n\": ai_data_nominal.copy(), \n",
    "          \"percent rates_r\": ai_data_real.copy()}\n",
    "\n",
    "        \n",
    "for col in ai_dct['logged_n'].columns:\n",
    "    if col not in exclude_vars:\n",
    "        ai_dct[\"logged_n\"][col] = np.log(ai_data_nominal[col]).replace([np.inf, -np.inf], np.nan)\n",
    "\n",
    "for col in ai_dct['logged_r'].columns:\n",
    "    if col not in exclude_vars:\n",
    "        ai_dct[\"logged_r\"][col] = np.log(ai_data_real[col]).replace([np.inf, -np.inf], np.nan)\n",
    "\n",
    "\n",
    "# Calculate rate of change (differences of log-transformed values)\n",
    "for col in ai_dct['rates_n'].columns:\n",
    "    if col not in exclude_vars:\n",
    "        ai_dct[\"rates_n\"][col] = ai_dct[\"logged_n\"].groupby('FIPS_y')[col].diff().dropna()\n",
    "        \n",
    "        \n",
    "\n",
    "for col in ai_dct['rates_r'].columns:\n",
    "    if col not in exclude_vars:\n",
    "        ai_dct[\"rates_r\"][col] = ai_dct[\"logged_r\"].groupby('FIPS_y')[col].diff().dropna()\n",
    "        \n",
    "        \n",
    "        # Calculate percent rate of change\n",
    "for col in ai_dct['percent rates_n'].columns:\n",
    "    #if col not in exclude_vars:\n",
    "        ai_dct[\"percent rates_n\"][col] = ai_dct[\"rates_n\"].groupby('FIPS_y')[col].diff().dropna()\n",
    "\n",
    "        \n",
    "        \n",
    "for col in ai_dct['percent rates_r'].columns:\n",
    "    #if col not in exclude_vars:\n",
    "        ai_dct[\"percent rates_r\"][col] = ai_dct[\"rates_r\"].groupby('FIPS_y')[col].diff().dropna()\n",
    "\n",
    "        \n",
    "        "
   ]
  },
  {
   "cell_type": "code",
   "execution_count": 8,
   "id": "dbe849ab",
   "metadata": {},
   "outputs": [],
   "source": [
    "nominal = ai_dct['rates_n']"
   ]
  },
  {
   "cell_type": "code",
   "execution_count": 9,
   "id": "f1d9ba78",
   "metadata": {},
   "outputs": [],
   "source": [
    "nominal.drop(columns=['All ', 'Neig'], inplace=True)"
   ]
  },
  {
   "cell_type": "code",
   "execution_count": null,
   "id": "1a622256",
   "metadata": {},
   "outputs": [],
   "source": []
  },
  {
   "cell_type": "code",
   "execution_count": 10,
   "id": "79209de7",
   "metadata": {},
   "outputs": [],
   "source": [
    "diff_nominal = ai_dct['percent rates_n']"
   ]
  },
  {
   "cell_type": "code",
   "execution_count": 11,
   "id": "23960aee",
   "metadata": {},
   "outputs": [],
   "source": [
    "diff_nominal.drop(columns=['All ', 'Neig'], inplace=True)"
   ]
  },
  {
   "cell_type": "code",
   "execution_count": null,
   "id": "4f7b1490",
   "metadata": {},
   "outputs": [],
   "source": []
  },
  {
   "cell_type": "code",
   "execution_count": 12,
   "id": "bd68650d",
   "metadata": {},
   "outputs": [],
   "source": [
    "real = ai_dct['rates_r']"
   ]
  },
  {
   "cell_type": "code",
   "execution_count": 13,
   "id": "38a49abb",
   "metadata": {},
   "outputs": [],
   "source": [
    "real.drop(columns=['All ', 'Neig'], inplace=True)"
   ]
  },
  {
   "cell_type": "code",
   "execution_count": null,
   "id": "fafd1dd8",
   "metadata": {},
   "outputs": [],
   "source": []
  },
  {
   "cell_type": "code",
   "execution_count": 14,
   "id": "6e849576",
   "metadata": {},
   "outputs": [],
   "source": [
    "diff_real = ai_dct['percent rates_r']"
   ]
  },
  {
   "cell_type": "code",
   "execution_count": null,
   "id": "387a4f37",
   "metadata": {},
   "outputs": [],
   "source": []
  },
  {
   "cell_type": "code",
   "execution_count": 15,
   "id": "aa821ca9",
   "metadata": {},
   "outputs": [],
   "source": [
    "diff_real.drop(columns=['All ', 'Neig'], inplace=True)"
   ]
  },
  {
   "cell_type": "code",
   "execution_count": null,
   "id": "70926cb4",
   "metadata": {},
   "outputs": [],
   "source": []
  },
  {
   "cell_type": "code",
   "execution_count": 16,
   "id": "b61e6bdc",
   "metadata": {},
   "outputs": [],
   "source": [
    "# nominal.to_csv('nominal.csv', index=True)\n",
    "# diff_nominal.to_csv('diff_nominal.csv', index=True)\n",
    "# real.to_csv('real.csv', index=True)\n",
    "# diff_real.to_csv('diff_real.csv', index=True)"
   ]
  },
  {
   "cell_type": "code",
   "execution_count": null,
   "id": "ec6b1dae",
   "metadata": {},
   "outputs": [],
   "source": []
  },
  {
   "cell_type": "code",
   "execution_count": 17,
   "id": "647ead3e",
   "metadata": {},
   "outputs": [],
   "source": [
    "ai_df_nom = pd.read_csv('nominal_kml3d.csv')\n",
    "\n",
    "ai_df_diffnom = pd.read_csv('diff_nominal_kml3d.csv')\n",
    "\n",
    "ai_df_real = pd.read_csv('real_kml3d.csv')\n",
    "\n",
    "ai_df_diffreal = pd.read_csv('diff_real_kml3d.csv')"
   ]
  },
  {
   "cell_type": "code",
   "execution_count": null,
   "id": "d3214ae9",
   "metadata": {},
   "outputs": [],
   "source": []
  },
  {
   "cell_type": "code",
   "execution_count": 18,
   "id": "f7774baa",
   "metadata": {},
   "outputs": [],
   "source": [
    "level_11 = ai_df_nom\n",
    "\n",
    "level_12 = ai_df_diffnom\n",
    "\n",
    "level_21 = ai_df_real\n",
    "\n",
    "level_22 = ai_df_diffreal"
   ]
  },
  {
   "cell_type": "code",
   "execution_count": null,
   "id": "812e9084",
   "metadata": {},
   "outputs": [],
   "source": []
  },
  {
   "cell_type": "code",
   "execution_count": 19,
   "id": "ee71d5a1",
   "metadata": {},
   "outputs": [],
   "source": [
    "dfg_ai11 = nominal.dropna()\n",
    "\n",
    "dfg_ai12 = diff_nominal.dropna()\n",
    "\n",
    "dfg_ai21 = real.dropna()\n",
    "\n",
    "dfg_ai22 = diff_real.dropna()"
   ]
  },
  {
   "cell_type": "code",
   "execution_count": null,
   "id": "55a40d65",
   "metadata": {},
   "outputs": [],
   "source": []
  },
  {
   "cell_type": "code",
   "execution_count": 20,
   "id": "d4839ec3",
   "metadata": {},
   "outputs": [],
   "source": [
    "ai_merge11 = pd.merge(dfg_ai11, level_11[['FIPS_y', 'clusters']], on='FIPS_y', how='left')"
   ]
  },
  {
   "cell_type": "code",
   "execution_count": 21,
   "id": "39cbe622",
   "metadata": {},
   "outputs": [],
   "source": [
    "ai_merge12 = pd.merge(dfg_ai12, level_12[['FIPS_y', 'clusters']], on='FIPS_y', how='left')"
   ]
  },
  {
   "cell_type": "code",
   "execution_count": 22,
   "id": "d466e80c",
   "metadata": {},
   "outputs": [],
   "source": [
    "ai_merge21 = pd.merge(dfg_ai21, level_21[['FIPS_y', 'clusters']], on='FIPS_y', how='left')"
   ]
  },
  {
   "cell_type": "code",
   "execution_count": 23,
   "id": "da5355e1",
   "metadata": {},
   "outputs": [],
   "source": [
    "ai_merge22 = pd.merge(dfg_ai22, level_22[['FIPS_y', 'clusters']], on='FIPS_y', how='left')"
   ]
  },
  {
   "cell_type": "code",
   "execution_count": null,
   "id": "d913f232",
   "metadata": {},
   "outputs": [],
   "source": []
  },
  {
   "cell_type": "code",
   "execution_count": null,
   "id": "0c426754",
   "metadata": {},
   "outputs": [],
   "source": []
  },
  {
   "cell_type": "code",
   "execution_count": 24,
   "id": "e17c6447",
   "metadata": {},
   "outputs": [],
   "source": [
    "kml3d_ai_level11 = ai_merge11.dropna()"
   ]
  },
  {
   "cell_type": "code",
   "execution_count": 25,
   "id": "f1de4ab6",
   "metadata": {},
   "outputs": [],
   "source": [
    "kml3d_ai_level12 = ai_merge12.dropna()"
   ]
  },
  {
   "cell_type": "code",
   "execution_count": 26,
   "id": "f31ccef4",
   "metadata": {},
   "outputs": [],
   "source": [
    "kml3d_ai_level21 = ai_merge21.dropna()"
   ]
  },
  {
   "cell_type": "code",
   "execution_count": 27,
   "id": "8db89c06",
   "metadata": {},
   "outputs": [],
   "source": [
    "kml3d_ai_level22 = ai_merge22.dropna()"
   ]
  },
  {
   "cell_type": "code",
   "execution_count": null,
   "id": "3322d0af",
   "metadata": {},
   "outputs": [],
   "source": []
  },
  {
   "cell_type": "code",
   "execution_count": 28,
   "id": "eacff355",
   "metadata": {},
   "outputs": [],
   "source": [
    "kml3d_ai_level11 = kml3d_ai_level11.set_index(['FIPS_y'])"
   ]
  },
  {
   "cell_type": "code",
   "execution_count": 29,
   "id": "d3cd7cd7",
   "metadata": {},
   "outputs": [],
   "source": [
    "kml3d_ai_level12 = kml3d_ai_level12.set_index(['FIPS_y'])"
   ]
  },
  {
   "cell_type": "code",
   "execution_count": 30,
   "id": "43aafd43",
   "metadata": {},
   "outputs": [],
   "source": [
    "kml3d_ai_level21 = kml3d_ai_level21.set_index(['FIPS_y'])"
   ]
  },
  {
   "cell_type": "code",
   "execution_count": 31,
   "id": "4f46072a",
   "metadata": {},
   "outputs": [],
   "source": [
    "kml3d_ai_level22 = kml3d_ai_level22.set_index(['FIPS_y'])"
   ]
  },
  {
   "cell_type": "code",
   "execution_count": null,
   "id": "35c3bf3f",
   "metadata": {},
   "outputs": [],
   "source": []
  },
  {
   "cell_type": "code",
   "execution_count": 32,
   "id": "18c08cc2",
   "metadata": {},
   "outputs": [],
   "source": [
    "cluster_mapping = {'A': 1, 'B': 2, 'C': 3, 'D': 4}"
   ]
  },
  {
   "cell_type": "code",
   "execution_count": null,
   "id": "186501c8",
   "metadata": {},
   "outputs": [],
   "source": []
  },
  {
   "cell_type": "code",
   "execution_count": 33,
   "id": "afae3734",
   "metadata": {},
   "outputs": [],
   "source": [
    "kml3d_ai_level11['clusters'].replace(cluster_mapping, inplace=True)"
   ]
  },
  {
   "cell_type": "code",
   "execution_count": 34,
   "id": "986b3a0f",
   "metadata": {},
   "outputs": [],
   "source": [
    "kml3d_ai_level12['clusters'].replace(cluster_mapping, inplace=True)"
   ]
  },
  {
   "cell_type": "code",
   "execution_count": 35,
   "id": "b5895cf4",
   "metadata": {},
   "outputs": [],
   "source": [
    "kml3d_ai_level21['clusters'].replace(cluster_mapping, inplace=True)"
   ]
  },
  {
   "cell_type": "code",
   "execution_count": 36,
   "id": "5c60c94b",
   "metadata": {},
   "outputs": [],
   "source": [
    "kml3d_ai_level22['clusters'].replace(cluster_mapping, inplace=True)"
   ]
  },
  {
   "cell_type": "code",
   "execution_count": 37,
   "id": "a0b1d0a1",
   "metadata": {},
   "outputs": [],
   "source": [
    "nr_11 = kml3d_ai_level11\n",
    "ndr_13 = kml3d_ai_level12\n",
    "rr_21 = kml3d_ai_level21\n",
    "rdr_23 = kml3d_ai_level22"
   ]
  },
  {
   "cell_type": "code",
   "execution_count": 38,
   "id": "1f0ce77d",
   "metadata": {},
   "outputs": [],
   "source": [
    "nr_12 = nr_11.copy()\n",
    "ndr_14 = ndr_13.copy()\n",
    "rr_22 = rr_21.copy()\n",
    "rdr_24 = rdr_23.copy()"
   ]
  },
  {
   "cell_type": "code",
   "execution_count": 39,
   "id": "d47166e8",
   "metadata": {},
   "outputs": [
    {
     "data": {
      "text/plain": [
       "Index(['Agri', 'Mini', 'Util', 'RM4_', 'RM4I', 'unem', 'clusters'], dtype='object')"
      ]
     },
     "execution_count": 39,
     "metadata": {},
     "output_type": "execute_result"
    }
   ],
   "source": [
    "rr_22.columns"
   ]
  },
  {
   "cell_type": "code",
   "execution_count": 40,
   "id": "621f2116",
   "metadata": {},
   "outputs": [],
   "source": [
    "nr_12.drop(columns=['M4_y', 'M4 I'], inplace=True)\n",
    "ndr_14.drop(columns=['M4_y', 'M4 I'], inplace=True)\n",
    "\n",
    "rr_22.drop(columns=['RM4_', 'RM4I'], inplace=True)\n",
    "rdr_24.drop(columns=['RM4_', 'RM4I'], inplace=True)"
   ]
  },
  {
   "cell_type": "code",
   "execution_count": 41,
   "id": "7a98bef6",
   "metadata": {},
   "outputs": [],
   "source": [
    "nr_15 = nr_11.copy()\n",
    "ndr_16 = ndr_13.copy()\n",
    "\n",
    "rr_25 = rr_21.copy()\n",
    "rdr_26 = rdr_23.copy()"
   ]
  },
  {
   "cell_type": "code",
   "execution_count": 42,
   "id": "0559e09c",
   "metadata": {},
   "outputs": [
    {
     "data": {
      "text/plain": [
       "Index(['Agri', 'Mini', 'Util', 'RM4_', 'RM4I', 'unem', 'clusters'], dtype='object')"
      ]
     },
     "execution_count": 42,
     "metadata": {},
     "output_type": "execute_result"
    }
   ],
   "source": [
    "rdr_26.columns"
   ]
  },
  {
   "cell_type": "code",
   "execution_count": 43,
   "id": "89edfb4b",
   "metadata": {},
   "outputs": [],
   "source": [
    "nr_15.drop(columns=['unem'], inplace=True)\n",
    "ndr_16.drop(columns=['unem'], inplace=True)\n",
    "rr_25.drop(columns=['unem'], inplace=True)\n",
    "rdr_26.drop(columns=['unem'], inplace=True)"
   ]
  },
  {
   "cell_type": "code",
   "execution_count": null,
   "id": "796f55b5",
   "metadata": {},
   "outputs": [],
   "source": []
  },
  {
   "cell_type": "code",
   "execution_count": null,
   "id": "2b686512",
   "metadata": {},
   "outputs": [],
   "source": []
  },
  {
   "cell_type": "code",
   "execution_count": 44,
   "id": "9a46c2f7",
   "metadata": {},
   "outputs": [],
   "source": [
    "plot_df2 = nominal.copy()\n",
    "plot_df3 = nominal.copy()\n",
    "plot_df5 = diff_nominal.copy()\n",
    "plot_df6 = diff_nominal.copy()\n",
    "plot_df8 = real.copy()\n",
    "plot_df9 = real.copy()\n",
    "plot_df11 = diff_real.copy()\n",
    "plot_df12 = diff_real.copy()"
   ]
  },
  {
   "cell_type": "code",
   "execution_count": null,
   "id": "03609374",
   "metadata": {},
   "outputs": [],
   "source": []
  },
  {
   "cell_type": "code",
   "execution_count": null,
   "id": "830e989e",
   "metadata": {},
   "outputs": [],
   "source": []
  },
  {
   "cell_type": "code",
   "execution_count": null,
   "id": "fcf6b180",
   "metadata": {},
   "outputs": [],
   "source": []
  },
  {
   "cell_type": "code",
   "execution_count": null,
   "id": "901ffefc",
   "metadata": {},
   "outputs": [],
   "source": []
  },
  {
   "cell_type": "code",
   "execution_count": 45,
   "id": "24535318",
   "metadata": {},
   "outputs": [],
   "source": [
    "plot_df1 = nominal.dropna()\n",
    "plot_df2.drop(columns=['M4_y', 'M4 I'], inplace=True)\n",
    "plot_df3.drop(columns=['unem'], inplace=True)\n",
    "\n",
    "plot_df4 = diff_nominal.dropna()\n",
    "plot_df5.drop(columns=['M4_y', 'M4 I'], inplace=True)\n",
    "plot_df6.drop(columns=['unem'], inplace=True)\n",
    "\n",
    "plot_df7 = real.dropna()\n",
    "plot_df8.drop(columns=['RM4_', 'RM4I'], inplace=True)\n",
    "plot_df9.drop(columns=['unem'], inplace=True)\n",
    "\n",
    "plot_df10 = diff_real.dropna()\n",
    "plot_df11.drop(columns=['RM4_', 'RM4I'], inplace=True)\n",
    "plot_df12.drop(columns=['unem'], inplace=True)"
   ]
  },
  {
   "cell_type": "code",
   "execution_count": 46,
   "id": "a692e39d",
   "metadata": {},
   "outputs": [],
   "source": [
    "plot_df1 = plot_df1.dropna()\n",
    "plot_df2 = plot_df2.dropna()\n",
    "plot_df3 = plot_df3.dropna()\n",
    "plot_df4 = plot_df4.dropna()\n",
    "plot_df5 = plot_df5.dropna()\n",
    "plot_df6 = plot_df6.dropna()\n",
    "plot_df7 = plot_df7.dropna()\n",
    "plot_df8 = plot_df8.dropna()\n",
    "plot_df9 = plot_df9.dropna()\n",
    "plot_df10 = plot_df10.dropna()\n",
    "plot_df11 = plot_df11.dropna()\n",
    "plot_df12 = plot_df12.dropna()"
   ]
  },
  {
   "cell_type": "code",
   "execution_count": null,
   "id": "00fd0466",
   "metadata": {},
   "outputs": [],
   "source": []
  },
  {
   "cell_type": "markdown",
   "id": "1156c832",
   "metadata": {},
   "source": [
    "### DAGs representing nominal rates and real rates:\n",
    "\n",
    "Where;\n",
    "\n",
    "nr_11 represents nominal rates with all variables (except neighbor's GDP and total GDP),\n",
    "\n",
    "nr_12 nominal rates (without macroeconomic variables)\n",
    "\n",
    "nr_15 nominal rates (without unemployment rates)\n",
    "\n",
    "rr_21 represents real rates with all variables (except neighbor's GDP and total GDP), and\n",
    "\n",
    "rr_22 real rates (without macroeconomic variables)\n",
    "\n",
    "rr_25 represents real rates without unemployment rates"
   ]
  },
  {
   "cell_type": "markdown",
   "id": "c7b2bc9a",
   "metadata": {},
   "source": [
    "### DAGs representing first difference rates\n",
    "\n",
    "Where;\n",
    "\n",
    "ndr_13 represents differenced nominal rates with all variables (except neighbor and total GDP),\n",
    "\n",
    "ndr_14 differenced nominal rates (without macro variables)\n",
    "\n",
    "ndr_16 differenced nominal rates (witout unemployment rates)\n",
    "\n",
    "rr_23 represents differenced real rates with all variables (except neighbor and total GDP), and\n",
    "\n",
    "rr_24 represents differenced real rates without M4 and interest rates and without neighbor and total GDP\n",
    "\n",
    "rr_24 differenced real rates without unemployment rates"
   ]
  },
  {
   "cell_type": "code",
   "execution_count": null,
   "id": "0432a079",
   "metadata": {},
   "outputs": [],
   "source": []
  },
  {
   "cell_type": "code",
   "execution_count": 47,
   "id": "441c6a9e",
   "metadata": {},
   "outputs": [],
   "source": [
    "def all_results(dfs, name, folder, show=True):\n",
    "    try:\n",
    "        os.mkdir(folder)\n",
    "    except FileExistsError:\n",
    "        pass\n",
    "\n",
    "    # Specify the absolute path for the output PDF file\n",
    "    pdf_file_path = f\"{folder}/{name}.pdf\"\n",
    "    pp = PdfPages(pdf_file_path)\n",
    "\n",
    "    # Create a grid for the subplots\n",
    "    fig, axes = plt.subplots(4, len(dfs), figsize=(5*len(dfs), 30))\n",
    "\n",
    "    # Different PC algorithms to test\n",
    "    algorithms = [\"orig\"]\n",
    "\n",
    "    # Iterate over each dataframe\n",
    "    for idx, dataframe in enumerate(dfs):\n",
    "        # Get clustered dataframes for the current dataframe\n",
    "        clustered_dfs = create_cluster_dags(dataframe)\n",
    "\n",
    "        # Iterate over clustered dataframes and determine p-values dynamically\n",
    "        for cluster_idx, cluster_df in enumerate(clustered_dfs):\n",
    "            n = cluster_df.shape[0]  # Number of observations for the current cluster\n",
    "            p_value = determine_p_value(n)\n",
    "\n",
    "            # Iterate over different PC algorithms\n",
    "            for algorithm in algorithms:\n",
    "                c = PC(cluster_df)\n",
    "                model = c.estimate(return_type='pdag', variant=algorithm, significance_level=p_value, ci_test='pearsonr')\n",
    "                edges = model.edges\n",
    "\n",
    "                # Create DAG for the current cluster, p-value, and algorithm using the modified graph_DAG function\n",
    "                graph_DAG_cluster(edges, cluster_df, title=f'Dataframe {idx + 1} - Cluster {cluster_idx + 1} - p_value = {p_value}\\nnum_observations={n}'\n",
    "                          , algorithm=algorithm, ax=axes[cluster_idx, idx])\n",
    "\n",
    "    # Save the figure to the PDF\n",
    "    pp.savefig(fig, bbox_inches='tight')\n",
    "\n",
    "    plt.close()    \n",
    "\n",
    "    if show:\n",
    "        plt.show()\n",
    "\n",
    "        \n",
    "    # Create and save plots for shared edges\n",
    "    edges_dct = get_edges_dict(dfs)\n",
    "    col_shared_edges=get_col_shared_edges(edges_dct)\n",
    "    row_shared_edges=get_row_shared_edges(edges_dct)\n",
    "    plot_shared_col_edges(col_shared_edges, name, folder)\n",
    "    plot_shared_row_edges(row_shared_edges, name, folder)\n",
    "\n",
    "    \n",
    "    \n",
    "    pp.close()\n"
   ]
  },
  {
   "cell_type": "code",
   "execution_count": null,
   "id": "6b6436e0",
   "metadata": {},
   "outputs": [],
   "source": []
  },
  {
   "cell_type": "code",
   "execution_count": 48,
   "id": "c55bd5e5",
   "metadata": {},
   "outputs": [
    {
     "name": "stderr",
     "output_type": "stream",
     "text": [
      "Working for n conditional variables: 5: 100%|████████████████████████████████████████████| 5/5 [00:00<00:00, 10.83it/s]\n",
      "Working for n conditional variables: 5: 100%|████████████████████████████████████████████| 5/5 [00:00<00:00, 24.24it/s]\n",
      "Working for n conditional variables: 5: 100%|████████████████████████████████████████████| 5/5 [00:00<00:00, 43.38it/s]\n",
      "Working for n conditional variables: 4:  80%|██████████████████████████████████▍        | 4/5 [00:00<00:00, 108.13it/s]\n",
      "Working for n conditional variables: 3:  60%|█████████████████████████▊                 | 3/5 [00:00<00:00, 222.50it/s]\n",
      "Working for n conditional variables: 2:  40%|█████████████████▏                         | 2/5 [00:00<00:00, 200.33it/s]\n",
      "Working for n conditional variables: 2:  40%|█████████████████▏                         | 2/5 [00:00<00:00, 398.91it/s]\n",
      "Working for n conditional variables: 1:  20%|████████▌                                  | 1/5 [00:00<00:00, 113.49it/s]\n",
      "Working for n conditional variables: 5: 100%|████████████████████████████████████████████| 5/5 [00:00<00:00, 33.73it/s]\n",
      "Working for n conditional variables: 4:  80%|███████████████████████████████████▏        | 4/5 [00:00<00:00, 65.25it/s]\n",
      "Working for n conditional variables: 4:  80%|███████████████████████████████████▏        | 4/5 [00:00<00:00, 91.88it/s]\n",
      "Working for n conditional variables: 3:  60%|█████████████████████████▊                 | 3/5 [00:00<00:00, 160.85it/s]\n",
      "Working for n conditional variables: 5: 100%|████████████████████████████████████████████| 5/5 [00:00<00:00, 11.51it/s]\n",
      "Working for n conditional variables: 5: 100%|████████████████████████████████████████████| 5/5 [00:00<00:00, 27.18it/s]\n",
      "Working for n conditional variables: 5: 100%|████████████████████████████████████████████| 5/5 [00:00<00:00, 46.71it/s]\n",
      "Working for n conditional variables: 4:  80%|███████████████████████████████████▏        | 4/5 [00:00<00:00, 98.77it/s]\n",
      "Working for n conditional variables: 3:  60%|█████████████████████████▊                 | 3/5 [00:00<00:00, 240.10it/s]\n",
      "Working for n conditional variables: 2:  40%|█████████████████▏                         | 2/5 [00:00<00:00, 557.16it/s]\n",
      "Working for n conditional variables: 2:  40%|█████████████████▏                         | 2/5 [00:00<00:00, 273.96it/s]\n",
      "Working for n conditional variables: 1:  20%|██████████▍                                         | 1/5 [00:00<?, ?it/s]\n",
      "Working for n conditional variables: 5: 100%|████████████████████████████████████████████| 5/5 [00:00<00:00, 39.22it/s]\n",
      "Working for n conditional variables: 4:  80%|███████████████████████████████████▏        | 4/5 [00:00<00:00, 72.69it/s]\n",
      "Working for n conditional variables: 4:  80%|██████████████████████████████████▍        | 4/5 [00:00<00:00, 138.54it/s]\n",
      "Working for n conditional variables: 3:  60%|█████████████████████████▊                 | 3/5 [00:00<00:00, 180.12it/s]\n",
      "Working for n conditional variables: 4:  80%|███████████████████████████████████▏        | 4/5 [00:00<00:00, 45.81it/s]\n",
      "Working for n conditional variables: 4:  80%|███████████████████████████████████▏        | 4/5 [00:00<00:00, 55.44it/s]\n",
      "Working for n conditional variables: 4:  80%|███████████████████████████████████▏        | 4/5 [00:00<00:00, 81.08it/s]\n",
      "Working for n conditional variables: 4:  80%|███████████████████████████████████▏        | 4/5 [00:00<00:00, 61.42it/s]\n",
      "Working for n conditional variables: 2:  40%|█████████████████▏                         | 2/5 [00:00<00:00, 290.81it/s]\n",
      "Working for n conditional variables: 4:  80%|███████████████████████████████████▏        | 4/5 [00:00<00:00, 83.20it/s]\n",
      "Working for n conditional variables: 3:  60%|█████████████████████████▊                 | 3/5 [00:00<00:00, 347.15it/s]\n",
      "Working for n conditional variables: 3:  60%|█████████████████████████▊                 | 3/5 [00:00<00:00, 154.74it/s]\n",
      "Working for n conditional variables: 4:  80%|███████████████████████████████████▏        | 4/5 [00:00<00:00, 60.51it/s]\n",
      "Working for n conditional variables: 3:  60%|█████████████████████████▊                 | 3/5 [00:00<00:00, 169.10it/s]\n",
      "Working for n conditional variables: 3:  60%|█████████████████████████▊                 | 3/5 [00:00<00:00, 157.93it/s]\n",
      "Working for n conditional variables: 4:  80%|██████████████████████████████████▍        | 4/5 [00:00<00:00, 107.18it/s]\n",
      "Working for n conditional variables: 4:  80%|███████████████████████████████████▏        | 4/5 [00:00<00:00, 47.62it/s]\n",
      "Working for n conditional variables: 4:  80%|███████████████████████████████████▏        | 4/5 [00:00<00:00, 57.56it/s]\n",
      "Working for n conditional variables: 4:  80%|███████████████████████████████████▏        | 4/5 [00:00<00:00, 78.67it/s]\n",
      "Working for n conditional variables: 4:  80%|███████████████████████████████████▏        | 4/5 [00:00<00:00, 63.59it/s]\n",
      "Working for n conditional variables: 2:  40%|█████████████████▏                         | 2/5 [00:00<00:00, 398.07it/s]\n",
      "Working for n conditional variables: 4:  80%|██████████████████████████████████▍        | 4/5 [00:00<00:00, 101.44it/s]\n",
      "Working for n conditional variables: 3:  60%|█████████████████████████▊                 | 3/5 [00:00<00:00, 335.84it/s]\n",
      "Working for n conditional variables: 3:  60%|█████████████████████████▊                 | 3/5 [00:00<00:00, 182.22it/s]\n",
      "Working for n conditional variables: 4:  80%|███████████████████████████████████▏        | 4/5 [00:00<00:00, 61.14it/s]\n",
      "Working for n conditional variables: 3:  60%|█████████████████████████▊                 | 3/5 [00:00<00:00, 150.49it/s]\n",
      "Working for n conditional variables: 3:  60%|█████████████████████████▊                 | 3/5 [00:00<00:00, 176.75it/s]\n",
      "Working for n conditional variables: 4:  80%|██████████████████████████████████▍        | 4/5 [00:00<00:00, 117.93it/s]\n",
      "Working for n conditional variables: 5: 100%|████████████████████████████████████████████| 5/5 [00:00<00:00, 20.27it/s]\n",
      "Working for n conditional variables: 5: 100%|████████████████████████████████████████████| 5/5 [00:00<00:00, 25.61it/s]\n",
      "Working for n conditional variables: 5: 100%|████████████████████████████████████████████| 5/5 [00:00<00:00, 22.50it/s]\n",
      "Working for n conditional variables: 5: 100%|████████████████████████████████████████████| 5/5 [00:00<00:00, 42.32it/s]\n",
      "Working for n conditional variables: 4:  80%|███████████████████████████████████▏        | 4/5 [00:00<00:00, 61.01it/s]\n",
      "Working for n conditional variables: 4:  80%|██████████████████████████████████▍        | 4/5 [00:00<00:00, 100.86it/s]\n",
      "Working for n conditional variables: 4:  80%|███████████████████████████████████▏        | 4/5 [00:00<00:00, 83.94it/s]\n",
      "Working for n conditional variables: 3:  60%|█████████████████████████▊                 | 3/5 [00:00<00:00, 169.07it/s]\n",
      "Working for n conditional variables: 5: 100%|████████████████████████████████████████████| 5/5 [00:00<00:00, 25.22it/s]\n",
      "Working for n conditional variables: 5: 100%|████████████████████████████████████████████| 5/5 [00:00<00:00, 34.14it/s]\n",
      "Working for n conditional variables: 5: 100%|████████████████████████████████████████████| 5/5 [00:00<00:00, 36.26it/s]\n",
      "Working for n conditional variables: 5: 100%|████████████████████████████████████████████| 5/5 [00:00<00:00, 47.43it/s]\n",
      "Working for n conditional variables: 5: 100%|████████████████████████████████████████████| 5/5 [00:00<00:00, 20.90it/s]\n",
      "Working for n conditional variables: 5: 100%|████████████████████████████████████████████| 5/5 [00:00<00:00, 28.59it/s]\n",
      "Working for n conditional variables: 5: 100%|████████████████████████████████████████████| 5/5 [00:00<00:00, 22.05it/s]\n",
      "Working for n conditional variables: 5: 100%|████████████████████████████████████████████| 5/5 [00:00<00:00, 44.06it/s]\n",
      "Working for n conditional variables: 4:  80%|███████████████████████████████████▏        | 4/5 [00:00<00:00, 57.66it/s]\n",
      "Working for n conditional variables: 4:  80%|██████████████████████████████████▍        | 4/5 [00:00<00:00, 104.79it/s]\n",
      "Working for n conditional variables: 4:  80%|███████████████████████████████████▏        | 4/5 [00:00<00:00, 84.11it/s]\n",
      "Working for n conditional variables: 3:  60%|█████████████████████████▊                 | 3/5 [00:00<00:00, 181.76it/s]\n"
     ]
    },
    {
     "name": "stderr",
     "output_type": "stream",
     "text": [
      "Working for n conditional variables: 5: 100%|████████████████████████████████████████████| 5/5 [00:00<00:00, 25.35it/s]\n",
      "Working for n conditional variables: 5: 100%|████████████████████████████████████████████| 5/5 [00:00<00:00, 36.63it/s]\n",
      "Working for n conditional variables: 5: 100%|████████████████████████████████████████████| 5/5 [00:00<00:00, 35.19it/s]\n",
      "Working for n conditional variables: 5: 100%|████████████████████████████████████████████| 5/5 [00:00<00:00, 49.14it/s]\n",
      "Working for n conditional variables: 5: 100%|████████████████████████████████████████████| 5/5 [00:00<00:00, 21.06it/s]\n",
      "Working for n conditional variables: 5: 100%|████████████████████████████████████████████| 5/5 [00:00<00:00, 20.24it/s]\n",
      "Working for n conditional variables: 5: 100%|████████████████████████████████████████████| 5/5 [00:00<00:00, 31.06it/s]\n",
      "Working for n conditional variables: 5: 100%|████████████████████████████████████████████| 5/5 [00:00<00:00, 17.60it/s]\n",
      "Working for n conditional variables: 4:  80%|███████████████████████████████████▏        | 4/5 [00:00<00:00, 52.88it/s]\n",
      "Working for n conditional variables: 4:  80%|███████████████████████████████████▏        | 4/5 [00:00<00:00, 48.13it/s]\n",
      "Working for n conditional variables: 4:  80%|███████████████████████████████████▏        | 4/5 [00:00<00:00, 60.29it/s]\n",
      "Working for n conditional variables: 4:  80%|███████████████████████████████████▏        | 4/5 [00:00<00:00, 66.04it/s]\n",
      "Working for n conditional variables: 5: 100%|████████████████████████████████████████████| 5/5 [00:00<00:00, 35.96it/s]\n",
      "Working for n conditional variables: 5: 100%|████████████████████████████████████████████| 5/5 [00:00<00:00, 33.94it/s]\n",
      "Working for n conditional variables: 5: 100%|████████████████████████████████████████████| 5/5 [00:00<00:00, 48.63it/s]\n",
      "Working for n conditional variables: 5: 100%|████████████████████████████████████████████| 5/5 [00:00<00:00, 42.92it/s]\n",
      "Working for n conditional variables: 5: 100%|████████████████████████████████████████████| 5/5 [00:00<00:00, 21.75it/s]\n",
      "Working for n conditional variables: 5: 100%|████████████████████████████████████████████| 5/5 [00:00<00:00, 22.07it/s]\n",
      "Working for n conditional variables: 5: 100%|████████████████████████████████████████████| 5/5 [00:00<00:00, 32.39it/s]\n",
      "Working for n conditional variables: 5: 100%|████████████████████████████████████████████| 5/5 [00:00<00:00, 18.43it/s]\n",
      "Working for n conditional variables: 4:  80%|███████████████████████████████████▏        | 4/5 [00:00<00:00, 55.26it/s]\n",
      "Working for n conditional variables: 4:  80%|███████████████████████████████████▏        | 4/5 [00:00<00:00, 45.87it/s]\n",
      "Working for n conditional variables: 4:  80%|███████████████████████████████████▏        | 4/5 [00:00<00:00, 71.35it/s]\n",
      "Working for n conditional variables: 4:  80%|███████████████████████████████████▏        | 4/5 [00:00<00:00, 66.32it/s]\n",
      "Working for n conditional variables: 5: 100%|████████████████████████████████████████████| 5/5 [00:00<00:00, 35.92it/s]\n",
      "Working for n conditional variables: 5: 100%|████████████████████████████████████████████| 5/5 [00:00<00:00, 40.04it/s]\n",
      "Working for n conditional variables: 5: 100%|████████████████████████████████████████████| 5/5 [00:00<00:00, 49.07it/s]\n",
      "Working for n conditional variables: 5: 100%|████████████████████████████████████████████| 5/5 [00:00<00:00, 43.71it/s]\n"
     ]
    }
   ],
   "source": [
    "folder = \"Test\"\n",
    "dfs_sets ={\"Nominal Rates\":[nr_11, nr_12, nr_15],\n",
    "           \"Nominal Differenced Rates\":[ndr_13, ndr_14, ndr_16],\n",
    "           \"Real Rates\":[rr_21, rr_22, rr_25],\n",
    "           \"Real Differenced Rates\":[rdr_23, rdr_24, rdr_26]}\n",
    "for name, df_set in dfs_sets.items():\n",
    "    all_results(df_set, name, folder, show = False)"
   ]
  },
  {
   "cell_type": "markdown",
   "id": "a9fb1d4b",
   "metadata": {},
   "source": [
    "plot_df1 = nominal rates\n",
    "\n",
    "plot_df2 = nominal rates without M4 variables\n",
    "\n",
    "plot_df3 = nominal rates without unemployment\n",
    "\n",
    "plot_df4 = differenced nominal rates\n",
    "\n",
    "plot_df5 = differenced nominal rates without M4 variables\n",
    "\n",
    "plot_df6 = differenced nominal rates without unemployment\n",
    "\n",
    "plot_df7 = real rates\n",
    "\n",
    "plot_df8 = real rates without M4 variables\n",
    "\n",
    "plot_df9 = real rates without unemployment\n",
    "\n",
    "plot_df10 = real differenced rates\n",
    "\n",
    "plot_df11 = real differenced rates without M4 variables\n",
    "\n",
    "plot_df12 = real differenced rates without unemployment"
   ]
  },
  {
   "cell_type": "code",
   "execution_count": 49,
   "id": "0dd94b1f",
   "metadata": {},
   "outputs": [],
   "source": [
    "# def full_dags(dataframes, name, folder_path):\n",
    "#     with PdfPages(folder_path + f'/{name}.pdf') as pp:\n",
    "#         for i, plot_df in enumerate(dataframes):\n",
    "#             c = PC(plot_df)\n",
    "#             max_cond_vars = len(plot_df.keys()) - 2\n",
    "#             model = c.estimate(return_type='pdag', variant='parallel', significance_level=0.01,\n",
    "#                                max_cond_vars=max_cond_vars, ci_test='pearsonr')\n",
    "#             edges = model.edges\n",
    "\n",
    "#             # Plot the DAG\n",
    "#             graph_DAG(edges, plot_df, title=f'Directed Acyclic Graph {i+1}')\n",
    "            \n",
    "#             # Save the plot to the PDF\n",
    "#             pp.savefig(bbox_inches='tight')\n",
    "\n",
    "#             # Close the plot to prevent it from being displayed\n",
    "#             plt.close()\n",
    "            "
   ]
  },
  {
   "cell_type": "code",
   "execution_count": 50,
   "id": "600f3ae0",
   "metadata": {},
   "outputs": [],
   "source": [
    "\n",
    "# dataframes = [plot_df1, plot_df2, plot_df3, plot_df4, plot_df5, plot_df6, \n",
    "#               plot_df7, plot_df8, plot_df9, plot_df10, plot_df11, plot_df12]\n",
    "# folder_path = 'Test'\n",
    "# name = 'Full DAGs'\n",
    "# full_dags(dataframes, name, folder_path)\n"
   ]
  },
  {
   "cell_type": "code",
   "execution_count": null,
   "id": "b40d1059",
   "metadata": {},
   "outputs": [],
   "source": []
  },
  {
   "cell_type": "code",
   "execution_count": 51,
   "id": "557877cd",
   "metadata": {},
   "outputs": [],
   "source": [
    "def full_dags(dataframes, name, folder_path):\n",
    "    # Create a folder for JPG files if it doesn't exist\n",
    "    jpg_folder = os.path.join(folder_path, 'jpg')\n",
    "    os.makedirs(jpg_folder, exist_ok=True)\n",
    "\n",
    "    with PdfPages(os.path.join(folder_path, f'{name}.pdf')) as pdf:\n",
    "        for i, plot_df in enumerate(dataframes):\n",
    "            c = PC(plot_df)\n",
    "            max_cond_vars = len(plot_df.keys()) - 2\n",
    "            model = c.estimate(return_type='pdag', variant='parallel', significance_level=0.01,\n",
    "                               max_cond_vars=max_cond_vars, ci_test='pearsonr')\n",
    "            edges = model.edges\n",
    "\n",
    "            # Plot the DAG\n",
    "            graph_DAG(edges, plot_df, title=f'Directed Acyclic Graph {i+1}')\n",
    "\n",
    "            # Save the plot to PDF\n",
    "            pdf.savefig(bbox_inches='tight')\n",
    "            plt.close()\n",
    "\n",
    "            # Save the plot to JPG\n",
    "            plt.figure()\n",
    "            graph_DAG(edges, plot_df, title=f'Directed Acyclic Graph {i+1}')\n",
    "            plt.savefig(os.path.join(jpg_folder, f'{name}_{i+1}.jpg'), bbox_inches='tight')\n",
    "            plt.close()\n"
   ]
  },
  {
   "cell_type": "code",
   "execution_count": 52,
   "id": "1280c2ec",
   "metadata": {},
   "outputs": [
    {
     "name": "stderr",
     "output_type": "stream",
     "text": [
      "Working for n conditional variables: 4: 100%|████████████████████████████████████████████| 4/4 [00:00<00:00,  5.94it/s]\n"
     ]
    },
    {
     "name": "stdout",
     "output_type": "stream",
     "text": [
      "keep control: Mini\n",
      "keep control: Util\n",
      "('M4_y', 'unem') ['Mini', 'Util']\n",
      "('unem', 'M4 I') []\n",
      "keep control: Util\n",
      "keep control: M4_y\n",
      "('Mini', 'unem') ['Util', 'M4_y']\n",
      "keep control: Util\n",
      "('M4 I', 'M4_y') ['Util']\n",
      "('M4 I', 'Mini') []\n",
      "keep control: M4 I\n",
      "('Util', 'M4_y') ['M4 I']\n",
      "keep control: Mini\n",
      "keep control: M4_y\n",
      "('Util', 'unem') ['Mini', 'M4_y']\n",
      "keep control: Mini\n",
      "keep control: Util\n",
      "('M4_y', 'unem') ['Mini', 'Util']\n",
      "('unem', 'M4 I') []\n",
      "keep control: Util\n",
      "keep control: M4_y\n",
      "('Mini', 'unem') ['Util', 'M4_y']\n",
      "keep control: Util\n",
      "('M4 I', 'M4_y') ['Util']\n",
      "('M4 I', 'Mini') []\n",
      "keep control: M4 I\n",
      "('Util', 'M4_y') ['M4 I']\n",
      "keep control: Mini\n",
      "keep control: M4_y\n",
      "('Util', 'unem') ['Mini', 'M4_y']\n"
     ]
    },
    {
     "name": "stderr",
     "output_type": "stream",
     "text": [
      "Working for n conditional variables: 2: 100%|████████████████████████████████████████████| 2/2 [00:00<00:00,  5.99it/s]\n"
     ]
    },
    {
     "name": "stdout",
     "output_type": "stream",
     "text": [
      "keep control: Util\n",
      "('Mini', 'unem') ['Util']\n",
      "keep control: Mini\n",
      "('Util', 'unem') ['Mini']\n",
      "keep control: Util\n",
      "('Mini', 'unem') ['Util']\n",
      "keep control: Mini\n",
      "('Util', 'unem') ['Mini']\n"
     ]
    },
    {
     "name": "stderr",
     "output_type": "stream",
     "text": [
      "Working for n conditional variables: 3: 100%|████████████████████████████████████████████| 3/3 [00:00<00:00,  6.75it/s]\n"
     ]
    },
    {
     "name": "stdout",
     "output_type": "stream",
     "text": [
      "('M4_y', 'Util') []\n",
      "keep control: Mini\n",
      "('Util', 'M4 I') ['Mini']\n",
      "('M4 I', 'M4_y') []\n",
      "keep control: Util\n",
      "('Mini', 'M4 I') ['Util']\n",
      "('M4_y', 'Util') []\n",
      "keep control: Mini\n",
      "('Util', 'M4 I') ['Mini']\n",
      "('M4 I', 'M4_y') []\n",
      "keep control: Util\n",
      "('Mini', 'M4 I') ['Util']\n"
     ]
    },
    {
     "name": "stderr",
     "output_type": "stream",
     "text": [
      "Working for n conditional variables: 4: 100%|████████████████████████████████████████████| 4/4 [00:00<00:00,  6.06it/s]\n"
     ]
    },
    {
     "name": "stdout",
     "output_type": "stream",
     "text": [
      "('M4_y', 'unem') []\n",
      "('unem', 'Mini') []\n",
      "keep control: Mini\n",
      "('unem', 'M4 I') ['Mini']\n",
      "keep control: unem\n",
      "('Mini', 'M4 I') ['unem']\n",
      "keep control: Util\n",
      "('Agri', 'M4_y') ['Util']\n",
      "keep control: Agri\n",
      "('Util', 'M4_y') ['Agri']\n",
      "('M4_y', 'unem') []\n",
      "('unem', 'Mini') []\n",
      "keep control: Mini\n",
      "('unem', 'M4 I') ['Mini']\n",
      "keep control: unem\n",
      "('Mini', 'M4 I') ['unem']\n",
      "keep control: Util\n",
      "('Agri', 'M4_y') ['Util']\n",
      "keep control: Agri\n",
      "('Util', 'M4_y') ['Agri']\n"
     ]
    },
    {
     "name": "stderr",
     "output_type": "stream",
     "text": [
      "Working for n conditional variables: 2: 100%|████████████████████████████████████████████| 2/2 [00:00<00:00,  6.00it/s]\n"
     ]
    },
    {
     "name": "stdout",
     "output_type": "stream",
     "text": [
      "keep control: Util\n",
      "keep control: Agri\n",
      "('Mini', 'unem') ['Util', 'Agri']\n",
      "keep control: Mini\n",
      "keep control: Util\n",
      "('Agri', 'unem') ['Mini', 'Util']\n",
      "keep control: Mini\n",
      "keep control: Agri\n",
      "('Util', 'unem') ['Mini', 'Agri']\n",
      "keep control: Util\n",
      "keep control: Agri\n",
      "('Mini', 'unem') ['Util', 'Agri']\n",
      "keep control: Mini\n",
      "keep control: Util\n",
      "('Agri', 'unem') ['Mini', 'Util']\n",
      "keep control: Mini\n",
      "keep control: Agri\n",
      "('Util', 'unem') ['Mini', 'Agri']\n"
     ]
    },
    {
     "name": "stderr",
     "output_type": "stream",
     "text": [
      "Working for n conditional variables: 3: 100%|████████████████████████████████████████████| 3/3 [00:00<00:00,  6.36it/s]\n"
     ]
    },
    {
     "name": "stdout",
     "output_type": "stream",
     "text": [
      "keep control: Mini\n",
      "keep control: Util\n",
      "keep control: Agri\n",
      "('M4 I', 'M4_y') ['Mini', 'Util', 'Agri']\n",
      "('M4 I', 'Mini') []\n",
      "keep control: Util\n",
      "keep control: M4 I\n",
      "keep control: Agri\n",
      "('Mini', 'M4_y') ['Util', 'M4 I', 'Agri']\n",
      "('Mini', 'M4 I') []\n",
      "keep control: Mini\n",
      "keep control: Util\n",
      "keep control: M4 I\n",
      "('Agri', 'M4_y') ['Mini', 'Util', 'M4 I']\n",
      "keep control: Mini\n",
      "keep control: M4 I\n",
      "keep control: Agri\n",
      "('Util', 'M4_y') ['Mini', 'M4 I', 'Agri']\n",
      "keep control: Mini\n",
      "keep control: Util\n",
      "keep control: Agri\n",
      "('M4 I', 'M4_y') ['Mini', 'Util', 'Agri']\n",
      "('M4 I', 'Mini') []\n",
      "keep control: Util\n",
      "keep control: M4 I\n",
      "keep control: Agri\n",
      "('Mini', 'M4_y') ['Util', 'M4 I', 'Agri']\n",
      "('Mini', 'M4 I') []\n",
      "keep control: Mini\n",
      "keep control: Util\n",
      "keep control: M4 I\n",
      "('Agri', 'M4_y') ['Mini', 'Util', 'M4 I']\n",
      "keep control: Mini\n",
      "keep control: M4 I\n",
      "keep control: Agri\n",
      "('Util', 'M4_y') ['Mini', 'M4 I', 'Agri']\n"
     ]
    },
    {
     "name": "stderr",
     "output_type": "stream",
     "text": [
      "Working for n conditional variables: 4: 100%|████████████████████████████████████████████| 4/4 [00:00<00:00,  6.00it/s]\n"
     ]
    },
    {
     "name": "stdout",
     "output_type": "stream",
     "text": [
      "keep control: Util\n",
      "keep control: unem\n",
      "('RM4_', 'RM4I') ['Util', 'unem']\n",
      "('RM4_', 'Agri') []\n",
      "('RM4_', 'Util') []\n",
      "('RM4_', 'Mini') []\n",
      "keep control: Util\n",
      "keep control: RM4_\n",
      "('unem', 'RM4I') ['Util', 'RM4_']\n",
      "keep control: unem\n",
      "keep control: RM4_\n",
      "('Util', 'RM4I') ['unem', 'RM4_']\n",
      "keep control: Mini\n",
      "keep control: Agri\n",
      "('Util', 'RM4_') ['Mini', 'Agri']\n",
      "keep control: Mini\n",
      "keep control: Util\n",
      "('Agri', 'RM4_') ['Mini', 'Util']\n",
      "keep control: Util\n",
      "keep control: Agri\n",
      "('Mini', 'RM4_') ['Util', 'Agri']\n",
      "keep control: Util\n",
      "keep control: unem\n",
      "('RM4_', 'RM4I') ['Util', 'unem']\n",
      "('RM4_', 'Agri') []\n",
      "('RM4_', 'Util') []\n",
      "('RM4_', 'Mini') []\n",
      "keep control: Util\n",
      "keep control: RM4_\n",
      "('unem', 'RM4I') ['Util', 'RM4_']\n",
      "keep control: unem\n",
      "keep control: RM4_\n",
      "('Util', 'RM4I') ['unem', 'RM4_']\n",
      "keep control: Mini\n",
      "keep control: Agri\n",
      "('Util', 'RM4_') ['Mini', 'Agri']\n",
      "keep control: Mini\n",
      "keep control: Util\n",
      "('Agri', 'RM4_') ['Mini', 'Util']\n",
      "keep control: Util\n",
      "keep control: Agri\n",
      "('Mini', 'RM4_') ['Util', 'Agri']\n"
     ]
    },
    {
     "name": "stderr",
     "output_type": "stream",
     "text": [
      "Working for n conditional variables: 2: 100%|████████████████████████████████████████████| 2/2 [00:00<00:00,  5.95it/s]\n"
     ]
    },
    {
     "name": "stdout",
     "output_type": "stream",
     "text": [
      "keep control: Util\n",
      "keep control: unem\n",
      "('Mini', 'Agri') ['Util', 'unem']\n",
      "('Mini', 'Util') []\n",
      "keep control: Mini\n",
      "keep control: unem\n",
      "('Util', 'Agri') ['Mini', 'unem']\n",
      "('Util', 'Mini') []\n",
      "keep control: Mini\n",
      "keep control: Util\n",
      "('unem', 'Agri') ['Mini', 'Util']\n",
      "keep control: Util\n",
      "keep control: unem\n",
      "('Mini', 'Agri') ['Util', 'unem']\n",
      "('Mini', 'Util') []\n",
      "keep control: Mini\n",
      "keep control: unem\n",
      "('Util', 'Agri') ['Mini', 'unem']\n",
      "('Util', 'Mini') []\n",
      "keep control: Mini\n",
      "keep control: Util\n",
      "('unem', 'Agri') ['Mini', 'Util']\n"
     ]
    },
    {
     "name": "stderr",
     "output_type": "stream",
     "text": [
      "Working for n conditional variables: 3: 100%|████████████████████████████████████████████| 3/3 [00:00<00:00,  3.93it/s]\n"
     ]
    },
    {
     "name": "stdout",
     "output_type": "stream",
     "text": [
      "keep control: Util\n",
      "('RM4_', 'RM4I') ['Util']\n",
      "('RM4_', 'Agri') []\n",
      "keep control: RM4I\n",
      "('RM4_', 'Util') ['RM4I']\n",
      "('RM4_', 'Mini') []\n",
      "keep control: Mini\n",
      "keep control: Util\n",
      "keep control: Agri\n",
      "('RM4I', 'RM4_') ['Mini', 'Util', 'Agri']\n",
      "keep control: RM4_\n",
      "('RM4I', 'Util') ['RM4_']\n",
      "keep control: Mini\n",
      "keep control: Util\n",
      "keep control: RM4I\n",
      "('Agri', 'RM4_') ['Mini', 'Util', 'RM4I']\n",
      "keep control: Mini\n",
      "keep control: RM4I\n",
      "keep control: Agri\n",
      "('Util', 'RM4_') ['Mini', 'RM4I', 'Agri']\n",
      "keep control: RM4_\n",
      "('Util', 'RM4I') ['RM4_']\n",
      "keep control: Util\n",
      "keep control: RM4I\n",
      "keep control: Agri\n",
      "('Mini', 'RM4_') ['Util', 'RM4I', 'Agri']\n",
      "keep control: Util\n",
      "('RM4_', 'RM4I') ['Util']\n",
      "('RM4_', 'Agri') []\n",
      "keep control: RM4I\n",
      "('RM4_', 'Util') ['RM4I']\n",
      "('RM4_', 'Mini') []\n",
      "keep control: Mini\n",
      "keep control: Util\n",
      "keep control: Agri\n",
      "('RM4I', 'RM4_') ['Mini', 'Util', 'Agri']\n",
      "keep control: RM4_\n",
      "('RM4I', 'Util') ['RM4_']\n",
      "keep control: Mini\n",
      "keep control: Util\n",
      "keep control: RM4I\n",
      "('Agri', 'RM4_') ['Mini', 'Util', 'RM4I']\n",
      "keep control: Mini\n",
      "keep control: RM4I\n",
      "keep control: Agri\n",
      "('Util', 'RM4_') ['Mini', 'RM4I', 'Agri']\n",
      "keep control: RM4_\n",
      "('Util', 'RM4I') ['RM4_']\n",
      "keep control: Util\n",
      "keep control: RM4I\n",
      "keep control: Agri\n",
      "('Mini', 'RM4_') ['Util', 'RM4I', 'Agri']\n"
     ]
    },
    {
     "name": "stderr",
     "output_type": "stream",
     "text": [
      "Working for n conditional variables: 4: 100%|████████████████████████████████████████████| 4/4 [00:00<00:00,  4.39it/s]\n"
     ]
    },
    {
     "name": "stdout",
     "output_type": "stream",
     "text": [
      "keep control: Mini\n",
      "keep control: Util\n",
      "('RM4_', 'RM4I') ['Mini', 'Util']\n",
      "('RM4_', 'Agri') []\n",
      "('RM4_', 'Util') []\n",
      "('RM4_', 'Mini') []\n",
      "('Mini', 'unem') []\n",
      "keep control: RM4_\n",
      "keep control: Util\n",
      "('Mini', 'RM4I') ['RM4_', 'Util']\n",
      "keep control: Util\n",
      "('Mini', 'RM4_') ['Util']\n",
      "keep control: Mini\n",
      "keep control: RM4_\n",
      "('Util', 'RM4I') ['Mini', 'RM4_']\n",
      "keep control: Mini\n",
      "('Util', 'RM4_') ['Mini']\n",
      "keep control: Mini\n",
      "keep control: Util\n",
      "('RM4_', 'RM4I') ['Mini', 'Util']\n",
      "('RM4_', 'Agri') []\n",
      "('RM4_', 'Util') []\n",
      "('RM4_', 'Mini') []\n",
      "('Mini', 'unem') []\n",
      "keep control: RM4_\n",
      "keep control: Util\n",
      "('Mini', 'RM4I') ['RM4_', 'Util']\n",
      "keep control: Util\n",
      "('Mini', 'RM4_') ['Util']\n",
      "keep control: Mini\n",
      "keep control: RM4_\n",
      "('Util', 'RM4I') ['Mini', 'RM4_']\n",
      "keep control: Mini\n",
      "('Util', 'RM4_') ['Mini']\n"
     ]
    },
    {
     "name": "stderr",
     "output_type": "stream",
     "text": [
      "Working for n conditional variables: 2: 100%|████████████████████████████████████████████| 2/2 [00:00<00:00,  6.01it/s]\n"
     ]
    },
    {
     "name": "stdout",
     "output_type": "stream",
     "text": [
      "keep control: Mini\n",
      "('Agri', 'Util') ['Mini']\n",
      "keep control: Mini\n",
      "('Agri', 'unem') ['Mini']\n",
      "keep control: Util\n",
      "keep control: unem\n",
      "('Agri', 'Mini') ['Util', 'unem']\n",
      "keep control: Mini\n",
      "keep control: unem\n",
      "('Util', 'Agri') ['Mini', 'unem']\n",
      "keep control: unem\n",
      "keep control: Agri\n",
      "('Util', 'Mini') ['unem', 'Agri']\n",
      "keep control: Mini\n",
      "keep control: Util\n",
      "('unem', 'Agri') ['Mini', 'Util']\n",
      "keep control: Util\n",
      "keep control: Agri\n",
      "('unem', 'Mini') ['Util', 'Agri']\n",
      "keep control: Util\n",
      "keep control: unem\n",
      "('Mini', 'Agri') ['Util', 'unem']\n",
      "keep control: Agri\n",
      "('Mini', 'Util') ['Agri']\n",
      "keep control: Agri\n",
      "('Mini', 'unem') ['Agri']\n",
      "keep control: Mini\n",
      "('Agri', 'Util') ['Mini']\n",
      "keep control: Mini\n",
      "('Agri', 'unem') ['Mini']\n",
      "keep control: Util\n",
      "keep control: unem\n",
      "('Agri', 'Mini') ['Util', 'unem']\n",
      "keep control: Mini\n",
      "keep control: unem\n",
      "('Util', 'Agri') ['Mini', 'unem']\n",
      "keep control: unem\n",
      "keep control: Agri\n",
      "('Util', 'Mini') ['unem', 'Agri']\n",
      "keep control: Mini\n",
      "keep control: Util\n",
      "('unem', 'Agri') ['Mini', 'Util']\n",
      "keep control: Util\n",
      "keep control: Agri\n",
      "('unem', 'Mini') ['Util', 'Agri']\n",
      "keep control: Util\n",
      "keep control: unem\n",
      "('Mini', 'Agri') ['Util', 'unem']\n",
      "keep control: Agri\n",
      "('Mini', 'Util') ['Agri']\n",
      "keep control: Agri\n",
      "('Mini', 'unem') ['Agri']\n"
     ]
    },
    {
     "name": "stderr",
     "output_type": "stream",
     "text": [
      "Working for n conditional variables: 3: 100%|████████████████████████████████████████████| 3/3 [00:00<00:00,  5.50it/s]\n"
     ]
    },
    {
     "name": "stdout",
     "output_type": "stream",
     "text": [
      "keep control: Mini\n",
      "keep control: Util\n",
      "keep control: Agri\n",
      "('RM4_', 'RM4I') ['Mini', 'Util', 'Agri']\n",
      "('RM4_', 'Agri') []\n",
      "('RM4_', 'Util') []\n",
      "('RM4_', 'Mini') []\n",
      "keep control: RM4_\n",
      "keep control: Util\n",
      "keep control: Agri\n",
      "('Mini', 'RM4I') ['RM4_', 'Util', 'Agri']\n",
      "keep control: Util\n",
      "keep control: Agri\n",
      "('Mini', 'RM4_') ['Util', 'Agri']\n",
      "keep control: Mini\n",
      "keep control: RM4_\n",
      "keep control: Agri\n",
      "('Util', 'RM4I') ['Mini', 'RM4_', 'Agri']\n",
      "keep control: Mini\n",
      "keep control: Agri\n",
      "('Util', 'RM4_') ['Mini', 'Agri']\n",
      "keep control: Mini\n",
      "keep control: Util\n",
      "keep control: RM4_\n",
      "('Agri', 'RM4I') ['Mini', 'Util', 'RM4_']\n",
      "keep control: Mini\n",
      "keep control: Util\n",
      "('Agri', 'RM4_') ['Mini', 'Util']\n",
      "keep control: Mini\n",
      "keep control: Util\n",
      "keep control: Agri\n",
      "('RM4_', 'RM4I') ['Mini', 'Util', 'Agri']\n",
      "('RM4_', 'Agri') []\n",
      "('RM4_', 'Util') []\n",
      "('RM4_', 'Mini') []\n",
      "keep control: RM4_\n",
      "keep control: Util\n",
      "keep control: Agri\n",
      "('Mini', 'RM4I') ['RM4_', 'Util', 'Agri']\n",
      "keep control: Util\n",
      "keep control: Agri\n",
      "('Mini', 'RM4_') ['Util', 'Agri']\n",
      "keep control: Mini\n",
      "keep control: RM4_\n",
      "keep control: Agri\n",
      "('Util', 'RM4I') ['Mini', 'RM4_', 'Agri']\n",
      "keep control: Mini\n",
      "keep control: Agri\n",
      "('Util', 'RM4_') ['Mini', 'Agri']\n",
      "keep control: Mini\n",
      "keep control: Util\n",
      "keep control: RM4_\n",
      "('Agri', 'RM4I') ['Mini', 'Util', 'RM4_']\n",
      "keep control: Mini\n",
      "keep control: Util\n",
      "('Agri', 'RM4_') ['Mini', 'Util']\n"
     ]
    },
    {
     "data": {
      "text/plain": [
       "<Figure size 432x288 with 0 Axes>"
      ]
     },
     "metadata": {},
     "output_type": "display_data"
    },
    {
     "data": {
      "text/plain": [
       "<Figure size 432x288 with 0 Axes>"
      ]
     },
     "metadata": {},
     "output_type": "display_data"
    },
    {
     "data": {
      "text/plain": [
       "<Figure size 432x288 with 0 Axes>"
      ]
     },
     "metadata": {},
     "output_type": "display_data"
    },
    {
     "data": {
      "text/plain": [
       "<Figure size 432x288 with 0 Axes>"
      ]
     },
     "metadata": {},
     "output_type": "display_data"
    },
    {
     "data": {
      "text/plain": [
       "<Figure size 432x288 with 0 Axes>"
      ]
     },
     "metadata": {},
     "output_type": "display_data"
    },
    {
     "data": {
      "text/plain": [
       "<Figure size 432x288 with 0 Axes>"
      ]
     },
     "metadata": {},
     "output_type": "display_data"
    },
    {
     "data": {
      "text/plain": [
       "<Figure size 432x288 with 0 Axes>"
      ]
     },
     "metadata": {},
     "output_type": "display_data"
    },
    {
     "data": {
      "text/plain": [
       "<Figure size 432x288 with 0 Axes>"
      ]
     },
     "metadata": {},
     "output_type": "display_data"
    },
    {
     "data": {
      "text/plain": [
       "<Figure size 432x288 with 0 Axes>"
      ]
     },
     "metadata": {},
     "output_type": "display_data"
    },
    {
     "data": {
      "text/plain": [
       "<Figure size 432x288 with 0 Axes>"
      ]
     },
     "metadata": {},
     "output_type": "display_data"
    },
    {
     "data": {
      "text/plain": [
       "<Figure size 432x288 with 0 Axes>"
      ]
     },
     "metadata": {},
     "output_type": "display_data"
    },
    {
     "data": {
      "text/plain": [
       "<Figure size 432x288 with 0 Axes>"
      ]
     },
     "metadata": {},
     "output_type": "display_data"
    }
   ],
   "source": [
    "# Plotting the full dags\n",
    "dataframes = [plot_df1, plot_df2, plot_df3, plot_df4, plot_df5, plot_df6, \n",
    "              plot_df7, plot_df8, plot_df9, plot_df10, plot_df11, plot_df12]\n",
    "folder_path = 'full dags'\n",
    "name = 'Full DAGs'\n",
    "full_dags(dataframes, name, folder_path)\n"
   ]
  },
  {
   "cell_type": "code",
   "execution_count": 53,
   "id": "98d2ddac",
   "metadata": {},
   "outputs": [],
   "source": [
    "# kml3d_ai_level22.columns"
   ]
  },
  {
   "cell_type": "code",
   "execution_count": 54,
   "id": "4d343c1e",
   "metadata": {},
   "outputs": [
    {
     "data": {
      "text/html": [
       "<div>\n",
       "<style scoped>\n",
       "    .dataframe tbody tr th:only-of-type {\n",
       "        vertical-align: middle;\n",
       "    }\n",
       "\n",
       "    .dataframe tbody tr th {\n",
       "        vertical-align: top;\n",
       "    }\n",
       "\n",
       "    .dataframe thead th {\n",
       "        text-align: right;\n",
       "    }\n",
       "</style>\n",
       "<table border=\"1\" class=\"dataframe\">\n",
       "  <thead>\n",
       "    <tr style=\"text-align: right;\">\n",
       "      <th></th>\n",
       "      <th></th>\n",
       "      <th>Agri</th>\n",
       "      <th>Mini</th>\n",
       "      <th>Util</th>\n",
       "      <th>M4_y</th>\n",
       "      <th>M4 I</th>\n",
       "      <th>unem</th>\n",
       "    </tr>\n",
       "    <tr>\n",
       "      <th>FIPS_y</th>\n",
       "      <th>TimePeriod</th>\n",
       "      <th></th>\n",
       "      <th></th>\n",
       "      <th></th>\n",
       "      <th></th>\n",
       "      <th></th>\n",
       "      <th></th>\n",
       "    </tr>\n",
       "  </thead>\n",
       "  <tbody>\n",
       "    <tr>\n",
       "      <th rowspan=\"5\" valign=\"top\">1001.0</th>\n",
       "      <th>2002</th>\n",
       "      <td>-0.217648</td>\n",
       "      <td>-0.419451</td>\n",
       "      <td>0.835570</td>\n",
       "      <td>0.055668</td>\n",
       "      <td>0.007415</td>\n",
       "      <td>4.807692</td>\n",
       "    </tr>\n",
       "    <tr>\n",
       "      <th>2003</th>\n",
       "      <td>0.793538</td>\n",
       "      <td>0.191126</td>\n",
       "      <td>0.068072</td>\n",
       "      <td>0.048754</td>\n",
       "      <td>0.008946</td>\n",
       "      <td>5.000000</td>\n",
       "    </tr>\n",
       "    <tr>\n",
       "      <th>2004</th>\n",
       "      <td>0.222678</td>\n",
       "      <td>0.470578</td>\n",
       "      <td>0.505041</td>\n",
       "      <td>0.054306</td>\n",
       "      <td>0.020890</td>\n",
       "      <td>4.715385</td>\n",
       "    </tr>\n",
       "    <tr>\n",
       "      <th>2005</th>\n",
       "      <td>0.169133</td>\n",
       "      <td>0.238805</td>\n",
       "      <td>-0.239593</td>\n",
       "      <td>0.056279</td>\n",
       "      <td>0.032386</td>\n",
       "      <td>3.784615</td>\n",
       "    </tr>\n",
       "    <tr>\n",
       "      <th>2006</th>\n",
       "      <td>0.176881</td>\n",
       "      <td>0.342614</td>\n",
       "      <td>0.436516</td>\n",
       "      <td>0.063506</td>\n",
       "      <td>0.033668</td>\n",
       "      <td>3.315385</td>\n",
       "    </tr>\n",
       "    <tr>\n",
       "      <th>...</th>\n",
       "      <th>...</th>\n",
       "      <td>...</td>\n",
       "      <td>...</td>\n",
       "      <td>...</td>\n",
       "      <td>...</td>\n",
       "      <td>...</td>\n",
       "      <td>...</td>\n",
       "    </tr>\n",
       "    <tr>\n",
       "      <th rowspan=\"5\" valign=\"top\">56045.0</th>\n",
       "      <th>2016</th>\n",
       "      <td>-0.209103</td>\n",
       "      <td>-0.018912</td>\n",
       "      <td>-0.193847</td>\n",
       "      <td>0.043399</td>\n",
       "      <td>0.003105</td>\n",
       "      <td>5.007692</td>\n",
       "    </tr>\n",
       "    <tr>\n",
       "      <th>2017</th>\n",
       "      <td>0.360970</td>\n",
       "      <td>-0.009520</td>\n",
       "      <td>-0.026597</td>\n",
       "      <td>0.043091</td>\n",
       "      <td>0.006836</td>\n",
       "      <td>4.084615</td>\n",
       "    </tr>\n",
       "    <tr>\n",
       "      <th>2018</th>\n",
       "      <td>0.178369</td>\n",
       "      <td>0.206669</td>\n",
       "      <td>0.065212</td>\n",
       "      <td>0.052718</td>\n",
       "      <td>0.008433</td>\n",
       "      <td>3.538462</td>\n",
       "    </tr>\n",
       "    <tr>\n",
       "      <th>2019</th>\n",
       "      <td>-0.516320</td>\n",
       "      <td>0.209558</td>\n",
       "      <td>0.195492</td>\n",
       "      <td>0.208378</td>\n",
       "      <td>0.002033</td>\n",
       "      <td>2.992308</td>\n",
       "    </tr>\n",
       "    <tr>\n",
       "      <th>2020</th>\n",
       "      <td>-0.494913</td>\n",
       "      <td>-0.334780</td>\n",
       "      <td>-0.095830</td>\n",
       "      <td>0.097720</td>\n",
       "      <td>0.000516</td>\n",
       "      <td>3.869231</td>\n",
       "    </tr>\n",
       "  </tbody>\n",
       "</table>\n",
       "<p>30871 rows × 6 columns</p>\n",
       "</div>"
      ],
      "text/plain": [
       "                        Agri      Mini      Util      M4_y      M4 I      unem\n",
       "FIPS_y  TimePeriod                                                            \n",
       "1001.0  2002       -0.217648 -0.419451  0.835570  0.055668  0.007415  4.807692\n",
       "        2003        0.793538  0.191126  0.068072  0.048754  0.008946  5.000000\n",
       "        2004        0.222678  0.470578  0.505041  0.054306  0.020890  4.715385\n",
       "        2005        0.169133  0.238805 -0.239593  0.056279  0.032386  3.784615\n",
       "        2006        0.176881  0.342614  0.436516  0.063506  0.033668  3.315385\n",
       "...                      ...       ...       ...       ...       ...       ...\n",
       "56045.0 2016       -0.209103 -0.018912 -0.193847  0.043399  0.003105  5.007692\n",
       "        2017        0.360970 -0.009520 -0.026597  0.043091  0.006836  4.084615\n",
       "        2018        0.178369  0.206669  0.065212  0.052718  0.008433  3.538462\n",
       "        2019       -0.516320  0.209558  0.195492  0.208378  0.002033  2.992308\n",
       "        2020       -0.494913 -0.334780 -0.095830  0.097720  0.000516  3.869231\n",
       "\n",
       "[30871 rows x 6 columns]"
      ]
     },
     "execution_count": 54,
     "metadata": {},
     "output_type": "execute_result"
    }
   ],
   "source": [
    "plot_df1"
   ]
  },
  {
   "cell_type": "code",
   "execution_count": 55,
   "id": "9851d0a1",
   "metadata": {},
   "outputs": [],
   "source": [
    "# def formatted_scatter_matrix(data,fig_len = 15,\n",
    "#                              c = \"C0\",\n",
    "#                             alpha = .1, pp = False):\n",
    "#         plt.rcParams.update({'font.size': 10})  \n",
    "\n",
    "#         fig, ax = plt.subplots(figsize = ((fig_len, fig_len)))  \n",
    "#         pd.plotting.scatter_matrix(data, color = c, \n",
    "#                            alpha = .2, \n",
    "#                            s = 200 / len(data.keys()), ax=ax)  \n",
    "#         plt.show()"
   ]
  },
  {
   "cell_type": "code",
   "execution_count": 56,
   "id": "50baa594",
   "metadata": {},
   "outputs": [],
   "source": [
    "# plot_df = kml3d_ai_level22\n",
    "# clusters = plot_df[\"clusters\"].unique()\n",
    "# plot_df[\"Cluster Color\"] = \"\"\n",
    "# for i in clusters:\n",
    "#     plot_df[\"Cluster Color\"][plot_df[\"clusters\"] == i] = f\"C{i}\" \n",
    "# plot_df"
   ]
  },
  {
   "cell_type": "code",
   "execution_count": 57,
   "id": "7fa95e1d",
   "metadata": {},
   "outputs": [],
   "source": [
    "# formatted_scatter_matrix(plot_df, c =plot_df[\"Cluster Color\"],fig_len = 15)"
   ]
  },
  {
   "cell_type": "code",
   "execution_count": null,
   "id": "0ce0683f",
   "metadata": {},
   "outputs": [],
   "source": []
  },
  {
   "cell_type": "code",
   "execution_count": null,
   "id": "c9394374",
   "metadata": {},
   "outputs": [],
   "source": []
  },
  {
   "cell_type": "code",
   "execution_count": 58,
   "id": "afe76b9b",
   "metadata": {},
   "outputs": [],
   "source": [
    "# nr1_df = nr_11\n",
    "# nr2_df = nr_12\n",
    "# nr3_df = nr_13\n",
    "# nr4_df = nr_14\n",
    "# nr5_df = rr_21\n",
    "# nr6_df = rr_22\n",
    "# nr7_df = rr_23\n",
    "# nr8_df = rr_24"
   ]
  },
  {
   "cell_type": "code",
   "execution_count": 59,
   "id": "037874f3",
   "metadata": {},
   "outputs": [],
   "source": [
    "# dfs = [nr1_df, nr2_df, nr3_df, nr4_df, nr5_df, nr6_df, nr7_df, nr8_df]\n",
    "\n",
    "# for df in dfs:\n",
    "#     clusters = df[\"clusters\"].unique()\n",
    "#     df[\"Cluster Color\"] = \"\"\n",
    "#     for i in clusters:\n",
    "#         df.loc[df[\"clusters\"] == i, \"Cluster Color\"] = f\"C{i}\"\n"
   ]
  },
  {
   "cell_type": "code",
   "execution_count": 60,
   "id": "452d34ba",
   "metadata": {},
   "outputs": [],
   "source": [
    "# formatted_scatter_matrix(nr1_df, c =nr1_df[\"Cluster Color\"],fig_len = 15)"
   ]
  },
  {
   "cell_type": "code",
   "execution_count": 61,
   "id": "df401266",
   "metadata": {},
   "outputs": [],
   "source": [
    "# formatted_scatter_matrix(nr2_df, c =nr1_df[\"Cluster Color\"],fig_len = 15)"
   ]
  },
  {
   "cell_type": "code",
   "execution_count": 62,
   "id": "efe975e3",
   "metadata": {},
   "outputs": [],
   "source": [
    "# def formatted_scatter_matrixv1(data, fig_len=15, colors=None, alpha=0.1, pp=False):\n",
    "#     plt.rcParams.update({'font.size': 10})  \n",
    "\n",
    "#     if colors is None:\n",
    "#         colors = [\"C0\"] * len(data)\n",
    "\n",
    "#     fig, ax = plt.subplots(figsize=(fig_len, fig_len))  \n",
    "#     pd.plotting.scatter_matrix(data, color=colors, alpha=alpha, s=200 / len(data.keys()), ax=ax)  \n",
    "#     plt.show()\n",
    "\n",
    "# # Assuming nr1_df[\"Cluster Color\"] contains the colors for each cluster\n",
    "# formatted_scatter_matrixv1(nr1_df, fig_len=15, colors=nr1_df[\"Cluster Color\"])\n"
   ]
  },
  {
   "cell_type": "code",
   "execution_count": 63,
   "id": "1c43dd17",
   "metadata": {},
   "outputs": [],
   "source": [
    "# formatted_scatter_matrix(nr3_df, c =nr3_df[\"Cluster Color\"],fig_len = 15)"
   ]
  },
  {
   "cell_type": "code",
   "execution_count": 64,
   "id": "59f6ca08",
   "metadata": {},
   "outputs": [],
   "source": [
    "# formatted_scatter_matrix(nr4_df, c =nr4_df[\"Cluster Color\"],fig_len = 15)"
   ]
  },
  {
   "cell_type": "code",
   "execution_count": 65,
   "id": "d6806fd7",
   "metadata": {},
   "outputs": [],
   "source": [
    "# formatted_scatter_matrix(nr5_df, c =nr5_df[\"Cluster Color\"],fig_len = 15)"
   ]
  },
  {
   "cell_type": "code",
   "execution_count": 66,
   "id": "31535b64",
   "metadata": {},
   "outputs": [],
   "source": [
    "# formatted_scatter_matrix(nr6_df, c =nr6_df[\"Cluster Color\"],fig_len = 15)"
   ]
  },
  {
   "cell_type": "code",
   "execution_count": 67,
   "id": "c8dd6c8c",
   "metadata": {},
   "outputs": [],
   "source": [
    "# formatted_scatter_matrix(nr7_df, c =nr7_df[\"Cluster Color\"],fig_len = 15)"
   ]
  },
  {
   "cell_type": "code",
   "execution_count": 68,
   "id": "4c0da94b",
   "metadata": {},
   "outputs": [],
   "source": [
    "# formatted_scatter_matrix(nr8_df, c =nr8_df[\"Cluster Color\"],fig_len = 15)"
   ]
  },
  {
   "cell_type": "code",
   "execution_count": null,
   "id": "80ec11cd",
   "metadata": {},
   "outputs": [],
   "source": []
  },
  {
   "cell_type": "code",
   "execution_count": null,
   "id": "dab59d8a",
   "metadata": {},
   "outputs": [],
   "source": []
  },
  {
   "cell_type": "code",
   "execution_count": null,
   "id": "cea2ae8e",
   "metadata": {},
   "outputs": [],
   "source": []
  },
  {
   "cell_type": "code",
   "execution_count": 69,
   "id": "543de710",
   "metadata": {},
   "outputs": [],
   "source": [
    "# plot_df1[\"Cluster\"] = np.nan\n",
    "# plot_df1"
   ]
  },
  {
   "cell_type": "code",
   "execution_count": 70,
   "id": "abf55fc0",
   "metadata": {},
   "outputs": [],
   "source": [
    "# fig,ax = plt.subplots(figsize = (8,4))\n",
    "# kml3d_ai_level22.plot.scatter(x = \"Agri\", y = \"Util\", c = \"Mini\", cmap = \"viridis\", s = 5, ax = ax)\n",
    "# ax.set_title(\"$Agri \\\\leftarrow RM4_ \\\\rightarrow Mini$\")\n",
    "# for i in range(-5,5): ax.axhline(i, c = \"k\")"
   ]
  },
  {
   "cell_type": "code",
   "execution_count": 71,
   "id": "e391fa86",
   "metadata": {},
   "outputs": [],
   "source": [
    "# fig,ax = plt.subplots(figsize = (8,4))\n",
    "# kml3d_ai_level22.plot.scatter(x = \"RM4_\", y = \"RM4I\", c = \"unem\", cmap = \"viridis\", s = 5, ax = ax)\n",
    "# ax.set_title(\"$RM4_ \\\\rightarrow RM4I \\\\rightarrow unem$\")\n",
    "# for i in range(-10,2): ax.axhline(i, c = \"k\")"
   ]
  },
  {
   "cell_type": "code",
   "execution_count": 72,
   "id": "37ea03ac",
   "metadata": {},
   "outputs": [],
   "source": [
    "# fig,ax = plt.subplots(figsize = (8,4))\n",
    "# kml3d_ai_level22.plot.scatter(x = \"Util\", y = \"RM4_\", c = \"Agri\", cmap = \"viridis\", s = 5, ax = ax)\n",
    "# ax.set_title(\"$Util \\\\leftarrow RM4_ \\\\rightarrow Agri$\")\n",
    "# for i in range(-10,2): ax.axhline(i, c = \"k\")"
   ]
  },
  {
   "cell_type": "code",
   "execution_count": 73,
   "id": "3805c823",
   "metadata": {},
   "outputs": [],
   "source": [
    "# fig,ax = plt.subplots(figsize = (8,4))\n",
    "# kml3d_ai_level22.plot.scatter(x = \"Agri\", y = \"RM4_\", c = \"RM4I\", cmap = \"viridis\", s = 5, ax = ax)\n",
    "# ax.set_title(\"$Agri \\\\leftarrow RM4_ \\\\rightarrow RM4I$\")\n",
    "# for i in range(-10,2): ax.axhline(i, c = \"k\")"
   ]
  },
  {
   "cell_type": "code",
   "execution_count": 74,
   "id": "a3709520",
   "metadata": {},
   "outputs": [],
   "source": [
    "# fig,ax = plt.subplots(figsize = (8,4))\n",
    "# kml3d_ai_level22.plot.scatter(x = \"Util\", y = \"RM4_\", c = \"RM4I\", cmap = \"viridis\", s = 5, ax = ax)\n",
    "# ax.set_title(\"$Util \\\\leftarrow RM4_ \\\\rightarrow RM4I$\")\n",
    "# for i in range(-10,2): ax.axhline(i, c = \"k\")"
   ]
  },
  {
   "cell_type": "code",
   "execution_count": null,
   "id": "9eadeac1",
   "metadata": {},
   "outputs": [],
   "source": []
  }
 ],
 "metadata": {
  "kernelspec": {
   "display_name": "Python 3 (ipykernel)",
   "language": "python",
   "name": "python3"
  },
  "language_info": {
   "codemirror_mode": {
    "name": "ipython",
    "version": 3
   },
   "file_extension": ".py",
   "mimetype": "text/x-python",
   "name": "python",
   "nbconvert_exporter": "python",
   "pygments_lexer": "ipython3",
   "version": "3.7.13"
  }
 },
 "nbformat": 4,
 "nbformat_minor": 5
}
