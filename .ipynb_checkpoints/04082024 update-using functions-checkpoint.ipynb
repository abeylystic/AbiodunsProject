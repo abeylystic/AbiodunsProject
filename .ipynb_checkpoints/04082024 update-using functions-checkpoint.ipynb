{
 "cells": [
  {
   "cell_type": "code",
   "execution_count": 1,
   "id": "fadc36d6",
   "metadata": {},
   "outputs": [
    {
     "name": "stderr",
     "output_type": "stream",
     "text": [
      "C:\\Users\\abiodun.idowu\\Anaconda3\\envs\\python37\\lib\\site-packages\\geopandas\\_compat.py:115: UserWarning: The Shapely GEOS version (3.4.3-CAPI-1.8.3 r4285) is incompatible with the GEOS version PyGEOS was compiled with (3.10.4-CAPI-1.16.2). Conversions between both will be slow.\n",
      "  shapely_geos_version, geos_capi_version_string\n",
      "C:\\Users\\abiodun.idowu\\Anaconda3\\envs\\python37\\lib\\site-packages\\outdated\\utils.py:18: OutdatedPackageWarning: The package pingouin is out of date. Your version is 0.5.2, the latest is 0.5.4.\n",
      "Set the environment variable OUTDATED_IGNORE=1 to disable these warnings.\n",
      "  **kwargs\n",
      "C:\\Users\\abiodun.idowu\\Anaconda3\\envs\\python37\\lib\\site-packages\\outdated\\utils.py:18: OutdatedPackageWarning: The package outdated is out of date. Your version is 0.2.1, the latest is 0.2.2.\n",
      "Set the environment variable OUTDATED_IGNORE=1 to disable these warnings.\n",
      "  **kwargs\n",
      "C:\\Users\\abiodun.idowu\\Anaconda3\\envs\\python37\\lib\\site-packages\\tqdm\\auto.py:22: TqdmWarning: IProgress not found. Please update jupyter and ipywidgets. See https://ipywidgets.readthedocs.io/en/stable/user_install.html\n",
      "  from .autonotebook import tqdm as notebook_tqdm\n"
     ]
    }
   ],
   "source": [
    "import pandas as pd\n",
    "import numpy as np\n",
    "import matplotlib.pyplot as plt\n",
    "import geopandas\n",
    "import os\n",
    "import pingouin\n",
    "import datapungibea as dpb\n",
    "from matplotlib.patches import ArrowStyle\n",
    "import copy\n",
    "from matplotlib.backends.backend_pdf import PdfPages\n",
    "import networkx as nx\n",
    "from pgmpy.estimators import PC\n",
    "import statsmodels.api as sm\n",
    "import plotly.express as px\n",
    "from sklearn.linear_model import LinearRegression\n",
    "import seaborn as sns\n",
    "import random\n",
    "from sklearn.cluster import KMeans\n",
    "from sklearn.preprocessing import StandardScaler\n",
    "from sklearn.metrics import silhouette_score\n",
    "from PIL import Image\n",
    "from sklearn.model_selection import train_test_split\n",
    "from sklearn.linear_model import LogisticRegression, RidgeClassifier\n",
    "from sklearn.ensemble import RandomForestClassifier\n",
    "import xgboost as xgb\n",
    "from sklearn.metrics import mean_squared_error, accuracy_score\n",
    "from statsmodels.discrete.discrete_model import Logit\n",
    "from networkx.drawing.nx_agraph import graphviz_layout\n",
    "from collections import defaultdict\n",
    "import math\n"
   ]
  },
  {
   "cell_type": "code",
   "execution_count": 2,
   "id": "3f61d8a1",
   "metadata": {},
   "outputs": [],
   "source": [
    "from abbeyFunctions import graph_DAG, create_cluster_dags, determine_p_value, graph_DAG_cluster, get_edges_dict, get_col_shared_edges, get_row_shared_edges, plot_shared_col_edges, plot_shared_row_edges"
   ]
  },
  {
   "cell_type": "code",
   "execution_count": 3,
   "id": "3a11e1a9",
   "metadata": {},
   "outputs": [],
   "source": [
    "ai_data_nominal = pd.read_csv('nominal_data.csv')"
   ]
  },
  {
   "cell_type": "code",
   "execution_count": 4,
   "id": "d383c2e7",
   "metadata": {},
   "outputs": [],
   "source": [
    "ai_data_real = pd.read_csv('real_data.csv')"
   ]
  },
  {
   "cell_type": "code",
   "execution_count": 5,
   "id": "a3a5d75f",
   "metadata": {},
   "outputs": [],
   "source": [
    "ai_data_nominal = ai_data_nominal.set_index(['FIPS_y', 'TimePeriod'])"
   ]
  },
  {
   "cell_type": "code",
   "execution_count": 6,
   "id": "0cf48ba8",
   "metadata": {},
   "outputs": [],
   "source": [
    "ai_data_real = ai_data_real.set_index(['FIPS_y', 'TimePeriod'])"
   ]
  },
  {
   "cell_type": "code",
   "execution_count": 7,
   "id": "ae5b7a98",
   "metadata": {},
   "outputs": [
    {
     "name": "stderr",
     "output_type": "stream",
     "text": [
      "C:\\Users\\abiodun.idowu\\Anaconda3\\envs\\python37\\lib\\site-packages\\pandas\\core\\arraylike.py:364: RuntimeWarning: divide by zero encountered in log\n",
      "  result = getattr(ufunc, method)(*inputs, **kwargs)\n",
      "C:\\Users\\abiodun.idowu\\Anaconda3\\envs\\python37\\lib\\site-packages\\pandas\\core\\arraylike.py:364: RuntimeWarning: invalid value encountered in log\n",
      "  result = getattr(ufunc, method)(*inputs, **kwargs)\n"
     ]
    }
   ],
   "source": [
    "exclude_vars = ['M4 I','RM4I', 'unem']  # List of variables to exclude\n",
    "\n",
    "# Create a dictionary to store the dataframes\n",
    "ai_dct = {\"logged_n\": ai_data_nominal.copy(), \"logged_r\": ai_data_real.copy(), \n",
    "          \"rates_n\": ai_data_nominal.copy(), \"rates_r\": ai_data_real.copy(),\n",
    "         \"percent rates_n\": ai_data_nominal.copy(), \n",
    "          \"percent rates_r\": ai_data_real.copy()}\n",
    "\n",
    "        \n",
    "for col in ai_dct['logged_n'].columns:\n",
    "    if col not in exclude_vars:\n",
    "        ai_dct[\"logged_n\"][col] = np.log(ai_data_nominal[col]).replace([np.inf, -np.inf], np.nan)\n",
    "\n",
    "for col in ai_dct['logged_r'].columns:\n",
    "    if col not in exclude_vars:\n",
    "        ai_dct[\"logged_r\"][col] = np.log(ai_data_real[col]).replace([np.inf, -np.inf], np.nan)\n",
    "\n",
    "\n",
    "# Calculate rate of change (differences of log-transformed values)\n",
    "for col in ai_dct['rates_n'].columns:\n",
    "    if col not in exclude_vars:\n",
    "        ai_dct[\"rates_n\"][col] = ai_dct[\"logged_n\"].groupby('FIPS_y')[col].diff().dropna()\n",
    "        \n",
    "        \n",
    "\n",
    "for col in ai_dct['rates_r'].columns:\n",
    "    if col not in exclude_vars:\n",
    "        ai_dct[\"rates_r\"][col] = ai_dct[\"logged_r\"].groupby('FIPS_y')[col].diff().dropna()\n",
    "        \n",
    "        \n",
    "        # Calculate percent rate of change\n",
    "for col in ai_dct['percent rates_n'].columns:\n",
    "    #if col not in exclude_vars:\n",
    "        ai_dct[\"percent rates_n\"][col] = ai_dct[\"rates_n\"].groupby('FIPS_y')[col].diff().dropna()\n",
    "\n",
    "        \n",
    "        \n",
    "for col in ai_dct['percent rates_r'].columns:\n",
    "    #if col not in exclude_vars:\n",
    "        ai_dct[\"percent rates_r\"][col] = ai_dct[\"rates_r\"].groupby('FIPS_y')[col].diff().dropna()\n",
    "\n",
    "        \n",
    "        "
   ]
  },
  {
   "cell_type": "code",
   "execution_count": 8,
   "id": "dbe849ab",
   "metadata": {},
   "outputs": [],
   "source": [
    "nominal = ai_dct['rates_n']"
   ]
  },
  {
   "cell_type": "code",
   "execution_count": 9,
   "id": "f1d9ba78",
   "metadata": {},
   "outputs": [],
   "source": [
    "nominal.drop(columns=['All ', 'Neig'], inplace=True)"
   ]
  },
  {
   "cell_type": "code",
   "execution_count": null,
   "id": "1a622256",
   "metadata": {},
   "outputs": [],
   "source": []
  },
  {
   "cell_type": "code",
   "execution_count": 10,
   "id": "79209de7",
   "metadata": {},
   "outputs": [],
   "source": [
    "diff_nominal = ai_dct['percent rates_n']"
   ]
  },
  {
   "cell_type": "code",
   "execution_count": 11,
   "id": "23960aee",
   "metadata": {},
   "outputs": [],
   "source": [
    "diff_nominal.drop(columns=['All ', 'Neig'], inplace=True)"
   ]
  },
  {
   "cell_type": "code",
   "execution_count": null,
   "id": "4f7b1490",
   "metadata": {},
   "outputs": [],
   "source": []
  },
  {
   "cell_type": "code",
   "execution_count": 12,
   "id": "bd68650d",
   "metadata": {},
   "outputs": [],
   "source": [
    "real = ai_dct['rates_r']"
   ]
  },
  {
   "cell_type": "code",
   "execution_count": 13,
   "id": "38a49abb",
   "metadata": {},
   "outputs": [],
   "source": [
    "real.drop(columns=['All ', 'Neig'], inplace=True)"
   ]
  },
  {
   "cell_type": "code",
   "execution_count": null,
   "id": "fafd1dd8",
   "metadata": {},
   "outputs": [],
   "source": []
  },
  {
   "cell_type": "code",
   "execution_count": 14,
   "id": "6e849576",
   "metadata": {},
   "outputs": [],
   "source": [
    "diff_real = ai_dct['percent rates_r']"
   ]
  },
  {
   "cell_type": "code",
   "execution_count": null,
   "id": "387a4f37",
   "metadata": {},
   "outputs": [],
   "source": []
  },
  {
   "cell_type": "code",
   "execution_count": 15,
   "id": "aa821ca9",
   "metadata": {},
   "outputs": [],
   "source": [
    "diff_real.drop(columns=['All ', 'Neig'], inplace=True)"
   ]
  },
  {
   "cell_type": "code",
   "execution_count": null,
   "id": "70926cb4",
   "metadata": {},
   "outputs": [],
   "source": []
  },
  {
   "cell_type": "code",
   "execution_count": 16,
   "id": "b61e6bdc",
   "metadata": {},
   "outputs": [],
   "source": [
    "# nominal.to_csv('nominal.csv', index=True)\n",
    "# diff_nominal.to_csv('diff_nominal.csv', index=True)\n",
    "# real.to_csv('real.csv', index=True)\n",
    "# diff_real.to_csv('diff_real.csv', index=True)"
   ]
  },
  {
   "cell_type": "code",
   "execution_count": null,
   "id": "ec6b1dae",
   "metadata": {},
   "outputs": [],
   "source": []
  },
  {
   "cell_type": "code",
   "execution_count": 17,
   "id": "647ead3e",
   "metadata": {},
   "outputs": [],
   "source": [
    "ai_df_nom = pd.read_csv('nominal_kml3d.csv')\n",
    "\n",
    "ai_df_diffnom = pd.read_csv('diff_nominal_kml3d.csv')\n",
    "\n",
    "ai_df_real = pd.read_csv('real_kml3d.csv')\n",
    "\n",
    "ai_df_diffreal = pd.read_csv('diff_real_kml3d.csv')"
   ]
  },
  {
   "cell_type": "code",
   "execution_count": null,
   "id": "d3214ae9",
   "metadata": {},
   "outputs": [],
   "source": []
  },
  {
   "cell_type": "code",
   "execution_count": 18,
   "id": "f7774baa",
   "metadata": {},
   "outputs": [],
   "source": [
    "level_11 = ai_df_nom\n",
    "\n",
    "level_12 = ai_df_diffnom\n",
    "\n",
    "level_21 = ai_df_real\n",
    "\n",
    "level_22 = ai_df_diffreal"
   ]
  },
  {
   "cell_type": "code",
   "execution_count": null,
   "id": "812e9084",
   "metadata": {},
   "outputs": [],
   "source": []
  },
  {
   "cell_type": "code",
   "execution_count": 19,
   "id": "ee71d5a1",
   "metadata": {},
   "outputs": [],
   "source": [
    "dfg_ai11 = nominal.dropna()\n",
    "\n",
    "dfg_ai12 = diff_nominal.dropna()\n",
    "\n",
    "dfg_ai21 = real.dropna()\n",
    "\n",
    "dfg_ai22 = diff_real.dropna()"
   ]
  },
  {
   "cell_type": "code",
   "execution_count": null,
   "id": "55a40d65",
   "metadata": {},
   "outputs": [],
   "source": []
  },
  {
   "cell_type": "code",
   "execution_count": 20,
   "id": "d4839ec3",
   "metadata": {},
   "outputs": [],
   "source": [
    "ai_merge11 = pd.merge(dfg_ai11, level_11[['FIPS_y', 'clusters']], on='FIPS_y', how='left')"
   ]
  },
  {
   "cell_type": "code",
   "execution_count": 21,
   "id": "39cbe622",
   "metadata": {},
   "outputs": [],
   "source": [
    "ai_merge12 = pd.merge(dfg_ai12, level_12[['FIPS_y', 'clusters']], on='FIPS_y', how='left')"
   ]
  },
  {
   "cell_type": "code",
   "execution_count": 22,
   "id": "d466e80c",
   "metadata": {},
   "outputs": [],
   "source": [
    "ai_merge21 = pd.merge(dfg_ai21, level_21[['FIPS_y', 'clusters']], on='FIPS_y', how='left')"
   ]
  },
  {
   "cell_type": "code",
   "execution_count": 23,
   "id": "da5355e1",
   "metadata": {},
   "outputs": [],
   "source": [
    "ai_merge22 = pd.merge(dfg_ai22, level_22[['FIPS_y', 'clusters']], on='FIPS_y', how='left')"
   ]
  },
  {
   "cell_type": "code",
   "execution_count": null,
   "id": "d913f232",
   "metadata": {},
   "outputs": [],
   "source": []
  },
  {
   "cell_type": "code",
   "execution_count": null,
   "id": "0c426754",
   "metadata": {},
   "outputs": [],
   "source": []
  },
  {
   "cell_type": "code",
   "execution_count": 24,
   "id": "e17c6447",
   "metadata": {},
   "outputs": [],
   "source": [
    "kml3d_ai_level11 = ai_merge11.dropna()"
   ]
  },
  {
   "cell_type": "code",
   "execution_count": 25,
   "id": "f1de4ab6",
   "metadata": {},
   "outputs": [],
   "source": [
    "kml3d_ai_level12 = ai_merge12.dropna()"
   ]
  },
  {
   "cell_type": "code",
   "execution_count": 26,
   "id": "f31ccef4",
   "metadata": {},
   "outputs": [],
   "source": [
    "kml3d_ai_level21 = ai_merge21.dropna()"
   ]
  },
  {
   "cell_type": "code",
   "execution_count": 27,
   "id": "8db89c06",
   "metadata": {},
   "outputs": [],
   "source": [
    "kml3d_ai_level22 = ai_merge22.dropna()"
   ]
  },
  {
   "cell_type": "code",
   "execution_count": null,
   "id": "3322d0af",
   "metadata": {},
   "outputs": [],
   "source": []
  },
  {
   "cell_type": "code",
   "execution_count": 28,
   "id": "eacff355",
   "metadata": {},
   "outputs": [],
   "source": [
    "kml3d_ai_level11 = kml3d_ai_level11.set_index(['FIPS_y'])"
   ]
  },
  {
   "cell_type": "code",
   "execution_count": 29,
   "id": "d3cd7cd7",
   "metadata": {},
   "outputs": [],
   "source": [
    "kml3d_ai_level12 = kml3d_ai_level12.set_index(['FIPS_y'])"
   ]
  },
  {
   "cell_type": "code",
   "execution_count": 30,
   "id": "43aafd43",
   "metadata": {},
   "outputs": [],
   "source": [
    "kml3d_ai_level21 = kml3d_ai_level21.set_index(['FIPS_y'])"
   ]
  },
  {
   "cell_type": "code",
   "execution_count": 31,
   "id": "4f46072a",
   "metadata": {},
   "outputs": [],
   "source": [
    "kml3d_ai_level22 = kml3d_ai_level22.set_index(['FIPS_y'])"
   ]
  },
  {
   "cell_type": "code",
   "execution_count": null,
   "id": "35c3bf3f",
   "metadata": {},
   "outputs": [],
   "source": []
  },
  {
   "cell_type": "code",
   "execution_count": 32,
   "id": "18c08cc2",
   "metadata": {},
   "outputs": [],
   "source": [
    "cluster_mapping = {'A': 1, 'B': 2, 'C': 3, 'D': 4}"
   ]
  },
  {
   "cell_type": "code",
   "execution_count": null,
   "id": "186501c8",
   "metadata": {},
   "outputs": [],
   "source": []
  },
  {
   "cell_type": "code",
   "execution_count": 33,
   "id": "afae3734",
   "metadata": {},
   "outputs": [],
   "source": [
    "kml3d_ai_level11['clusters'].replace(cluster_mapping, inplace=True)"
   ]
  },
  {
   "cell_type": "code",
   "execution_count": 34,
   "id": "986b3a0f",
   "metadata": {},
   "outputs": [],
   "source": [
    "kml3d_ai_level12['clusters'].replace(cluster_mapping, inplace=True)"
   ]
  },
  {
   "cell_type": "code",
   "execution_count": 35,
   "id": "b5895cf4",
   "metadata": {},
   "outputs": [],
   "source": [
    "kml3d_ai_level21['clusters'].replace(cluster_mapping, inplace=True)"
   ]
  },
  {
   "cell_type": "code",
   "execution_count": 36,
   "id": "5c60c94b",
   "metadata": {},
   "outputs": [],
   "source": [
    "kml3d_ai_level22['clusters'].replace(cluster_mapping, inplace=True)"
   ]
  },
  {
   "cell_type": "code",
   "execution_count": 37,
   "id": "a0b1d0a1",
   "metadata": {},
   "outputs": [],
   "source": [
    "nr_11 = kml3d_ai_level11\n",
    "nr_13 = kml3d_ai_level12\n",
    "rr_21 = kml3d_ai_level21\n",
    "rr_23 = kml3d_ai_level22"
   ]
  },
  {
   "cell_type": "code",
   "execution_count": 38,
   "id": "1f0ce77d",
   "metadata": {},
   "outputs": [],
   "source": [
    "nr_12 = nr_11.copy()\n",
    "nr_14 = nr_13.copy()\n",
    "rr_22 = rr_21.copy()\n",
    "rr_24 = rr_23.copy()"
   ]
  },
  {
   "cell_type": "code",
   "execution_count": 39,
   "id": "d47166e8",
   "metadata": {},
   "outputs": [
    {
     "data": {
      "text/plain": [
       "Index(['Agri', 'Mini', 'Util', 'RM4_', 'RM4I', 'unem', 'clusters'], dtype='object')"
      ]
     },
     "execution_count": 39,
     "metadata": {},
     "output_type": "execute_result"
    }
   ],
   "source": [
    "rr_22.columns"
   ]
  },
  {
   "cell_type": "code",
   "execution_count": 40,
   "id": "621f2116",
   "metadata": {},
   "outputs": [],
   "source": [
    "nr_12.drop(columns=['M4_y', 'M4 I'], inplace=True)\n",
    "nr_14.drop(columns=['M4_y', 'M4 I'], inplace=True)\n",
    "\n",
    "rr_22.drop(columns=['RM4_', 'RM4I'], inplace=True)\n",
    "rr_24.drop(columns=['RM4_', 'RM4I'], inplace=True)"
   ]
  },
  {
   "cell_type": "code",
   "execution_count": 41,
   "id": "7a98bef6",
   "metadata": {},
   "outputs": [],
   "source": [
    "nr_15 = nr_12.copy()\n",
    "nr_16 = nr_14.copy()\n",
    "\n",
    "rr_25 = rr_21.copy()\n",
    "rr_26 = rr_24.copy()"
   ]
  },
  {
   "cell_type": "code",
   "execution_count": 42,
   "id": "0559e09c",
   "metadata": {},
   "outputs": [
    {
     "data": {
      "text/plain": [
       "Index(['Agri', 'Mini', 'Util', 'unem', 'clusters'], dtype='object')"
      ]
     },
     "execution_count": 42,
     "metadata": {},
     "output_type": "execute_result"
    }
   ],
   "source": [
    "rr_26.columns"
   ]
  },
  {
   "cell_type": "code",
   "execution_count": 43,
   "id": "89edfb4b",
   "metadata": {},
   "outputs": [],
   "source": [
    "nr_15.drop(columns=['unem'], inplace=True)\n",
    "nr_16.drop(columns=['unem'], inplace=True)\n",
    "rr_25.drop(columns=['unem'], inplace=True)\n",
    "rr_26.drop(columns=['unem'], inplace=True)"
   ]
  },
  {
   "cell_type": "code",
   "execution_count": null,
   "id": "796f55b5",
   "metadata": {},
   "outputs": [],
   "source": []
  },
  {
   "cell_type": "code",
   "execution_count": null,
   "id": "2b686512",
   "metadata": {},
   "outputs": [],
   "source": []
  },
  {
   "cell_type": "code",
   "execution_count": 44,
   "id": "9a46c2f7",
   "metadata": {},
   "outputs": [],
   "source": [
    "plot_df2 = nominal.copy()\n",
    "plot_df4 = diff_nominal.copy()\n",
    "plot_df6 = real.copy()\n",
    "plot_df8 = diff_real.copy()"
   ]
  },
  {
   "cell_type": "code",
   "execution_count": null,
   "id": "03609374",
   "metadata": {},
   "outputs": [],
   "source": []
  },
  {
   "cell_type": "code",
   "execution_count": null,
   "id": "830e989e",
   "metadata": {},
   "outputs": [],
   "source": []
  },
  {
   "cell_type": "code",
   "execution_count": null,
   "id": "fcf6b180",
   "metadata": {},
   "outputs": [],
   "source": []
  },
  {
   "cell_type": "code",
   "execution_count": null,
   "id": "901ffefc",
   "metadata": {},
   "outputs": [],
   "source": []
  },
  {
   "cell_type": "code",
   "execution_count": 45,
   "id": "24535318",
   "metadata": {},
   "outputs": [],
   "source": [
    "plot_df1 = nominal.dropna()\n",
    "plot_df2.drop(columns=['M4_y', 'M4 I'], inplace=True)\n",
    "plot_df3 = diff_nominal.dropna()\n",
    "plot_df4.drop(columns=['M4_y', 'M4 I'], inplace=True)\n",
    "plot_df5 = real.dropna()\n",
    "plot_df6.drop(columns=['RM4_', 'RM4I'], inplace=True)\n",
    "plot_df7 = diff_real.dropna()\n",
    "plot_df8.drop(columns=['RM4_', 'RM4I'], inplace=True)"
   ]
  },
  {
   "cell_type": "code",
   "execution_count": 46,
   "id": "a692e39d",
   "metadata": {},
   "outputs": [],
   "source": [
    "plot_df1 = plot_df1.dropna()\n",
    "plot_df2 = plot_df2.dropna()\n",
    "plot_df3 = plot_df3.dropna()\n",
    "plot_df4 = plot_df4.dropna()\n",
    "plot_df5 = plot_df5.dropna()\n",
    "plot_df6 = plot_df6.dropna()\n",
    "plot_df7 = plot_df7.dropna()\n",
    "plot_df8 = plot_df8.dropna()\n"
   ]
  },
  {
   "cell_type": "code",
   "execution_count": null,
   "id": "00fd0466",
   "metadata": {},
   "outputs": [],
   "source": []
  },
  {
   "cell_type": "markdown",
   "id": "1156c832",
   "metadata": {},
   "source": [
    "### DAGs representing nominal rates and real rates:\n",
    "\n",
    "Where;\n",
    "\n",
    "nr_11 represents nominal rates with all variables (except neighbor's GDP and total GDP),\n",
    "\n",
    "rr_21 represents real rates with all variables (except neighbor's GDP and total GDP), and\n",
    "\n",
    "rr_22 represents real rates without M4 and interest rates and without neighbor and total GDP"
   ]
  },
  {
   "cell_type": "markdown",
   "id": "c7b2bc9a",
   "metadata": {},
   "source": [
    "### DAGs representing first difference rates\n",
    "\n",
    "Where;\n",
    "\n",
    "nr_13 represents differenced nominal rates with all variables (except neighbor and total GDP),\n",
    "\n",
    "rr_23 represents differenced real rates with all variables (except neighbor and total GDP), and\n",
    "\n",
    "rr_24 represents differenced real rates without M4 and interest rates and without neighbor and total GDP"
   ]
  },
  {
   "cell_type": "code",
   "execution_count": null,
   "id": "0432a079",
   "metadata": {},
   "outputs": [],
   "source": []
  },
  {
   "cell_type": "code",
   "execution_count": 47,
   "id": "441c6a9e",
   "metadata": {},
   "outputs": [],
   "source": [
    "def all_results(dfs, name, folder, show=True):\n",
    "    try:\n",
    "        os.mkdir(folder)\n",
    "    except FileExistsError:\n",
    "        pass\n",
    "\n",
    "    # Specify the absolute path for the output PDF file\n",
    "    pdf_file_path = f\"{folder}/{name}.pdf\"\n",
    "    pp = PdfPages(pdf_file_path)\n",
    "\n",
    "    # Create a grid for the subplots\n",
    "    fig, axes = plt.subplots(4, len(dfs), figsize=(5*len(dfs), 30))\n",
    "\n",
    "    # Different PC algorithms to test\n",
    "    algorithms = [\"orig\"]\n",
    "\n",
    "    # Iterate over each dataframe\n",
    "    for idx, dataframe in enumerate(dfs):\n",
    "        # Get clustered dataframes for the current dataframe\n",
    "        clustered_dfs = create_cluster_dags(dataframe)\n",
    "\n",
    "        # Iterate over clustered dataframes and determine p-values dynamically\n",
    "        for cluster_idx, cluster_df in enumerate(clustered_dfs):\n",
    "            n = cluster_df.shape[0]  # Number of observations for the current cluster\n",
    "            p_value = determine_p_value(n)\n",
    "\n",
    "            # Iterate over different PC algorithms\n",
    "            for algorithm in algorithms:\n",
    "                c = PC(cluster_df)\n",
    "                model = c.estimate(return_type='pdag', variant=algorithm, significance_level=p_value, ci_test='pearsonr')\n",
    "                edges = model.edges\n",
    "\n",
    "                # Create DAG for the current cluster, p-value, and algorithm using the modified graph_DAG function\n",
    "                graph_DAG_cluster(edges, cluster_df, title=f'Dataframe {idx + 1} - Cluster {cluster_idx + 1} - p_value = {p_value}\\nnum_observations={n}'\n",
    "                          , algorithm=algorithm, ax=axes[cluster_idx, idx])\n",
    "\n",
    "    # Save the figure to the PDF\n",
    "    pp.savefig(fig, bbox_inches='tight')\n",
    "\n",
    "    plt.close()    \n",
    "\n",
    "    if show:\n",
    "        plt.show()\n",
    "\n",
    "        \n",
    "    # Create and save plots for shared edges\n",
    "    edges_dct = get_edges_dict(dfs)\n",
    "    col_shared_edges=get_col_shared_edges(edges_dct)\n",
    "    row_shared_edges=get_row_shared_edges(edges_dct)\n",
    "    plot_shared_col_edges(col_shared_edges, name, folder)\n",
    "    plot_shared_row_edges(row_shared_edges, name, folder)\n",
    "\n",
    "    \n",
    "    \n",
    "    pp.close()\n"
   ]
  },
  {
   "cell_type": "code",
   "execution_count": null,
   "id": "6b6436e0",
   "metadata": {},
   "outputs": [],
   "source": []
  },
  {
   "cell_type": "code",
   "execution_count": 48,
   "id": "c55bd5e5",
   "metadata": {},
   "outputs": [
    {
     "name": "stderr",
     "output_type": "stream",
     "text": [
      "Working for n conditional variables: 5: 100%|████████████████████████████████████████████| 5/5 [00:00<00:00,  9.59it/s]\n",
      "Working for n conditional variables: 5: 100%|████████████████████████████████████████████| 5/5 [00:00<00:00, 24.50it/s]\n",
      "Working for n conditional variables: 5: 100%|████████████████████████████████████████████| 5/5 [00:00<00:00, 45.37it/s]\n",
      "Working for n conditional variables: 4:  80%|███████████████████████████████████▏        | 4/5 [00:00<00:00, 73.63it/s]\n",
      "Working for n conditional variables: 3:  60%|█████████████████████████▊                 | 3/5 [00:00<00:00, 224.40it/s]\n",
      "Working for n conditional variables: 2:  40%|█████████████████▏                         | 2/5 [00:00<00:00, 180.18it/s]\n",
      "Working for n conditional variables: 2:  40%|█████████████████▏                         | 2/5 [00:00<00:00, 109.32it/s]\n",
      "Working for n conditional variables: 1:  20%|████████▌                                  | 1/5 [00:00<00:00, 105.86it/s]\n",
      "Working for n conditional variables: 1:  20%|████████▌                                  | 1/5 [00:00<00:00, 129.98it/s]\n",
      "Working for n conditional variables: 1:  20%|████████▊                                   | 1/5 [00:00<00:00, 57.08it/s]\n",
      "Working for n conditional variables: 1:  20%|██████████▍                                         | 1/5 [00:00<?, ?it/s]\n",
      "Working for n conditional variables: 1:  20%|████████▌                                  | 1/5 [00:00<00:00, 142.86it/s]\n",
      "Working for n conditional variables: 5: 100%|████████████████████████████████████████████| 5/5 [00:00<00:00, 11.61it/s]\n",
      "Working for n conditional variables: 5: 100%|████████████████████████████████████████████| 5/5 [00:00<00:00, 25.94it/s]\n",
      "Working for n conditional variables: 5: 100%|████████████████████████████████████████████| 5/5 [00:00<00:00, 48.51it/s]\n",
      "Working for n conditional variables: 4:  80%|███████████████████████████████████▏        | 4/5 [00:00<00:00, 98.46it/s]\n",
      "Working for n conditional variables: 3:  60%|█████████████████████████▊                 | 3/5 [00:00<00:00, 213.17it/s]\n",
      "Working for n conditional variables: 2:  40%|█████████████████▏                         | 2/5 [00:00<00:00, 399.90it/s]\n",
      "Working for n conditional variables: 2:  40%|█████████████████▏                         | 2/5 [00:00<00:00, 495.72it/s]\n",
      "Working for n conditional variables: 1:  20%|████████▌                                  | 1/5 [00:00<00:00, 238.43it/s]\n",
      "Working for n conditional variables: 1:  20%|████████▌                                  | 1/5 [00:00<00:00, 310.74it/s]\n",
      "Working for n conditional variables: 1:  20%|████████▌                                  | 1/5 [00:00<00:00, 329.79it/s]\n",
      "Working for n conditional variables: 1:  20%|████████▌                                  | 1/5 [00:00<00:00, 461.22it/s]\n",
      "Working for n conditional variables: 1:  20%|████████▌                                  | 1/5 [00:00<00:00, 482.55it/s]\n",
      "Working for n conditional variables: 4:  80%|███████████████████████████████████▏        | 4/5 [00:00<00:00, 44.37it/s]\n",
      "Working for n conditional variables: 4:  80%|███████████████████████████████████▏        | 4/5 [00:00<00:00, 47.08it/s]\n",
      "Working for n conditional variables: 4:  80%|███████████████████████████████████▏        | 4/5 [00:00<00:00, 67.54it/s]\n",
      "Working for n conditional variables: 4:  80%|███████████████████████████████████▏        | 4/5 [00:00<00:00, 50.39it/s]\n",
      "Working for n conditional variables: 2:  40%|█████████████████▏                         | 2/5 [00:00<00:00, 447.03it/s]\n",
      "Working for n conditional variables: 4:  80%|███████████████████████████████████▏        | 4/5 [00:00<00:00, 77.92it/s]\n",
      "Working for n conditional variables: 3:  60%|█████████████████████████▊                 | 3/5 [00:00<00:00, 160.55it/s]\n",
      "Working for n conditional variables: 3:  60%|█████████████████████████▊                 | 3/5 [00:00<00:00, 132.34it/s]\n",
      "Working for n conditional variables: 1:  20%|████████▌                                  | 1/5 [00:00<00:00, 116.40it/s]\n",
      "Working for n conditional variables: 2:  40%|█████████████████▏                         | 2/5 [00:00<00:00, 602.33it/s]\n",
      "Working for n conditional variables: 1:  20%|████████▌                                  | 1/5 [00:00<00:00, 382.27it/s]\n",
      "Working for n conditional variables: 2:  40%|█████████████████▏                         | 2/5 [00:00<00:00, 662.50it/s]\n",
      "Working for n conditional variables: 4:  80%|███████████████████████████████████▏        | 4/5 [00:00<00:00, 48.18it/s]\n",
      "Working for n conditional variables: 4:  80%|███████████████████████████████████▏        | 4/5 [00:00<00:00, 58.23it/s]\n",
      "Working for n conditional variables: 4:  80%|███████████████████████████████████▏        | 4/5 [00:00<00:00, 77.91it/s]\n",
      "Working for n conditional variables: 4:  80%|███████████████████████████████████▏        | 4/5 [00:00<00:00, 26.75it/s]\n",
      "Working for n conditional variables: 2:  40%|█████████████████▏                         | 2/5 [00:00<00:00, 491.08it/s]\n",
      "Working for n conditional variables: 4:  80%|██████████████████████████████████▍        | 4/5 [00:00<00:00, 103.01it/s]\n",
      "Working for n conditional variables: 3:  60%|█████████████████████████▊                 | 3/5 [00:00<00:00, 324.39it/s]\n",
      "Working for n conditional variables: 3:  60%|█████████████████████████▊                 | 3/5 [00:00<00:00, 195.61it/s]\n",
      "Working for n conditional variables: 1:  20%|████████▌                                  | 1/5 [00:00<00:00, 327.25it/s]\n",
      "Working for n conditional variables: 2:  40%|█████████████████▏                         | 2/5 [00:00<00:00, 666.82it/s]\n",
      "Working for n conditional variables: 1:  20%|████████▌                                  | 1/5 [00:00<00:00, 499.74it/s]\n",
      "Working for n conditional variables: 2:  40%|█████████████████▏                         | 2/5 [00:00<00:00, 999.24it/s]\n",
      "Working for n conditional variables: 5: 100%|████████████████████████████████████████████| 5/5 [00:00<00:00, 20.13it/s]\n",
      "Working for n conditional variables: 5: 100%|████████████████████████████████████████████| 5/5 [00:00<00:00, 27.64it/s]\n",
      "Working for n conditional variables: 5: 100%|████████████████████████████████████████████| 5/5 [00:00<00:00, 21.56it/s]\n",
      "Working for n conditional variables: 5: 100%|████████████████████████████████████████████| 5/5 [00:00<00:00, 41.06it/s]\n",
      "Working for n conditional variables: 4:  80%|███████████████████████████████████▏        | 4/5 [00:00<00:00, 58.13it/s]\n",
      "Working for n conditional variables: 4:  80%|███████████████████████████████████▏        | 4/5 [00:00<00:00, 95.15it/s]\n",
      "Working for n conditional variables: 4:  80%|███████████████████████████████████▏        | 4/5 [00:00<00:00, 78.61it/s]\n",
      "Working for n conditional variables: 3:  60%|█████████████████████████▊                 | 3/5 [00:00<00:00, 164.45it/s]\n",
      "Working for n conditional variables: 5: 100%|████████████████████████████████████████████| 5/5 [00:00<00:00, 27.70it/s]\n",
      "Working for n conditional variables: 5: 100%|████████████████████████████████████████████| 5/5 [00:00<00:00, 34.35it/s]\n",
      "Working for n conditional variables: 5: 100%|████████████████████████████████████████████| 5/5 [00:00<00:00, 35.89it/s]\n",
      "Working for n conditional variables: 5: 100%|████████████████████████████████████████████| 5/5 [00:00<00:00, 46.38it/s]\n",
      "Working for n conditional variables: 5: 100%|████████████████████████████████████████████| 5/5 [00:00<00:00, 20.44it/s]\n",
      "Working for n conditional variables: 5: 100%|████████████████████████████████████████████| 5/5 [00:00<00:00, 27.99it/s]\n",
      "Working for n conditional variables: 5: 100%|████████████████████████████████████████████| 5/5 [00:00<00:00, 22.51it/s]\n",
      "Working for n conditional variables: 5: 100%|████████████████████████████████████████████| 5/5 [00:00<00:00, 44.90it/s]\n",
      "Working for n conditional variables: 4:  80%|███████████████████████████████████▏        | 4/5 [00:00<00:00, 61.54it/s]\n",
      "Working for n conditional variables: 4:  80%|██████████████████████████████████▍        | 4/5 [00:00<00:00, 100.36it/s]\n",
      "Working for n conditional variables: 4:  80%|███████████████████████████████████▏        | 4/5 [00:00<00:00, 80.53it/s]\n",
      "Working for n conditional variables: 3:  60%|█████████████████████████▊                 | 3/5 [00:00<00:00, 182.56it/s]\n"
     ]
    },
    {
     "name": "stderr",
     "output_type": "stream",
     "text": [
      "Working for n conditional variables: 5: 100%|████████████████████████████████████████████| 5/5 [00:00<00:00, 30.96it/s]\n",
      "Working for n conditional variables: 5: 100%|████████████████████████████████████████████| 5/5 [00:00<00:00, 36.01it/s]\n",
      "Working for n conditional variables: 5: 100%|████████████████████████████████████████████| 5/5 [00:00<00:00, 39.01it/s]\n",
      "Working for n conditional variables: 5: 100%|████████████████████████████████████████████| 5/5 [00:00<00:00, 49.81it/s]\n",
      "Working for n conditional variables: 5: 100%|████████████████████████████████████████████| 5/5 [00:00<00:00, 21.54it/s]\n",
      "Working for n conditional variables: 5: 100%|████████████████████████████████████████████| 5/5 [00:00<00:00, 22.68it/s]\n",
      "Working for n conditional variables: 5: 100%|████████████████████████████████████████████| 5/5 [00:00<00:00, 32.44it/s]\n",
      "Working for n conditional variables: 5: 100%|████████████████████████████████████████████| 5/5 [00:00<00:00, 16.84it/s]\n",
      "Working for n conditional variables: 4:  80%|███████████████████████████████████▏        | 4/5 [00:00<00:00, 52.66it/s]\n",
      "Working for n conditional variables: 4:  80%|███████████████████████████████████▏        | 4/5 [00:00<00:00, 41.26it/s]\n",
      "Working for n conditional variables: 4:  80%|███████████████████████████████████▏        | 4/5 [00:00<00:00, 62.68it/s]\n",
      "Working for n conditional variables: 4:  80%|███████████████████████████████████▏        | 4/5 [00:00<00:00, 61.50it/s]\n",
      "Working for n conditional variables: 3:  60%|█████████████████████████▊                 | 3/5 [00:00<00:00, 138.10it/s]\n",
      "Working for n conditional variables: 3:  60%|█████████████████████████▊                 | 3/5 [00:00<00:00, 166.01it/s]\n",
      "Working for n conditional variables: 3:  60%|█████████████████████████▊                 | 3/5 [00:00<00:00, 139.18it/s]\n",
      "Working for n conditional variables: 3:  60%|█████████████████████████▊                 | 3/5 [00:00<00:00, 164.11it/s]\n",
      "Working for n conditional variables: 5: 100%|████████████████████████████████████████████| 5/5 [00:00<00:00, 22.79it/s]\n",
      "Working for n conditional variables: 5: 100%|████████████████████████████████████████████| 5/5 [00:00<00:00, 23.30it/s]\n",
      "Working for n conditional variables: 5: 100%|████████████████████████████████████████████| 5/5 [00:00<00:00, 33.28it/s]\n",
      "Working for n conditional variables: 5: 100%|████████████████████████████████████████████| 5/5 [00:00<00:00, 17.80it/s]\n",
      "Working for n conditional variables: 4:  80%|███████████████████████████████████▏        | 4/5 [00:00<00:00, 55.65it/s]\n",
      "Working for n conditional variables: 4:  80%|███████████████████████████████████▏        | 4/5 [00:00<00:00, 43.02it/s]\n",
      "Working for n conditional variables: 4:  80%|███████████████████████████████████▏        | 4/5 [00:00<00:00, 62.86it/s]\n",
      "Working for n conditional variables: 4:  80%|███████████████████████████████████▏        | 4/5 [00:00<00:00, 64.27it/s]\n",
      "Working for n conditional variables: 3:  60%|█████████████████████████▊                 | 3/5 [00:00<00:00, 157.91it/s]\n",
      "Working for n conditional variables: 3:  60%|█████████████████████████▊                 | 3/5 [00:00<00:00, 164.08it/s]\n",
      "Working for n conditional variables: 3:  60%|█████████████████████████▊                 | 3/5 [00:00<00:00, 173.92it/s]\n",
      "Working for n conditional variables: 3:  60%|█████████████████████████▊                 | 3/5 [00:00<00:00, 174.75it/s]\n"
     ]
    }
   ],
   "source": [
    "folder = \"Test\"\n",
    "dfs_sets ={\"Nominal Rates\":[nr_11, nr_12, nr_15],\n",
    "           \"Nominal Differenced Rates\":[nr_13, nr_14, nr_16],\n",
    "           \"Real Rates\":[rr_21, rr_22, rr_25],\n",
    "           \"Real Differenced Rates\":[rr_23, rr_24, rr_26]}\n",
    "for name, df_set in dfs_sets.items():\n",
    "    all_results(df_set, name, folder, show = False)"
   ]
  },
  {
   "cell_type": "markdown",
   "id": "a9fb1d4b",
   "metadata": {},
   "source": [
    "plot_df1 = nominal rates\n",
    "\n",
    "plot_df2 = nominal rates without M4 variables\n",
    "\n",
    "plot_df3 = differenced nominal rates\n",
    "\n",
    "plot_df4 = differenced nominal rates without M4 variables\n",
    "\n",
    "plot_df5 = real rates\n",
    "\n",
    "plot_df6 = real rates without M4 variables\n",
    "\n",
    "plot_df7 = real differenced rates\n",
    "\n",
    "plot_df8 = real differenced rates without M4 variables"
   ]
  },
  {
   "cell_type": "code",
   "execution_count": 49,
   "id": "0dd94b1f",
   "metadata": {},
   "outputs": [],
   "source": [
    "def full_dags(dataframes, name, folder_path):\n",
    "    with PdfPages(folder_path + f'/{name}.pdf') as pp:\n",
    "        for i, plot_df in enumerate(dataframes):\n",
    "            c = PC(plot_df)\n",
    "            max_cond_vars = len(plot_df.keys()) - 2\n",
    "            model = c.estimate(return_type='pdag', variant='parallel', significance_level=0.01,\n",
    "                               max_cond_vars=max_cond_vars, ci_test='pearsonr')\n",
    "            edges = model.edges\n",
    "\n",
    "            # Plot the DAG\n",
    "            graph_DAG(edges, plot_df, title=f'Directed Acyclic Graph {i+1}')\n",
    "            \n",
    "            # Save the plot to the PDF\n",
    "            pp.savefig(bbox_inches='tight')\n",
    "\n",
    "            # Close the plot to prevent it from being displayed\n",
    "            plt.close()\n",
    "            "
   ]
  },
  {
   "cell_type": "code",
   "execution_count": 50,
   "id": "600f3ae0",
   "metadata": {},
   "outputs": [
    {
     "name": "stderr",
     "output_type": "stream",
     "text": [
      "Working for n conditional variables: 4: 100%|████████████████████████████████████████████| 4/4 [00:00<00:00,  5.87it/s]\n"
     ]
    },
    {
     "name": "stdout",
     "output_type": "stream",
     "text": [
      "keep control: Mini\n",
      "keep control: Util\n",
      "('M4_y', 'unem') ['Mini', 'Util']\n",
      "('unem', 'M4 I') []\n",
      "keep control: Util\n",
      "keep control: M4_y\n",
      "('Mini', 'unem') ['Util', 'M4_y']\n",
      "keep control: Mini\n",
      "keep control: M4_y\n",
      "('Util', 'unem') ['Mini', 'M4_y']\n",
      "keep control: M4 I\n",
      "('Util', 'M4_y') ['M4 I']\n",
      "keep control: Util\n",
      "('M4 I', 'M4_y') ['Util']\n",
      "('M4 I', 'Mini') []\n"
     ]
    },
    {
     "name": "stderr",
     "output_type": "stream",
     "text": [
      "Working for n conditional variables: 4: 100%|████████████████████████████████████████████| 4/4 [00:00<00:00,  5.68it/s]\n"
     ]
    },
    {
     "name": "stdout",
     "output_type": "stream",
     "text": [
      "('M4_y', 'unem') []\n",
      "keep control: Mini\n",
      "('unem', 'M4 I') ['Mini']\n",
      "('unem', 'Mini') []\n",
      "keep control: Util\n",
      "('Agri', 'M4_y') ['Util']\n",
      "keep control: unem\n",
      "('Mini', 'M4 I') ['unem']\n",
      "keep control: Agri\n",
      "('Util', 'M4_y') ['Agri']\n"
     ]
    },
    {
     "name": "stderr",
     "output_type": "stream",
     "text": [
      "Working for n conditional variables: 4: 100%|████████████████████████████████████████████| 4/4 [00:00<00:00,  6.06it/s]\n"
     ]
    },
    {
     "name": "stdout",
     "output_type": "stream",
     "text": [
      "keep control: Util\n",
      "keep control: unem\n",
      "('RM4_', 'RM4I') ['Util', 'unem']\n",
      "('RM4_', 'Util') []\n",
      "('RM4_', 'Mini') []\n",
      "('RM4_', 'Agri') []\n",
      "keep control: RM4_\n",
      "keep control: unem\n",
      "('Util', 'RM4I') ['RM4_', 'unem']\n",
      "keep control: Agri\n",
      "keep control: Mini\n",
      "('Util', 'RM4_') ['Agri', 'Mini']\n",
      "keep control: Util\n",
      "keep control: RM4_\n",
      "('unem', 'RM4I') ['Util', 'RM4_']\n",
      "keep control: Mini\n",
      "keep control: Util\n",
      "('Agri', 'RM4_') ['Mini', 'Util']\n",
      "keep control: Agri\n",
      "keep control: Util\n",
      "('Mini', 'RM4_') ['Agri', 'Util']\n"
     ]
    },
    {
     "name": "stderr",
     "output_type": "stream",
     "text": [
      "Working for n conditional variables: 2: 100%|████████████████████████████████████████████| 2/2 [00:00<00:00,  5.76it/s]\n"
     ]
    },
    {
     "name": "stdout",
     "output_type": "stream",
     "text": [
      "keep control: Mini\n",
      "keep control: unem\n",
      "('Util', 'Agri') ['Mini', 'unem']\n",
      "('Util', 'Mini') []\n",
      "keep control: Util\n",
      "keep control: unem\n",
      "('Mini', 'Agri') ['Util', 'unem']\n",
      "('Mini', 'Util') []\n",
      "keep control: Mini\n",
      "keep control: Util\n",
      "('unem', 'Agri') ['Mini', 'Util']\n"
     ]
    },
    {
     "name": "stderr",
     "output_type": "stream",
     "text": [
      "Working for n conditional variables: 4: 100%|████████████████████████████████████████████| 4/4 [00:00<00:00,  4.55it/s]\n"
     ]
    },
    {
     "name": "stdout",
     "output_type": "stream",
     "text": [
      "keep control: Mini\n",
      "keep control: Util\n",
      "('RM4_', 'RM4I') ['Mini', 'Util']\n",
      "('RM4_', 'Agri') []\n",
      "('RM4_', 'Util') []\n",
      "('RM4_', 'Mini') []\n",
      "keep control: Util\n",
      "keep control: RM4_\n",
      "('Mini', 'RM4I') ['Util', 'RM4_']\n",
      "('Mini', 'unem') []\n",
      "keep control: Util\n",
      "('Mini', 'RM4_') ['Util']\n",
      "keep control: Mini\n",
      "keep control: RM4_\n",
      "('Util', 'RM4I') ['Mini', 'RM4_']\n",
      "keep control: Mini\n",
      "('Util', 'RM4_') ['Mini']\n"
     ]
    },
    {
     "name": "stderr",
     "output_type": "stream",
     "text": [
      "Working for n conditional variables: 2: 100%|████████████████████████████████████████████| 2/2 [00:00<00:00,  5.76it/s]\n"
     ]
    },
    {
     "name": "stdout",
     "output_type": "stream",
     "text": [
      "keep control: Util\n",
      "keep control: unem\n",
      "('Agri', 'Mini') ['Util', 'unem']\n",
      "keep control: Mini\n",
      "('Agri', 'Util') ['Mini']\n",
      "keep control: Mini\n",
      "('Agri', 'unem') ['Mini']\n",
      "keep control: Agri\n",
      "('Mini', 'unem') ['Agri']\n",
      "keep control: Util\n",
      "keep control: unem\n",
      "('Mini', 'Agri') ['Util', 'unem']\n",
      "keep control: Agri\n",
      "('Mini', 'Util') ['Agri']\n",
      "keep control: Mini\n",
      "keep control: Util\n",
      "('unem', 'Agri') ['Mini', 'Util']\n",
      "keep control: Agri\n",
      "keep control: Util\n",
      "('unem', 'Mini') ['Agri', 'Util']\n",
      "keep control: Mini\n",
      "keep control: unem\n",
      "('Util', 'Agri') ['Mini', 'unem']\n",
      "keep control: Agri\n",
      "keep control: unem\n",
      "('Util', 'Mini') ['Agri', 'unem']\n"
     ]
    }
   ],
   "source": [
    "\n",
    "dataframes = [plot_df1, plot_df3, plot_df5, plot_df6, plot_df7, plot_df8]\n",
    "folder_path = 'Test'\n",
    "name = 'Full DAGs'\n",
    "full_dags(dataframes, name, folder_path)\n"
   ]
  },
  {
   "cell_type": "code",
   "execution_count": null,
   "id": "b40d1059",
   "metadata": {},
   "outputs": [],
   "source": []
  },
  {
   "cell_type": "code",
   "execution_count": null,
   "id": "557877cd",
   "metadata": {},
   "outputs": [],
   "source": []
  },
  {
   "cell_type": "code",
   "execution_count": null,
   "id": "1280c2ec",
   "metadata": {},
   "outputs": [],
   "source": []
  },
  {
   "cell_type": "code",
   "execution_count": 51,
   "id": "98d2ddac",
   "metadata": {},
   "outputs": [],
   "source": [
    "# kml3d_ai_level22.columns"
   ]
  },
  {
   "cell_type": "code",
   "execution_count": 52,
   "id": "9851d0a1",
   "metadata": {},
   "outputs": [],
   "source": [
    "# def formatted_scatter_matrix(data,fig_len = 15,\n",
    "#                              c = \"C0\",\n",
    "#                             alpha = .1, pp = False):\n",
    "#         plt.rcParams.update({'font.size': 10})  \n",
    "\n",
    "#         fig, ax = plt.subplots(figsize = ((fig_len, fig_len)))  \n",
    "#         pd.plotting.scatter_matrix(data, color = c, \n",
    "#                            alpha = .2, \n",
    "#                            s = 200 / len(data.keys()), ax=ax)  \n",
    "#         plt.show()"
   ]
  },
  {
   "cell_type": "code",
   "execution_count": 53,
   "id": "50baa594",
   "metadata": {},
   "outputs": [],
   "source": [
    "# plot_df = kml3d_ai_level22\n",
    "# clusters = plot_df[\"clusters\"].unique()\n",
    "# plot_df[\"Cluster Color\"] = \"\"\n",
    "# for i in clusters:\n",
    "#     plot_df[\"Cluster Color\"][plot_df[\"clusters\"] == i] = f\"C{i}\" \n",
    "# plot_df"
   ]
  },
  {
   "cell_type": "code",
   "execution_count": 54,
   "id": "7fa95e1d",
   "metadata": {},
   "outputs": [],
   "source": [
    "# formatted_scatter_matrix(plot_df, c =plot_df[\"Cluster Color\"],fig_len = 15)"
   ]
  },
  {
   "cell_type": "code",
   "execution_count": null,
   "id": "0ce0683f",
   "metadata": {},
   "outputs": [],
   "source": []
  },
  {
   "cell_type": "code",
   "execution_count": null,
   "id": "c9394374",
   "metadata": {},
   "outputs": [],
   "source": []
  },
  {
   "cell_type": "code",
   "execution_count": 55,
   "id": "afe76b9b",
   "metadata": {},
   "outputs": [],
   "source": [
    "# nr1_df = nr_11\n",
    "# nr2_df = nr_12\n",
    "# nr3_df = nr_13\n",
    "# nr4_df = nr_14\n",
    "# nr5_df = rr_21\n",
    "# nr6_df = rr_22\n",
    "# nr7_df = rr_23\n",
    "# nr8_df = rr_24"
   ]
  },
  {
   "cell_type": "code",
   "execution_count": 56,
   "id": "037874f3",
   "metadata": {},
   "outputs": [],
   "source": [
    "# dfs = [nr1_df, nr2_df, nr3_df, nr4_df, nr5_df, nr6_df, nr7_df, nr8_df]\n",
    "\n",
    "# for df in dfs:\n",
    "#     clusters = df[\"clusters\"].unique()\n",
    "#     df[\"Cluster Color\"] = \"\"\n",
    "#     for i in clusters:\n",
    "#         df.loc[df[\"clusters\"] == i, \"Cluster Color\"] = f\"C{i}\"\n"
   ]
  },
  {
   "cell_type": "code",
   "execution_count": 57,
   "id": "452d34ba",
   "metadata": {},
   "outputs": [],
   "source": [
    "# formatted_scatter_matrix(nr1_df, c =nr1_df[\"Cluster Color\"],fig_len = 15)"
   ]
  },
  {
   "cell_type": "code",
   "execution_count": 58,
   "id": "df401266",
   "metadata": {},
   "outputs": [],
   "source": [
    "# formatted_scatter_matrix(nr2_df, c =nr1_df[\"Cluster Color\"],fig_len = 15)"
   ]
  },
  {
   "cell_type": "code",
   "execution_count": 59,
   "id": "efe975e3",
   "metadata": {},
   "outputs": [],
   "source": [
    "# def formatted_scatter_matrixv1(data, fig_len=15, colors=None, alpha=0.1, pp=False):\n",
    "#     plt.rcParams.update({'font.size': 10})  \n",
    "\n",
    "#     if colors is None:\n",
    "#         colors = [\"C0\"] * len(data)\n",
    "\n",
    "#     fig, ax = plt.subplots(figsize=(fig_len, fig_len))  \n",
    "#     pd.plotting.scatter_matrix(data, color=colors, alpha=alpha, s=200 / len(data.keys()), ax=ax)  \n",
    "#     plt.show()\n",
    "\n",
    "# # Assuming nr1_df[\"Cluster Color\"] contains the colors for each cluster\n",
    "# formatted_scatter_matrixv1(nr1_df, fig_len=15, colors=nr1_df[\"Cluster Color\"])\n"
   ]
  },
  {
   "cell_type": "code",
   "execution_count": 60,
   "id": "1c43dd17",
   "metadata": {},
   "outputs": [],
   "source": [
    "# formatted_scatter_matrix(nr3_df, c =nr3_df[\"Cluster Color\"],fig_len = 15)"
   ]
  },
  {
   "cell_type": "code",
   "execution_count": 61,
   "id": "59f6ca08",
   "metadata": {},
   "outputs": [],
   "source": [
    "# formatted_scatter_matrix(nr4_df, c =nr4_df[\"Cluster Color\"],fig_len = 15)"
   ]
  },
  {
   "cell_type": "code",
   "execution_count": 62,
   "id": "d6806fd7",
   "metadata": {},
   "outputs": [],
   "source": [
    "# formatted_scatter_matrix(nr5_df, c =nr5_df[\"Cluster Color\"],fig_len = 15)"
   ]
  },
  {
   "cell_type": "code",
   "execution_count": 63,
   "id": "31535b64",
   "metadata": {},
   "outputs": [],
   "source": [
    "# formatted_scatter_matrix(nr6_df, c =nr6_df[\"Cluster Color\"],fig_len = 15)"
   ]
  },
  {
   "cell_type": "code",
   "execution_count": 64,
   "id": "c8dd6c8c",
   "metadata": {},
   "outputs": [],
   "source": [
    "# formatted_scatter_matrix(nr7_df, c =nr7_df[\"Cluster Color\"],fig_len = 15)"
   ]
  },
  {
   "cell_type": "code",
   "execution_count": 65,
   "id": "4c0da94b",
   "metadata": {},
   "outputs": [],
   "source": [
    "# formatted_scatter_matrix(nr8_df, c =nr8_df[\"Cluster Color\"],fig_len = 15)"
   ]
  },
  {
   "cell_type": "code",
   "execution_count": null,
   "id": "80ec11cd",
   "metadata": {},
   "outputs": [],
   "source": []
  },
  {
   "cell_type": "code",
   "execution_count": null,
   "id": "dab59d8a",
   "metadata": {},
   "outputs": [],
   "source": []
  },
  {
   "cell_type": "code",
   "execution_count": null,
   "id": "cea2ae8e",
   "metadata": {},
   "outputs": [],
   "source": []
  },
  {
   "cell_type": "code",
   "execution_count": 66,
   "id": "543de710",
   "metadata": {},
   "outputs": [],
   "source": [
    "# plot_df1[\"Cluster\"] = np.nan\n",
    "# plot_df1"
   ]
  },
  {
   "cell_type": "code",
   "execution_count": 67,
   "id": "abf55fc0",
   "metadata": {},
   "outputs": [],
   "source": [
    "# fig,ax = plt.subplots(figsize = (8,4))\n",
    "# kml3d_ai_level22.plot.scatter(x = \"Agri\", y = \"Util\", c = \"Mini\", cmap = \"viridis\", s = 5, ax = ax)\n",
    "# ax.set_title(\"$Agri \\\\leftarrow RM4_ \\\\rightarrow Mini$\")\n",
    "# for i in range(-5,5): ax.axhline(i, c = \"k\")"
   ]
  },
  {
   "cell_type": "code",
   "execution_count": 68,
   "id": "e391fa86",
   "metadata": {},
   "outputs": [],
   "source": [
    "# fig,ax = plt.subplots(figsize = (8,4))\n",
    "# kml3d_ai_level22.plot.scatter(x = \"RM4_\", y = \"RM4I\", c = \"unem\", cmap = \"viridis\", s = 5, ax = ax)\n",
    "# ax.set_title(\"$RM4_ \\\\rightarrow RM4I \\\\rightarrow unem$\")\n",
    "# for i in range(-10,2): ax.axhline(i, c = \"k\")"
   ]
  },
  {
   "cell_type": "code",
   "execution_count": 69,
   "id": "37ea03ac",
   "metadata": {},
   "outputs": [],
   "source": [
    "# fig,ax = plt.subplots(figsize = (8,4))\n",
    "# kml3d_ai_level22.plot.scatter(x = \"Util\", y = \"RM4_\", c = \"Agri\", cmap = \"viridis\", s = 5, ax = ax)\n",
    "# ax.set_title(\"$Util \\\\leftarrow RM4_ \\\\rightarrow Agri$\")\n",
    "# for i in range(-10,2): ax.axhline(i, c = \"k\")"
   ]
  },
  {
   "cell_type": "code",
   "execution_count": 70,
   "id": "3805c823",
   "metadata": {},
   "outputs": [],
   "source": [
    "# fig,ax = plt.subplots(figsize = (8,4))\n",
    "# kml3d_ai_level22.plot.scatter(x = \"Agri\", y = \"RM4_\", c = \"RM4I\", cmap = \"viridis\", s = 5, ax = ax)\n",
    "# ax.set_title(\"$Agri \\\\leftarrow RM4_ \\\\rightarrow RM4I$\")\n",
    "# for i in range(-10,2): ax.axhline(i, c = \"k\")"
   ]
  },
  {
   "cell_type": "code",
   "execution_count": 71,
   "id": "a3709520",
   "metadata": {},
   "outputs": [],
   "source": [
    "# fig,ax = plt.subplots(figsize = (8,4))\n",
    "# kml3d_ai_level22.plot.scatter(x = \"Util\", y = \"RM4_\", c = \"RM4I\", cmap = \"viridis\", s = 5, ax = ax)\n",
    "# ax.set_title(\"$Util \\\\leftarrow RM4_ \\\\rightarrow RM4I$\")\n",
    "# for i in range(-10,2): ax.axhline(i, c = \"k\")"
   ]
  },
  {
   "cell_type": "code",
   "execution_count": null,
   "id": "9eadeac1",
   "metadata": {},
   "outputs": [],
   "source": []
  }
 ],
 "metadata": {
  "kernelspec": {
   "display_name": "Python 3 (ipykernel)",
   "language": "python",
   "name": "python3"
  },
  "language_info": {
   "codemirror_mode": {
    "name": "ipython",
    "version": 3
   },
   "file_extension": ".py",
   "mimetype": "text/x-python",
   "name": "python",
   "nbconvert_exporter": "python",
   "pygments_lexer": "ipython3",
   "version": "3.7.13"
  }
 },
 "nbformat": 4,
 "nbformat_minor": 5
}
